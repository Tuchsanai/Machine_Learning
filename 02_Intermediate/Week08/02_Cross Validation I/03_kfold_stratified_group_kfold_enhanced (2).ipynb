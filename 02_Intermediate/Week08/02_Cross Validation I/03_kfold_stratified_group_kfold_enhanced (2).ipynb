{
  "cells": [
    {
      "cell_type": "markdown",
      "id": "7859fa15",
      "metadata": {},
      "source": [
        "[ENGLISH TRANSLATION REQUIRED] \n",
        "# 🧪 Lab: K-Fold, Stratified K-Fold, และ Group K-Fold (scikit-learn)\n",
        "\n",
        "**วัตถุประสงค์ของแลบนี้**  \n",
        "- เข้าใจแนวคิดและความแตกต่างของตัวแบ่งพับสำหรับ Cross-Validation\n",
        "- ทดลองใช้ `KFold`, `StratifiedKFold`, `GroupKFold`\n",
        "- ตรวจสอบสัดส่วนคลาสและการรั่วของกลุ่มในแต่ละพับ\n",
        "- โค้ดสั้น อ่านง่าย เหมาะกับผู้เริ่มต้น\n"
      ]
    },
    {
      "cell_type": "code",
      "execution_count": 13,
      "id": "b899504d",
      "metadata": {},
      "outputs": [
        {
          "name": "stdout",
          "output_type": "stream",
          "text": [
            "Libraries ready.\n"
          ]
        }
      ],
      "source": [
        "\n",
        "import numpy as np\n",
        "import pandas as pd\n",
        "import matplotlib.pyplot as plt\n",
        "\n",
        "from collections import Counter\n",
        "from sklearn.model_selection import KFold, StratifiedKFold, GroupKFold\n",
        "\n",
        "np.random.seed(42)\n",
        "print(\"Libraries ready.\")\n"
      ]
    },
    {
      "cell_type": "markdown",
      "id": "e4ba9909",
      "metadata": {},
      "source": [
        "[ENGLISH TRANSLATION REQUIRED] \n",
        "## 2) สร้างชุดข้อมูลตัวอย่างอย่างง่าย\n",
        "เราจะสร้างข้อมูลจำลองสำหรับ **classification** ที่มีคลาสไม่สมดุล และมี **กลุ่ม (groups)** เพื่อใช้กับตัวอย่าง Group K-Fold\n",
        "\n",
        "- ฟีเจอร์ `X` จะเป็นตัวเลขง่ายๆ เพื่อเน้นที่การแบ่งพับ ไม่ใช่ประสิทธิภาพโมเดล\n",
        "- เลเบล `y` จะมีสัดส่วน 0:1 = 3:1 (ไม่สมดุลเล็กน้อย)\n",
        "- กลุ่ม `groups` จะเป็นหมายเลขกลุ่ม เช่น ผู้ใช้ 1..10\n"
      ]
    },
    {
      "cell_type": "code",
      "execution_count": 14,
      "id": "ca115ca4",
      "metadata": {},
      "outputs": [
        {
          "data": {
            "text/html": [
              "<div>\n",
              "<style scoped>\n",
              "    .dataframe tbody tr th:only-of-type {\n",
              "        vertical-align: middle;\n",
              "    }\n",
              "\n",
              "    .dataframe tbody tr th {\n",
              "        vertical-align: top;\n",
              "    }\n",
              "\n",
              "    .dataframe thead th {\n",
              "        text-align: right;\n",
              "    }\n",
              "</style>\n",
              "<table border=\"1\" class=\"dataframe\">\n",
              "  <thead>\n",
              "    <tr style=\"text-align: right;\">\n",
              "      <th></th>\n",
              "      <th>x1</th>\n",
              "      <th>x2</th>\n",
              "      <th>y</th>\n",
              "      <th>group</th>\n",
              "    </tr>\n",
              "  </thead>\n",
              "  <tbody>\n",
              "    <tr>\n",
              "      <th>0</th>\n",
              "      <td>0.496714</td>\n",
              "      <td>-0.138264</td>\n",
              "      <td>0</td>\n",
              "      <td>1</td>\n",
              "    </tr>\n",
              "    <tr>\n",
              "      <th>1</th>\n",
              "      <td>0.647689</td>\n",
              "      <td>1.523030</td>\n",
              "      <td>1</td>\n",
              "      <td>1</td>\n",
              "    </tr>\n",
              "    <tr>\n",
              "      <th>2</th>\n",
              "      <td>-0.234153</td>\n",
              "      <td>-0.234137</td>\n",
              "      <td>1</td>\n",
              "      <td>1</td>\n",
              "    </tr>\n",
              "    <tr>\n",
              "      <th>3</th>\n",
              "      <td>1.579213</td>\n",
              "      <td>0.767435</td>\n",
              "      <td>0</td>\n",
              "      <td>1</td>\n",
              "    </tr>\n",
              "    <tr>\n",
              "      <th>4</th>\n",
              "      <td>-0.469474</td>\n",
              "      <td>0.542560</td>\n",
              "      <td>0</td>\n",
              "      <td>1</td>\n",
              "    </tr>\n",
              "    <tr>\n",
              "      <th>...</th>\n",
              "      <td>...</td>\n",
              "      <td>...</td>\n",
              "      <td>...</td>\n",
              "      <td>...</td>\n",
              "    </tr>\n",
              "    <tr>\n",
              "      <th>115</th>\n",
              "      <td>-0.730367</td>\n",
              "      <td>0.216459</td>\n",
              "      <td>0</td>\n",
              "      <td>10</td>\n",
              "    </tr>\n",
              "    <tr>\n",
              "      <th>116</th>\n",
              "      <td>0.045572</td>\n",
              "      <td>-0.651600</td>\n",
              "      <td>0</td>\n",
              "      <td>10</td>\n",
              "    </tr>\n",
              "    <tr>\n",
              "      <th>117</th>\n",
              "      <td>2.143944</td>\n",
              "      <td>0.633919</td>\n",
              "      <td>0</td>\n",
              "      <td>10</td>\n",
              "    </tr>\n",
              "    <tr>\n",
              "      <th>118</th>\n",
              "      <td>-2.025143</td>\n",
              "      <td>0.186454</td>\n",
              "      <td>0</td>\n",
              "      <td>10</td>\n",
              "    </tr>\n",
              "    <tr>\n",
              "      <th>119</th>\n",
              "      <td>-0.661786</td>\n",
              "      <td>0.852433</td>\n",
              "      <td>1</td>\n",
              "      <td>10</td>\n",
              "    </tr>\n",
              "  </tbody>\n",
              "</table>\n",
              "<p>120 rows × 4 columns</p>\n",
              "</div>"
            ],
            "text/plain": [
              "           x1        x2  y  group\n",
              "0    0.496714 -0.138264  0      1\n",
              "1    0.647689  1.523030  1      1\n",
              "2   -0.234153 -0.234137  1      1\n",
              "3    1.579213  0.767435  0      1\n",
              "4   -0.469474  0.542560  0      1\n",
              "..        ...       ... ..    ...\n",
              "115 -0.730367  0.216459  0     10\n",
              "116  0.045572 -0.651600  0     10\n",
              "117  2.143944  0.633919  0     10\n",
              "118 -2.025143  0.186454  0     10\n",
              "119 -0.661786  0.852433  1     10\n",
              "\n",
              "[120 rows x 4 columns]"
            ]
          },
          "execution_count": 14,
          "metadata": {},
          "output_type": "execute_result"
        }
      ],
      "source": [
        "\n",
        "# ขนาดข้อมูล\n",
        "n_groups = 10\n",
        "items_per_group = 12  # รวมทั้งชุด = 120 แถว\n",
        "\n",
        "# สร้างกลุ่ม\n",
        "groups = np.repeat(np.arange(1, n_groups + 1), items_per_group)\n",
        "\n",
        "# ฟีเจอร์อย่างง่าย: สุ่มตัวเลขปกติ\n",
        "X = np.random.normal(loc=0.0, scale=1.0, size=(n_groups * items_per_group, 2))\n",
        "\n",
        "# สร้างเลเบลไม่สมดุล: 0 มากกว่า 1\n",
        "# ทำให้กลุ่มต้นๆ มีแนวโน้มเป็นคลาส 0 มากกว่าเล็กน้อย\n",
        "y = np.zeros(n_groups * items_per_group, dtype=int)\n",
        "mask_minority = np.random.rand(n_groups * items_per_group) < 0.25  # ประมาณ 25% เป็นคลาส 1\n",
        "y[mask_minority] = 1\n",
        "\n",
        "# แปลงเป็น DataFrame เพื่อดูภาพรวมง่ายๆ\n",
        "df = pd.DataFrame(X, columns=[\"x1\", \"x2\"])\n",
        "df[\"y\"] = y\n",
        "df[\"group\"] = groups\n",
        "\n",
        "df\n"
      ]
    },
    {
      "cell_type": "code",
      "execution_count": 15,
      "id": "13555fef",
      "metadata": {},
      "outputs": [
        {
          "data": {
            "text/plain": [
              "<Axes: title={'center': 'Group Distribution'}, xlabel='group'>"
            ]
          },
          "execution_count": 15,
          "metadata": {},
          "output_type": "execute_result"
        },
        {
          "data": {
            "image/png": "[encoded data removed]",
            "text/plain": [
              "<Figure size 640x480 with 1 Axes>"
            ]
          },
          "metadata": {},
          "output_type": "display_data"
        }
      ],
      "source": [
        "df['group'].value_counts().plot(kind='bar', title='Group Distribution', color=['lightblue', 'lightgreen'])"
      ]
    },
    {
      "cell_type": "code",
      "execution_count": 16,
      "id": "cfe3b022",
      "metadata": {},
      "outputs": [
        {
          "data": {
            "text/plain": [
              "<Axes: title={'center': 'Class Distribution'}, xlabel='y'>"
            ]
          },
          "execution_count": 16,
          "metadata": {},
          "output_type": "execute_result"
        },
        {
          "data": {
            "image/png": "[encoded data removed]",
            "text/plain": [
              "<Figure size 640x480 with 1 Axes>"
            ]
          },
          "metadata": {},
          "output_type": "display_data"
        }
      ],
      "source": [
        "df['y'].value_counts().plot(kind='bar', title='Class Distribution', color=['blue', 'orange'])"
      ]
    },
    {
      "cell_type": "code",
      "execution_count": 17,
      "id": "a2a436ec",
      "metadata": {},
      "outputs": [
        {
          "data": {
            "text/plain": [
              "array([ 1,  1,  1,  1,  1,  1,  1,  1,  1,  1,  1,  1,  2,  2,  2,  2,  2,\n",
              "        2,  2,  2,  2,  2,  2,  2,  3,  3,  3,  3,  3,  3,  3,  3,  3,  3,\n",
              "        3,  3,  4,  4,  4,  4,  4,  4,  4,  4,  4,  4,  4,  4,  5,  5,  5,\n",
              "        5,  5,  5,  5,  5,  5,  5,  5,  5,  6,  6,  6,  6,  6,  6,  6,  6,\n",
              "        6,  6,  6,  6,  7,  7,  7,  7,  7,  7,  7,  7,  7,  7,  7,  7,  8,\n",
              "        8,  8,  8,  8,  8,  8,  8,  8,  8,  8,  8,  9,  9,  9,  9,  9,  9,\n",
              "        9,  9,  9,  9,  9,  9, 10, 10, 10, 10, 10, 10, 10, 10, 10, 10, 10,\n",
              "       10])"
            ]
          },
          "execution_count": 17,
          "metadata": {},
          "output_type": "execute_result"
        }
      ],
      "source": [
        "groups"
      ]
    },
    {
      "cell_type": "markdown",
      "id": "f21181b0",
      "metadata": {},
      "source": [
        "[ENGLISH TRANSLATION REQUIRED] \n",
        "## 3) ดูสัดส่วนคลาสรวม และจำนวนแถวต่อกลุ่ม\n",
        "เพื่อให้แน่ใจว่าเข้าใจข้อมูลก่อนเริ่มแบ่งพับ\n",
        "\n",
        "### ตัวอย่างเชิงรูปธรรม\n",
        "- พิมพ์ `y.value_counts(normalize=True)` เพื่อดูสัดส่วนรวม\n",
        "- พล็อตฮิสโตแกรมของ `x1`, `x2` อย่างง่าย เพื่อเห็นการกระจายเบื้องต้น\n",
        "- แสดงจำนวนแถวต่อกลุ่มด้วย `df.groupby('group').size()`\n",
        "\n",
        "**ข้อควรจำ**\n",
        "- ดูข้อมูลคร่าวๆ ก่อนเสมอ จะได้เลือกตัวแบ่งพับที่เหมาะ\n"
      ]
    },
    {
      "cell_type": "code",
      "execution_count": 18,
      "id": "1e32f644",
      "metadata": {},
      "outputs": [
        {
          "name": "stdout",
          "output_type": "stream",
          "text": [
            "รวมทั้งชุด: สัดส่วนคลาส = {0: 90, 1: 30}\n"
          ]
        },
        {
          "data": {
            "image/png": "[encoded data removed]",
            "text/plain": [
              "<Figure size 600x400 with 1 Axes>"
            ]
          },
          "metadata": {},
          "output_type": "display_data"
        }
      ],
      "source": [
        "\n",
        "# สัดส่วนคลาสรวม\n",
        "total_dist = dict(Counter(df[\"y\"]))\n",
        "print(\"รวมทั้งชุด: สัดส่วนคลาส =\", total_dist)\n",
        "\n",
        "# ตัวอย่างสรุปกลุ่ม\n",
        "group_sizes = df.groupby(\"group\").size()\n",
        "\n",
        "# วาดฮิสโตแกรมเล็กๆ ของฟีเจอร์ x1 แยกตามคลาส (รวมเป็นกราฟเดียว)\n",
        "plt.figure(figsize=(6,4))\n",
        "plt.hist(df.loc[df.y==0, \"x1\"], bins=20, alpha=0.6, label=\"y=0\")\n",
        "plt.hist(df.loc[df.y==1, \"x1\"], bins=20, alpha=0.6, label=\"y=1\")\n",
        "plt.title(\"Histogram of x1\")\n",
        "plt.xlabel(\"x1\")\n",
        "plt.ylabel(\"frequency\")\n",
        "plt.legend()\n",
        "plt.tight_layout()\n",
        "plt.show()\n"
      ]
    },
    {
      "cell_type": "markdown",
      "id": "4db9fca5",
      "metadata": {},
      "source": [
        "\n",
        "## 4.5) Train-Test Split\n",
        "Before diving into cross-validation methods, let's quickly perform a **train-test split** to see the basic way of splitting data into training and testing sets.\n",
        "\n",
        "We will use `train_test_split` from `sklearn.model_selection`.\n",
        "\n",
        "### ตัวอย่างเชิงรูปธรรม\n",
        "- แบ่ง 80/20 ด้วย `train_test_split`\n",
        "- ทดลอง `shuffle=False` เทียบกับ `shuffle=True` แล้วสังเกตการกระจายของ `y`\n",
        "- เมื่อ `y` ไม่สมดุล ให้ลอง `stratify=y` เพื่อรักษาสัดส่วนคลาส\n",
        "\n",
        "**ข้อผิดพลาดที่พบบ่อย**\n",
        "- ใส่ `stratify=y` ทั้งที่ `y` เป็นการถดถอยหรือมีค่าไม่ซ้ำเยอะ ทำให้ error ได้\n"
      ]
    },
    {
      "cell_type": "code",
      "execution_count": 19,
      "id": "56b504b4",
      "metadata": {},
      "outputs": [
        {
          "name": "stdout",
          "output_type": "stream",
          "text": [
            "Train size: 96 rows\n",
            "Test size : 24 rows\n",
            "Train class counts     : {0: 70, 1: 26}\n",
            "Test  class counts     : {0: 20, 1: 4}\n",
            "Train class proportions: {0: 0.7291666666666666, 1: 0.2708333333333333}\n",
            "Test  class proportions: {0: 0.8333333333333334, 1: 0.16666666666666666}\n"
          ]
        }
      ],
      "source": [
        "from sklearn.model_selection import train_test_split\n",
        "\n",
        "# Separate features and target\n",
        "X = df[['x1', 'x2']]\n",
        "y = df['y']\n",
        "\n",
        "# Perform train-test split\n",
        "X_train, X_test, y_train, y_test = train_test_split(\n",
        "    X, y, test_size=0.2, random_state=42\n",
        ")\n",
        "\n",
        "# Prepare counts and proportions\n",
        "train_counts = y_train.value_counts().to_dict()\n",
        "test_counts  = y_test.value_counts().to_dict()\n",
        "train_props  = y_train.value_counts(normalize=True).to_dict()\n",
        "test_props   = y_test.value_counts(normalize=True).to_dict()\n",
        "\n",
        "print(\"Train size:\", len(y_train), \"rows\")\n",
        "print(\"Test size :\", len(y_test), \"rows\")\n",
        "print(f\"Train class counts     : {train_counts}\")\n",
        "print(f\"Test  class counts     : {test_counts}\")\n",
        "print(f\"Train class proportions: {train_props}\")\n",
        "print(f\"Test  class proportions: {test_props}\")\n"
      ]
    },
    {
      "cell_type": "markdown",
      "id": "da6fce83",
      "metadata": {},
      "source": [
        "[ENGLISH TRANSLATION REQUIRED] \n",
        "## 5) K-Fold\n",
        "**แนวคิด:** แบ่งข้อมูลเป็น K ส่วนเท่าๆ กัน สลับกันเอา 1 ส่วนเป็น validation และที่เหลือเป็น train โดย **ไม่บังคับสัดส่วนคลาส** และ **ไม่คำนึงถึงกลุ่ม**\n",
        "\n",
        "**ใช้เมื่อ:**  \n",
        "- ไม่มีคลาสไม่สมดุลรุนแรง\n",
        "- ไม่มีความสัมพันธ์ซ้ำๆ ที่ต้องกันการรั่วระหว่าง train กับ val\n",
        "\n",
        "### ตัวอย่างเชิงรูปธรรม\n",
        "- ใช้ `KFold(n_splits=5, shuffle=True, random_state=42)`\n",
        "- โฟกัสดูสัดส่วนคลาสของแต่ละพับ จะเห็นว่าอาจเบี้ยวได้ เพราะ K-Fold ไม่รู้เรื่องคลาส\n",
        "\n",
        "**เหมาะกับ**\n",
        "- รีเกรสชัน หรือคลาสที่ค่อนข้างสมดุล และไม่มีความสัมพันธ์เป็นกลุ่ม\n"
      ]
    },
    {
      "cell_type": "code",
      "execution_count": 20,
      "id": "245c9b81",
      "metadata": {},
      "outputs": [
        {
          "name": "stdout",
          "output_type": "stream",
          "text": [
            "Fold 1\n",
            "Train size: 96, Test size: 24\n",
            "Train class counts     : {0: 70, 1: 26}\n",
            "Test  class counts     : {0: 20, 1: 4}\n",
            "Train class proportions : {0: 0.7291666666666666, 1: 0.2708333333333333}\n",
            "Test  class proportions : {0: 0.8333333333333334, 1: 0.16666666666666666}\n",
            "--------------------------------------------------\n",
            "Fold 2\n",
            "Train size: 96, Test size: 24\n",
            "Train class counts     : {0: 72, 1: 24}\n",
            "Test  class counts     : {0: 18, 1: 6}\n",
            "Train class proportions : {0: 0.75, 1: 0.25}\n",
            "Test  class proportions : {0: 0.75, 1: 0.25}\n",
            "--------------------------------------------------\n",
            "Fold 3\n",
            "Train size: 96, Test size: 24\n",
            "Train class counts     : {0: 71, 1: 25}\n",
            "Test  class counts     : {0: 19, 1: 5}\n",
            "Train class proportions : {0: 0.7395833333333334, 1: 0.2604166666666667}\n",
            "Test  class proportions : {0: 0.7916666666666666, 1: 0.20833333333333334}\n",
            "--------------------------------------------------\n",
            "Fold 4\n",
            "Train size: 96, Test size: 24\n",
            "Train class counts     : {0: 73, 1: 23}\n",
            "Test  class counts     : {0: 17, 1: 7}\n",
            "Train class proportions : {0: 0.7604166666666666, 1: 0.23958333333333334}\n",
            "Test  class proportions : {0: 0.7083333333333334, 1: 0.2916666666666667}\n",
            "--------------------------------------------------\n",
            "Fold 5\n",
            "Train size: 96, Test size: 24\n",
            "Train class counts     : {0: 74, 1: 22}\n",
            "Test  class counts     : {0: 16, 1: 8}\n",
            "Train class proportions : {0: 0.7708333333333334, 1: 0.22916666666666666}\n",
            "Test  class proportions : {0: 0.6666666666666666, 1: 0.3333333333333333}\n",
            "--------------------------------------------------\n"
          ]
        }
      ],
      "source": [
        "from sklearn.model_selection import KFold\n",
        "\n",
        "kf = KFold(n_splits=5, shuffle=True, random_state=42)\n",
        "\n",
        "fold = 0\n",
        "for train_index, test_index in kf.split(X):\n",
        "    fold += 1\n",
        "    y_train = y.iloc[train_index]\n",
        "    y_test  = y.iloc[test_index]\n",
        "\n",
        "    train_counts = y_train.value_counts().sort_index().to_dict()\n",
        "    test_counts  = y_test.value_counts().sort_index().to_dict()\n",
        "    train_props  = y_train.value_counts(normalize=True).sort_index().to_dict()\n",
        "    test_props   = y_test.value_counts(normalize=True).sort_index().to_dict()\n",
        "\n",
        "    print(f\"Fold {fold}\")\n",
        "    print(f\"Train size: {len(y_train)}, Test size: {len(y_test)}\")\n",
        "    print(f\"Train class counts     : {train_counts}\")\n",
        "    print(f\"Test  class counts     : {test_counts}\")\n",
        "    print(f\"Train class proportions : {train_props}\")\n",
        "    print(f\"Test  class proportions : {test_props}\")\n",
        "    print(\"-\" * 50)\n"
      ]
    },
    {
      "cell_type": "markdown",
      "id": "2ea5816c",
      "metadata": {},
      "source": [
        "[ENGLISH TRANSLATION REQUIRED] \n",
        "## 6) Stratified K-Fold\n",
        "**แนวคิด:** เหมือน K-Fold แต่ **รักษาสัดส่วนคลาส** ในแต่ละพับให้ใกล้เคียงทั้งชุด\n",
        "\n",
        "**ใช้เมื่อ:**  \n",
        "- ปัญหาเป็น **classification**\n",
        "- คลาส **ไม่สมดุล** และต้องการประเมินอย่างยุติธรรม\n",
        "\n",
        "### ตัวอย่างเชิงรูปธรรม\n",
        "- ใช้ `StratifiedKFold(n_splits=5, shuffle=True, random_state=42)`\n",
        "- ดูสัดส่วนคลาสของ train/test ในแต่ละพับ จะใกล้เคียงกันกว่ามาก\n",
        "\n",
        "**เหมาะกับ**\n",
        "- งานจัดหมวดหมู่ที่คลาสไม่สมดุล ต้องการรักษาสัดส่วนคลาสทุกพับ\n"
      ]
    },
    {
      "cell_type": "code",
      "execution_count": 21,
      "id": "e0dd95d2",
      "metadata": {},
      "outputs": [
        {
          "name": "stdout",
          "output_type": "stream",
          "text": [
            "Fold 1\n",
            "Train size: 96, Test size: 24\n",
            "Train class counts     : {0: 72, 1: 24}\n",
            "Test  class counts     : {0: 18, 1: 6}\n",
            "Train class proportions: {0: 0.75, 1: 0.25}\n",
            "Test  class proportions: {0: 0.75, 1: 0.25}\n",
            "--------------------------------------------------\n",
            "Fold 2\n",
            "Train size: 96, Test size: 24\n",
            "Train class counts     : {0: 72, 1: 24}\n",
            "Test  class counts     : {0: 18, 1: 6}\n",
            "Train class proportions: {0: 0.75, 1: 0.25}\n",
            "Test  class proportions: {0: 0.75, 1: 0.25}\n",
            "--------------------------------------------------\n",
            "Fold 3\n",
            "Train size: 96, Test size: 24\n",
            "Train class counts     : {0: 72, 1: 24}\n",
            "Test  class counts     : {0: 18, 1: 6}\n",
            "Train class proportions: {0: 0.75, 1: 0.25}\n",
            "Test  class proportions: {0: 0.75, 1: 0.25}\n",
            "--------------------------------------------------\n",
            "Fold 4\n",
            "Train size: 96, Test size: 24\n",
            "Train class counts     : {0: 72, 1: 24}\n",
            "Test  class counts     : {0: 18, 1: 6}\n",
            "Train class proportions: {0: 0.75, 1: 0.25}\n",
            "Test  class proportions: {0: 0.75, 1: 0.25}\n",
            "--------------------------------------------------\n",
            "Fold 5\n",
            "Train size: 96, Test size: 24\n",
            "Train class counts     : {0: 72, 1: 24}\n",
            "Test  class counts     : {0: 18, 1: 6}\n",
            "Train class proportions: {0: 0.75, 1: 0.25}\n",
            "Test  class proportions: {0: 0.75, 1: 0.25}\n",
            "--------------------------------------------------\n"
          ]
        }
      ],
      "source": [
        "from sklearn.model_selection import StratifiedKFold\n",
        "\n",
        "skf = StratifiedKFold(n_splits=5, shuffle=True, random_state=42)\n",
        "\n",
        "for fold, (train_idx, test_idx) in enumerate(skf.split(X, y), start=1):\n",
        "    y_train, y_test = y.iloc[train_idx], y.iloc[test_idx]\n",
        "    train_counts = y_train.value_counts().to_dict()\n",
        "    test_counts  = y_test.value_counts().to_dict()\n",
        "    train_props  = y_train.value_counts(normalize=True).to_dict()\n",
        "    test_props   = y_test.value_counts(normalize=True).to_dict()\n",
        "\n",
        "    print(f\"Fold {fold}\")\n",
        "    print(f\"Train size: {len(train_idx)}, Test size: {len(test_idx)}\")\n",
        "    print(f\"Train class counts     : {train_counts}\")\n",
        "    print(f\"Test  class counts     : {test_counts}\")\n",
        "    print(f\"Train class proportions: {train_props}\")\n",
        "    print(f\"Test  class proportions: {test_props}\")\n",
        "    print(\"-\" * 50)\n"
      ]
    },
    {
      "cell_type": "markdown",
      "id": "0c0d4e31",
      "metadata": {},
      "source": [
        "[ENGLISH TRANSLATION REQUIRED] \n",
        "## 7) Group K-Fold\n",
        "**แนวคิด:** แบ่งด้วย **กลุ่ม** โดย **กลุ่มเดียวกันจะอยู่ได้แค่พับเดียว** จึงช่วยกันข้อมูลรั่วระหว่าง train กับ val ได้ดีเมื่อข้อมูลในกลุ่มมีลักษณะคล้ายกันมาก\n",
        "\n",
        "**ใช้เมื่อ:**  \n",
        "- มีตัวตนซ้ำๆ เช่น `user_id`, `session_id`, `product_id`\n",
        "- ต้องการให้ข้อมูลของกลุ่มเดียวกันไม่โผล่ทั้งใน train และ val พร้อมกัน\n",
        "\n",
        "### ตัวอย่างเชิงรูปธรรม\n",
        "- ใช้ `GroupKFold(n_splits=5)` โดยส่ง `groups` เข้าไปใน `split(X, y, groups)`\n",
        "- ตรวจสอบว่ากลุ่มใน train กับ test ไม่ซ้ำกันเลยในแต่ละพับ\n",
        "\n",
        "**เหมาะกับ**\n",
        "- ข้อมูลที่มีหลายแถวต่อผู้ใช้/สินค้า/เซสชันเดียวกัน ต้องหลีกเลี่ยงการรั่วไหลระหว่าง train กับ test\n"
      ]
    },
    {
      "cell_type": "code",
      "execution_count": 22,
      "id": "e2d617ad",
      "metadata": {},
      "outputs": [
        {
          "name": "stdout",
          "output_type": "stream",
          "text": [
            "Fold 1\n",
            "Train size: 96, Test size: 24\n",
            "Train groups: {1, 2, 3, 4, 6, 7, 8, 9}\n",
            "Test  groups: {10, 5}\n",
            "Train class counts     : {0: 71, 1: 25}\n",
            "Test  class counts     : {0: 19, 1: 5}\n",
            "Train class proportions: {0: 0.7395833333333334, 1: 0.2604166666666667}\n",
            "Test  class proportions: {0: 0.7916666666666666, 1: 0.20833333333333334}\n",
            "--------------------------------------------------\n",
            "Fold 2\n",
            "Train size: 96, Test size: 24\n",
            "Train groups: {1, 2, 3, 5, 6, 7, 8, 10}\n",
            "Test  groups: {9, 4}\n",
            "Train class counts     : {0: 72, 1: 24}\n",
            "Test  class counts     : {0: 18, 1: 6}\n",
            "Train class proportions: {0: 0.75, 1: 0.25}\n",
            "Test  class proportions: {0: 0.75, 1: 0.25}\n",
            "--------------------------------------------------\n",
            "Fold 3\n",
            "Train size: 96, Test size: 24\n",
            "Train groups: {1, 2, 4, 5, 6, 7, 9, 10}\n",
            "Test  groups: {8, 3}\n",
            "Train class counts     : {0: 71, 1: 25}\n",
            "Test  class counts     : {0: 19, 1: 5}\n",
            "Train class proportions: {0: 0.7395833333333334, 1: 0.2604166666666667}\n",
            "Test  class proportions: {0: 0.7916666666666666, 1: 0.20833333333333334}\n",
            "--------------------------------------------------\n",
            "Fold 4\n",
            "Train size: 96, Test size: 24\n",
            "Train groups: {1, 3, 4, 5, 6, 8, 9, 10}\n",
            "Test  groups: {2, 7}\n",
            "Train class counts     : {0: 70, 1: 26}\n",
            "Test  class counts     : {0: 20, 1: 4}\n",
            "Train class proportions: {0: 0.7291666666666666, 1: 0.2708333333333333}\n",
            "Test  class proportions: {0: 0.8333333333333334, 1: 0.16666666666666666}\n",
            "--------------------------------------------------\n",
            "Fold 5\n",
            "Train size: 96, Test size: 24\n",
            "Train groups: {2, 3, 4, 5, 7, 8, 9, 10}\n",
            "Test  groups: {1, 6}\n",
            "Train class counts     : {0: 76, 1: 20}\n",
            "Test  class counts     : {0: 14, 1: 10}\n",
            "Train class proportions: {0: 0.7916666666666666, 1: 0.20833333333333334}\n",
            "Test  class proportions: {0: 0.5833333333333334, 1: 0.4166666666666667}\n",
            "--------------------------------------------------\n"
          ]
        }
      ],
      "source": [
        "from sklearn.model_selection import GroupKFold\n",
        "\n",
        "gkf = GroupKFold(n_splits=5)\n",
        "\n",
        "for fold, (train_idx, test_idx) in enumerate(gkf.split(X, y, groups=groups), start=1):\n",
        "    y_train, y_test = y.iloc[train_idx], y.iloc[test_idx]\n",
        "    train_counts = y_train.value_counts().to_dict()\n",
        "    test_counts  = y_test.value_counts().to_dict()\n",
        "    train_props  = y_train.value_counts(normalize=True).to_dict()\n",
        "    test_props   = y_test.value_counts(normalize=True).to_dict()\n",
        "\n",
        "    print(f\"Fold {fold}\")\n",
        "    print(f\"Train size: {len(train_idx)}, Test size: {len(test_idx)}\")\n",
        "    print(f\"Train groups: {set(groups[train_idx])}\")\n",
        "    print(f\"Test  groups: {set(groups[test_idx])}\")\n",
        "    print(f\"Train class counts     : {train_counts}\")\n",
        "    print(f\"Test  class counts     : {test_counts}\")\n",
        "    print(f\"Train class proportions: {train_props}\")\n",
        "    print(f\"Test  class proportions: {test_props}\")\n",
        "    print(\"-\" * 50)\n"
      ]
    },
    {
      "cell_type": "markdown",
      "metadata": {},
      "source": [
        "## ตารางสรุปการเลือกตัวแบ่งพับ\n",
        "\n",
        "| Splitter | รักษาสัดส่วนคลาส? | กันกลุ่มรั่วไหล? | ใช้เมื่อไหร่ |\n",
        "|---|---|---|---|\n",
        "| K-Fold | ไม่ | ไม่ | งานทั่วไปที่ไม่มี imbalance และไม่มีโครงสร้างกลุ่ม |\n",
        "| Stratified K-Fold | ใช่ | ไม่ | จัดหมวดหมู่ที่คลาสไม่สมดุล ต้องการสัดส่วนใกล้เคียงทุกพับ |\n",
        "| Group K-Fold | ไม่ | ใช่ | มีหลายแถวต่อผู้ใช้/สินค้า/เซสชัน ต้องกันข้อมูลข้ามกัน |\n",
        "\n",
        "> เคล็ดลัด: ถ้าคุณลังเลระหว่างสามตัวนี้ ให้ถามสองคำถาม:  \n",
        "> 1) มีความสัมพันธ์เป็นกลุ่มหรือไม่? ถ้าใช่ ให้ใช้ Group K-Fold  \n",
        "> 2) คลาสไม่สมดุลหรือไม่? ถ้าใช่ ให้ใช้ Stratified K-Fold  \n",
        "> ถ้าไม่ใช่ทั้งคู่ ใช้ K-Fold ได้เลย"
      ]
    }
  ],
  "metadata": {
    "kernelspec": {
      "display_name": "Python 3",
      "language": "python",
      "name": "python3"
    },
    "language_info": {
      "codemirror_mode": {
        "name": "ipython",
        "version": 3
      },
      "file_extension": ".py",
      "mimetype": "text/x-python",
      "name": "python",
      "nbconvert_exporter": "python",
      "pygments_lexer": "ipython3",
      "version": "3.12.3"
    }
  },
  "nbformat": 4,
  "nbformat_minor": 5
}
