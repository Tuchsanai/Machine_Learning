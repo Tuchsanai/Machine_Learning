{
  "cells": [
    {
      "cell_type": "markdown",
      "metadata": {},
      "source": [
        "# SVM Cross Validation (Pure For-Loops) + GridSearchCV\n",
        "### With Best-Parameter Tables per Method and Overall Summaries\n",
        "\n",
        "- Model: **SVM (SVC)** only\n",
        "- Datasets: **Iris**, **Wine**, **Breast Cancer**\n",
        "- Splitters: **KFold**, **StratifiedKFold**, **GroupKFold**\n",
        "- Implementation: **No helper functions**, manual `for` loops only\n",
        "- Hyperparameter search: **GridSearchCV**\n",
        "- Scaling: `StandardScaler` fit on train of each outer fold only\n"
      ]
    },
    {
      "cell_type": "code",
      "execution_count": 1,
      "metadata": {},
      "outputs": [],
      "source": [
        "# ============================================\n",
        "# Imports\n",
        "# ============================================\n",
        "import numpy as np\n",
        "import pandas as pd\n",
        "import json\n",
        "from sklearn.datasets import load_iris, load_wine, load_breast_cancer\n",
        "from sklearn.model_selection import KFold, StratifiedKFold, GroupKFold, GridSearchCV\n",
        "from sklearn.preprocessing import StandardScaler\n",
        "from sklearn.svm import SVC\n",
        "from sklearn.metrics import accuracy_score, f1_score\n",
        "import warnings\n",
        "warnings.filterwarnings('ignore')\n",
        "\n",
        "RANDOM_STATE = 42\n",
        "np.random.seed(RANDOM_STATE)\n",
        "results_all = []  # will store per-fold outcomes across all datasets & splitters\n"
      ]
    },
    {
      "cell_type": "code",
      "execution_count": 2,
      "metadata": {},
      "outputs": [],
      "source": [
        "# ============================================\n",
        "# GridSearch parameters for SVC\n",
        "# ============================================\n",
        "param_grid = {\n",
        "    'kernel': ['linear', 'rbf'],\n",
        "    'C': [0.1, 1, 10, 100],\n",
        "    'gamma': ['scale', 'auto', 0.01, 0.1, 1.0]\n",
        "}\n"
      ]
    },
    {
      "cell_type": "markdown",
      "metadata": {},
      "source": [
        "## Dataset: Iris\n",
        "โหลดและเตรียมข้อมูล พร้อมสร้างกลุ่มสุ่ม 5 กลุ่มสำหรับสาธิต GroupKFold\n"
      ]
    },
    {
      "cell_type": "code",
      "execution_count": 3,
      "metadata": {},
      "outputs": [
        {
          "name": "stdout",
          "output_type": "stream",
          "text": [
            "Dataset: Iris | X shape: (150, 4) | y shape: (150,)\n"
          ]
        }
      ],
      "source": [
        "# ============================================\n",
        "# Load Iris\n",
        "# ============================================\n",
        "iris = load_iris()\n",
        "feature_names = iris.feature_names\n",
        "X_raw = iris.data\n",
        "y_raw = iris.target\n",
        "X = pd.DataFrame(X_raw, columns=feature_names)\n",
        "y = pd.Series(y_raw, name='target')\n",
        "\n",
        "# Random groups for GroupKFold demo (0..4)\n",
        "groups = np.random.randint(0, 5, size=len(y))\n",
        "print('Dataset:', 'Iris', '| X shape:', X.shape, '| y shape:', y.shape)\n"
      ]
    },
    {
      "cell_type": "code",
      "execution_count": 4,
      "metadata": {},
      "outputs": [
        {
          "name": "stdout",
          "output_type": "stream",
          "text": [
            "\n",
            "===== K-Fold Cross Validation =====\n",
            "Fold 1 - Best Params: {'C': 1, 'gamma': 'scale', 'kernel': 'linear'} - Acc: 0.9667 - F1(macro): 0.9659\n",
            "Fold 2 - Best Params: {'C': 1, 'gamma': 'scale', 'kernel': 'linear'} - Acc: 0.9667 - F1(macro): 0.9585\n",
            "Fold 3 - Best Params: {'C': 1, 'gamma': 'scale', 'kernel': 'linear'} - Acc: 0.9667 - F1(macro): 0.9628\n",
            "Fold 4 - Best Params: {'C': 1, 'gamma': 'scale', 'kernel': 'rbf'} - Acc: 0.9333 - F1(macro): 0.9389\n",
            "Fold 5 - Best Params: {'C': 1, 'gamma': 'scale', 'kernel': 'linear'} - Acc: 1.0000 - F1(macro): 1.0000\n"
          ]
        }
      ],
      "source": [
        "# ============================================\n",
        "# 1) K-Fold\n",
        "# ============================================\n",
        "print('\\n===== K-Fold Cross Validation =====')\n",
        "kf = KFold(n_splits=5, shuffle=True, random_state=RANDOM_STATE)\n",
        "fold = 0\n",
        "for train_index, test_index in kf.split(X):\n",
        "    fold += 1\n",
        "    X_train, X_test = X.iloc[train_index], X.iloc[test_index]\n",
        "    y_train, y_test = y.iloc[train_index], y.iloc[test_index]\n",
        "\n",
        "    scaler = StandardScaler()\n",
        "    X_train_scaled = scaler.fit_transform(X_train)\n",
        "    X_test_scaled  = scaler.transform(X_test)\n",
        "\n",
        "    grid = GridSearchCV(SVC(), param_grid, cv=3, n_jobs=-1)\n",
        "    grid.fit(X_train_scaled, y_train)\n",
        "    y_pred = grid.predict(X_test_scaled)\n",
        "    acc = accuracy_score(y_test, y_pred)\n",
        "    f1m = f1_score(y_test, y_pred, average='macro')\n",
        "    print(f\"Fold {fold} - Best Params: {grid.best_params_} - Acc: {acc:.4f} - F1(macro): {f1m:.4f}\")\n",
        "    results_all.append({'dataset': 'Iris', 'splitter': 'KFold', 'fold': fold,\n",
        "                        'accuracy': acc, 'f1_macro': f1m, 'best_params': grid.best_params_})\n"
      ]
    },
    {
      "cell_type": "code",
      "execution_count": 5,
      "metadata": {},
      "outputs": [
        {
          "name": "stdout",
          "output_type": "stream",
          "text": [
            "\n",
            "===== Stratified K-Fold Cross Validation =====\n",
            "Fold 1 - Best Params: {'C': 10, 'gamma': 'scale', 'kernel': 'rbf'} - Acc: 1.0000 - F1(macro): 1.0000\n",
            "Fold 2 - Best Params: {'C': 10, 'gamma': 'scale', 'kernel': 'rbf'} - Acc: 0.9667 - F1(macro): 0.9666\n",
            "Fold 3 - Best Params: {'C': 1, 'gamma': 'scale', 'kernel': 'linear'} - Acc: 0.8667 - F1(macro): 0.8653\n",
            "Fold 4 - Best Params: {'C': 10, 'gamma': 0.01, 'kernel': 'rbf'} - Acc: 1.0000 - F1(macro): 1.0000\n",
            "Fold 5 - Best Params: {'C': 100, 'gamma': 0.01, 'kernel': 'rbf'} - Acc: 0.9667 - F1(macro): 0.9666\n"
          ]
        }
      ],
      "source": [
        "# ============================================\n",
        "# 2) Stratified K-Fold\n",
        "# ============================================\n",
        "print('\\n===== Stratified K-Fold Cross Validation =====')\n",
        "skf = StratifiedKFold(n_splits=5, shuffle=True, random_state=RANDOM_STATE)\n",
        "fold = 0\n",
        "for train_index, test_index in skf.split(X, y):\n",
        "    fold += 1\n",
        "    X_train, X_test = X.iloc[train_index], X.iloc[test_index]\n",
        "    y_train, y_test = y.iloc[train_index], y.iloc[test_index]\n",
        "\n",
        "    scaler = StandardScaler()\n",
        "    X_train_scaled = scaler.fit_transform(X_train)\n",
        "    X_test_scaled  = scaler.transform(X_test)\n",
        "\n",
        "    grid = GridSearchCV(SVC(), param_grid, cv=3, n_jobs=-1)\n",
        "    grid.fit(X_train_scaled, y_train)\n",
        "    y_pred = grid.predict(X_test_scaled)\n",
        "    acc = accuracy_score(y_test, y_pred)\n",
        "    f1m = f1_score(y_test, y_pred, average='macro')\n",
        "    print(f\"Fold {fold} - Best Params: {grid.best_params_} - Acc: {acc:.4f} - F1(macro): {f1m:.4f}\")\n",
        "    results_all.append({'dataset': 'Iris', 'splitter': 'StratifiedKFold', 'fold': fold,\n",
        "                        'accuracy': acc, 'f1_macro': f1m, 'best_params': grid.best_params_})\n"
      ]
    },
    {
      "cell_type": "code",
      "execution_count": 6,
      "metadata": {},
      "outputs": [
        {
          "name": "stdout",
          "output_type": "stream",
          "text": [
            "\n",
            "===== Group K-Fold Cross Validation =====\n",
            "Fold 1 - Groups Test: {np.int32(3)} - Best Params: {'C': 1, 'gamma': 'scale', 'kernel': 'linear'} - Acc: 0.9500 - F1(macro): 0.9500\n",
            "Fold 2 - Groups Test: {np.int32(4)} - Best Params: {'C': 1, 'gamma': 'scale', 'kernel': 'linear'} - Acc: 0.9000 - F1(macro): 0.8977\n",
            "Fold 3 - Groups Test: {np.int32(1)} - Best Params: {'C': 1, 'gamma': 'scale', 'kernel': 'linear'} - Acc: 1.0000 - F1(macro): 1.0000\n",
            "Fold 4 - Groups Test: {np.int32(2)} - Best Params: {'C': 1, 'gamma': 'scale', 'kernel': 'linear'} - Acc: 0.9630 - F1(macro): 0.9585\n",
            "Fold 5 - Groups Test: {np.int32(0)} - Best Params: {'C': 1, 'gamma': 'scale', 'kernel': 'linear'} - Acc: 0.9600 - F1(macro): 0.9619\n"
          ]
        }
      ],
      "source": [
        "# ============================================\n",
        "# 3) Group K-Fold\n",
        "# ============================================\n",
        "print('\\n===== Group K-Fold Cross Validation =====')\n",
        "gkf = GroupKFold(n_splits=5)\n",
        "fold = 0\n",
        "for train_index, test_index in gkf.split(X, y, groups=groups):\n",
        "    fold += 1\n",
        "    X_train, X_test = X.iloc[train_index], X.iloc[test_index]\n",
        "    y_train, y_test = y.iloc[train_index], y.iloc[test_index]\n",
        "\n",
        "    scaler = StandardScaler()\n",
        "    X_train_scaled = scaler.fit_transform(X_train)\n",
        "    X_test_scaled  = scaler.transform(X_test)\n",
        "\n",
        "    grid = GridSearchCV(SVC(), param_grid, cv=3, n_jobs=-1)\n",
        "    grid.fit(X_train_scaled, y_train)\n",
        "    y_pred = grid.predict(X_test_scaled)\n",
        "    acc = accuracy_score(y_test, y_pred)\n",
        "    f1m = f1_score(y_test, y_pred, average='macro')\n",
        "    print(f\"Fold {fold} - Groups Test: {set(groups[test_index])} - Best Params: {grid.best_params_} - Acc: {acc:.4f} - F1(macro): {f1m:.4f}\")\n",
        "    results_all.append({'dataset': 'Iris', 'splitter': 'GroupKFold', 'fold': fold,\n",
        "                        'accuracy': acc, 'f1_macro': f1m, 'best_params': grid.best_params_})\n"
      ]
    },
    {
      "cell_type": "markdown",
      "metadata": {},
      "source": [
        "## Dataset: Wine\n",
        "โหลดและเตรียมข้อมูล พร้อมสร้างกลุ่มสุ่ม 5 กลุ่มสำหรับสาธิต GroupKFold\n"
      ]
    },
    {
      "cell_type": "code",
      "execution_count": 7,
      "metadata": {},
      "outputs": [
        {
          "name": "stdout",
          "output_type": "stream",
          "text": [
            "Dataset: Wine | X shape: (178, 13) | y shape: (178,)\n"
          ]
        }
      ],
      "source": [
        "# ============================================\n",
        "# Load Wine\n",
        "# ============================================\n",
        "wine = load_wine()\n",
        "feature_names = wine.feature_names\n",
        "X_raw = wine.data\n",
        "y_raw = wine.target\n",
        "X = pd.DataFrame(X_raw, columns=feature_names)\n",
        "y = pd.Series(y_raw, name='target')\n",
        "\n",
        "# Random groups for GroupKFold demo (0..4)\n",
        "groups = np.random.randint(0, 5, size=len(y))\n",
        "print('Dataset:', 'Wine', '| X shape:', X.shape, '| y shape:', y.shape)\n"
      ]
    },
    {
      "cell_type": "code",
      "execution_count": 8,
      "metadata": {},
      "outputs": [
        {
          "name": "stdout",
          "output_type": "stream",
          "text": [
            "\n",
            "===== K-Fold Cross Validation =====\n",
            "Fold 1 - Best Params: {'C': 10, 'gamma': 'scale', 'kernel': 'rbf'} - Acc: 1.0000 - F1(macro): 1.0000\n",
            "Fold 2 - Best Params: {'C': 1, 'gamma': 0.01, 'kernel': 'rbf'} - Acc: 1.0000 - F1(macro): 1.0000\n",
            "Fold 3 - Best Params: {'C': 1, 'gamma': 'scale', 'kernel': 'rbf'} - Acc: 0.9722 - F1(macro): 0.9729\n",
            "Fold 4 - Best Params: {'C': 10, 'gamma': 'scale', 'kernel': 'rbf'} - Acc: 0.9714 - F1(macro): 0.9708\n",
            "Fold 5 - Best Params: {'C': 1, 'gamma': 'scale', 'kernel': 'rbf'} - Acc: 0.9714 - F1(macro): 0.9710\n"
          ]
        }
      ],
      "source": [
        "# ============================================\n",
        "# 1) K-Fold\n",
        "# ============================================\n",
        "print('\\n===== K-Fold Cross Validation =====')\n",
        "kf = KFold(n_splits=5, shuffle=True, random_state=RANDOM_STATE)\n",
        "fold = 0\n",
        "for train_index, test_index in kf.split(X):\n",
        "    fold += 1\n",
        "    X_train, X_test = X.iloc[train_index], X.iloc[test_index]\n",
        "    y_train, y_test = y.iloc[train_index], y.iloc[test_index]\n",
        "\n",
        "    scaler = StandardScaler()\n",
        "    X_train_scaled = scaler.fit_transform(X_train)\n",
        "    X_test_scaled  = scaler.transform(X_test)\n",
        "\n",
        "    grid = GridSearchCV(SVC(), param_grid, cv=3, n_jobs=-1)\n",
        "    grid.fit(X_train_scaled, y_train)\n",
        "    y_pred = grid.predict(X_test_scaled)\n",
        "    acc = accuracy_score(y_test, y_pred)\n",
        "    f1m = f1_score(y_test, y_pred, average='macro')\n",
        "    print(f\"Fold {fold} - Best Params: {grid.best_params_} - Acc: {acc:.4f} - F1(macro): {f1m:.4f}\")\n",
        "    results_all.append({'dataset': 'Wine', 'splitter': 'KFold', 'fold': fold,\n",
        "                        'accuracy': acc, 'f1_macro': f1m, 'best_params': grid.best_params_})\n"
      ]
    },
    {
      "cell_type": "code",
      "execution_count": 9,
      "metadata": {},
      "outputs": [
        {
          "name": "stdout",
          "output_type": "stream",
          "text": [
            "\n",
            "===== Stratified K-Fold Cross Validation =====\n",
            "Fold 1 - Best Params: {'C': 1, 'gamma': 'scale', 'kernel': 'rbf'} - Acc: 0.9444 - F1(macro): 0.9458\n",
            "Fold 2 - Best Params: {'C': 10, 'gamma': 'scale', 'kernel': 'rbf'} - Acc: 1.0000 - F1(macro): 1.0000\n",
            "Fold 3 - Best Params: {'C': 10, 'gamma': 0.01, 'kernel': 'rbf'} - Acc: 0.9444 - F1(macro): 0.9407\n",
            "Fold 4 - Best Params: {'C': 1, 'gamma': 0.01, 'kernel': 'rbf'} - Acc: 0.9714 - F1(macro): 0.9701\n",
            "Fold 5 - Best Params: {'C': 10, 'gamma': 'scale', 'kernel': 'rbf'} - Acc: 1.0000 - F1(macro): 1.0000\n"
          ]
        }
      ],
      "source": [
        "# ============================================\n",
        "# 2) Stratified K-Fold\n",
        "# ============================================\n",
        "print('\\n===== Stratified K-Fold Cross Validation =====')\n",
        "skf = StratifiedKFold(n_splits=5, shuffle=True, random_state=RANDOM_STATE)\n",
        "fold = 0\n",
        "for train_index, test_index in skf.split(X, y):\n",
        "    fold += 1\n",
        "    X_train, X_test = X.iloc[train_index], X.iloc[test_index]\n",
        "    y_train, y_test = y.iloc[train_index], y.iloc[test_index]\n",
        "\n",
        "    scaler = StandardScaler()\n",
        "    X_train_scaled = scaler.fit_transform(X_train)\n",
        "    X_test_scaled  = scaler.transform(X_test)\n",
        "\n",
        "    grid = GridSearchCV(SVC(), param_grid, cv=3, n_jobs=-1)\n",
        "    grid.fit(X_train_scaled, y_train)\n",
        "    y_pred = grid.predict(X_test_scaled)\n",
        "    acc = accuracy_score(y_test, y_pred)\n",
        "    f1m = f1_score(y_test, y_pred, average='macro')\n",
        "    print(f\"Fold {fold} - Best Params: {grid.best_params_} - Acc: {acc:.4f} - F1(macro): {f1m:.4f}\")\n",
        "    results_all.append({'dataset': 'Wine', 'splitter': 'StratifiedKFold', 'fold': fold,\n",
        "                        'accuracy': acc, 'f1_macro': f1m, 'best_params': grid.best_params_})\n"
      ]
    },
    {
      "cell_type": "code",
      "execution_count": 10,
      "metadata": {},
      "outputs": [
        {
          "name": "stdout",
          "output_type": "stream",
          "text": [
            "\n",
            "===== Group K-Fold Cross Validation =====\n",
            "Fold 1 - Groups Test: {np.int32(0)} - Best Params: {'C': 10, 'gamma': 'scale', 'kernel': 'rbf'} - Acc: 1.0000 - F1(macro): 1.0000\n",
            "Fold 2 - Groups Test: {np.int32(2)} - Best Params: {'C': 0.1, 'gamma': 'scale', 'kernel': 'linear'} - Acc: 0.9500 - F1(macro): 0.9488\n",
            "Fold 3 - Groups Test: {np.int32(3)} - Best Params: {'C': 1, 'gamma': 'scale', 'kernel': 'rbf'} - Acc: 1.0000 - F1(macro): 1.0000\n",
            "Fold 4 - Groups Test: {np.int32(1)} - Best Params: {'C': 10, 'gamma': 0.1, 'kernel': 'rbf'} - Acc: 1.0000 - F1(macro): 1.0000\n",
            "Fold 5 - Groups Test: {np.int32(4)} - Best Params: {'C': 10, 'gamma': 'scale', 'kernel': 'rbf'} - Acc: 1.0000 - F1(macro): 1.0000\n"
          ]
        }
      ],
      "source": [
        "# ============================================\n",
        "# 3) Group K-Fold\n",
        "# ============================================\n",
        "print('\\n===== Group K-Fold Cross Validation =====')\n",
        "gkf = GroupKFold(n_splits=5)\n",
        "fold = 0\n",
        "for train_index, test_index in gkf.split(X, y, groups=groups):\n",
        "    fold += 1\n",
        "    X_train, X_test = X.iloc[train_index], X.iloc[test_index]\n",
        "    y_train, y_test = y.iloc[train_index], y.iloc[test_index]\n",
        "\n",
        "    scaler = StandardScaler()\n",
        "    X_train_scaled = scaler.fit_transform(X_train)\n",
        "    X_test_scaled  = scaler.transform(X_test)\n",
        "\n",
        "    grid = GridSearchCV(SVC(), param_grid, cv=3, n_jobs=-1)\n",
        "    grid.fit(X_train_scaled, y_train)\n",
        "    y_pred = grid.predict(X_test_scaled)\n",
        "    acc = accuracy_score(y_test, y_pred)\n",
        "    f1m = f1_score(y_test, y_pred, average='macro')\n",
        "    print(f\"Fold {fold} - Groups Test: {set(groups[test_index])} - Best Params: {grid.best_params_} - Acc: {acc:.4f} - F1(macro): {f1m:.4f}\")\n",
        "    results_all.append({'dataset': 'Wine', 'splitter': 'GroupKFold', 'fold': fold,\n",
        "                        'accuracy': acc, 'f1_macro': f1m, 'best_params': grid.best_params_})\n"
      ]
    },
    {
      "cell_type": "markdown",
      "metadata": {},
      "source": [
        "## Dataset: Breast Cancer\n",
        "โหลดและเตรียมข้อมูล พร้อมสร้างกลุ่มสุ่ม 5 กลุ่มสำหรับสาธิต GroupKFold\n"
      ]
    },
    {
      "cell_type": "code",
      "execution_count": 11,
      "metadata": {},
      "outputs": [
        {
          "name": "stdout",
          "output_type": "stream",
          "text": [
            "Dataset: Breast Cancer | X shape: (569, 30) | y shape: (569,)\n"
          ]
        }
      ],
      "source": [
        "# ============================================\n",
        "# Load Breast Cancer\n",
        "# ============================================\n",
        "bc = load_breast_cancer()\n",
        "feature_names = bc.feature_names\n",
        "X_raw = bc.data\n",
        "y_raw = bc.target\n",
        "X = pd.DataFrame(X_raw, columns=feature_names)\n",
        "y = pd.Series(y_raw, name='target')\n",
        "\n",
        "# Random groups for GroupKFold demo (0..4)\n",
        "groups = np.random.randint(0, 5, size=len(y))\n",
        "print('Dataset:', 'Breast Cancer', '| X shape:', X.shape, '| y shape:', y.shape)\n"
      ]
    },
    {
      "cell_type": "code",
      "execution_count": 12,
      "metadata": {},
      "outputs": [
        {
          "name": "stdout",
          "output_type": "stream",
          "text": [
            "\n",
            "===== K-Fold Cross Validation =====\n",
            "Fold 1 - Best Params: {'C': 100, 'gamma': 'scale', 'kernel': 'rbf'} - Acc: 0.9386 - F1(macro): 0.9355\n",
            "Fold 2 - Best Params: {'C': 10, 'gamma': 0.01, 'kernel': 'rbf'} - Acc: 0.9912 - F1(macro): 0.9901\n",
            "Fold 3 - Best Params: {'C': 0.1, 'gamma': 'scale', 'kernel': 'linear'} - Acc: 0.9649 - F1(macro): 0.9619\n",
            "Fold 4 - Best Params: {'C': 10, 'gamma': 'scale', 'kernel': 'rbf'} - Acc: 0.9825 - F1(macro): 0.9812\n",
            "Fold 5 - Best Params: {'C': 0.1, 'gamma': 'scale', 'kernel': 'linear'} - Acc: 0.9823 - F1(macro): 0.9815\n"
          ]
        }
      ],
      "source": [
        "# ============================================\n",
        "# 1) K-Fold\n",
        "# ============================================\n",
        "print('\\n===== K-Fold Cross Validation =====')\n",
        "kf = KFold(n_splits=5, shuffle=True, random_state=RANDOM_STATE)\n",
        "fold = 0\n",
        "for train_index, test_index in kf.split(X):\n",
        "    fold += 1\n",
        "    X_train, X_test = X.iloc[train_index], X.iloc[test_index]\n",
        "    y_train, y_test = y.iloc[train_index], y.iloc[test_index]\n",
        "\n",
        "    scaler = StandardScaler()\n",
        "    X_train_scaled = scaler.fit_transform(X_train)\n",
        "    X_test_scaled  = scaler.transform(X_test)\n",
        "\n",
        "    grid = GridSearchCV(SVC(), param_grid, cv=3, n_jobs=-1)\n",
        "    grid.fit(X_train_scaled, y_train)\n",
        "    y_pred = grid.predict(X_test_scaled)\n",
        "    acc = accuracy_score(y_test, y_pred)\n",
        "    f1m = f1_score(y_test, y_pred, average='macro')\n",
        "    print(f\"Fold {fold} - Best Params: {grid.best_params_} - Acc: {acc:.4f} - F1(macro): {f1m:.4f}\")\n",
        "    results_all.append({'dataset': 'Breast Cancer', 'splitter': 'KFold', 'fold': fold,\n",
        "                        'accuracy': acc, 'f1_macro': f1m, 'best_params': grid.best_params_})\n"
      ]
    },
    {
      "cell_type": "code",
      "execution_count": 13,
      "metadata": {},
      "outputs": [
        {
          "name": "stdout",
          "output_type": "stream",
          "text": [
            "\n",
            "===== Stratified K-Fold Cross Validation =====\n",
            "Fold 1 - Best Params: {'C': 10, 'gamma': 0.01, 'kernel': 'rbf'} - Acc: 1.0000 - F1(macro): 1.0000\n",
            "Fold 2 - Best Params: {'C': 10, 'gamma': 0.01, 'kernel': 'rbf'} - Acc: 0.9474 - F1(macro): 0.9435\n",
            "Fold 3 - Best Params: {'C': 0.1, 'gamma': 'scale', 'kernel': 'linear'} - Acc: 0.9649 - F1(macro): 0.9615\n",
            "Fold 4 - Best Params: {'C': 10, 'gamma': 0.01, 'kernel': 'rbf'} - Acc: 0.9912 - F1(macro): 0.9906\n",
            "Fold 5 - Best Params: {'C': 1, 'gamma': 'scale', 'kernel': 'rbf'} - Acc: 0.9823 - F1(macro): 0.9809\n"
          ]
        }
      ],
      "source": [
        "# ============================================\n",
        "# 2) Stratified K-Fold\n",
        "# ============================================\n",
        "print('\\n===== Stratified K-Fold Cross Validation =====')\n",
        "skf = StratifiedKFold(n_splits=5, shuffle=True, random_state=RANDOM_STATE)\n",
        "fold = 0\n",
        "for train_index, test_index in skf.split(X, y):\n",
        "    fold += 1\n",
        "    X_train, X_test = X.iloc[train_index], X.iloc[test_index]\n",
        "    y_train, y_test = y.iloc[train_index], y.iloc[test_index]\n",
        "\n",
        "    scaler = StandardScaler()\n",
        "    X_train_scaled = scaler.fit_transform(X_train)\n",
        "    X_test_scaled  = scaler.transform(X_test)\n",
        "\n",
        "    grid = GridSearchCV(SVC(), param_grid, cv=3, n_jobs=-1)\n",
        "    grid.fit(X_train_scaled, y_train)\n",
        "    y_pred = grid.predict(X_test_scaled)\n",
        "    acc = accuracy_score(y_test, y_pred)\n",
        "    f1m = f1_score(y_test, y_pred, average='macro')\n",
        "    print(f\"Fold {fold} - Best Params: {grid.best_params_} - Acc: {acc:.4f} - F1(macro): {f1m:.4f}\")\n",
        "    results_all.append({'dataset': 'Breast Cancer', 'splitter': 'StratifiedKFold', 'fold': fold,\n",
        "                        'accuracy': acc, 'f1_macro': f1m, 'best_params': grid.best_params_})\n"
      ]
    },
    {
      "cell_type": "code",
      "execution_count": 14,
      "metadata": {},
      "outputs": [
        {
          "name": "stdout",
          "output_type": "stream",
          "text": [
            "\n",
            "===== Group K-Fold Cross Validation =====\n",
            "Fold 1 - Groups Test: {np.int32(4)} - Best Params: {'C': 10, 'gamma': 0.01, 'kernel': 'rbf'} - Acc: 0.9764 - F1(macro): 0.9741\n",
            "Fold 2 - Groups Test: {np.int32(0)} - Best Params: {'C': 1, 'gamma': 'scale', 'kernel': 'rbf'} - Acc: 0.9569 - F1(macro): 0.9536\n",
            "Fold 3 - Groups Test: {np.int32(1)} - Best Params: {'C': 10, 'gamma': 0.01, 'kernel': 'rbf'} - Acc: 0.9741 - F1(macro): 0.9724\n",
            "Fold 4 - Groups Test: {np.int32(3)} - Best Params: {'C': 10, 'gamma': 0.01, 'kernel': 'rbf'} - Acc: 0.9545 - F1(macro): 0.9506\n",
            "Fold 5 - Groups Test: {np.int32(2)} - Best Params: {'C': 10, 'gamma': 0.01, 'kernel': 'rbf'} - Acc: 0.9900 - F1(macro): 0.9894\n"
          ]
        }
      ],
      "source": [
        "# ============================================\n",
        "# 3) Group K-Fold\n",
        "# ============================================\n",
        "print('\\n===== Group K-Fold Cross Validation =====')\n",
        "gkf = GroupKFold(n_splits=5)\n",
        "fold = 0\n",
        "for train_index, test_index in gkf.split(X, y, groups=groups):\n",
        "    fold += 1\n",
        "    X_train, X_test = X.iloc[train_index], X.iloc[test_index]\n",
        "    y_train, y_test = y.iloc[train_index], y.iloc[test_index]\n",
        "\n",
        "    scaler = StandardScaler()\n",
        "    X_train_scaled = scaler.fit_transform(X_train)\n",
        "    X_test_scaled  = scaler.transform(X_test)\n",
        "\n",
        "    grid = GridSearchCV(SVC(), param_grid, cv=3, n_jobs=-1)\n",
        "    grid.fit(X_train_scaled, y_train)\n",
        "    y_pred = grid.predict(X_test_scaled)\n",
        "    acc = accuracy_score(y_test, y_pred)\n",
        "    f1m = f1_score(y_test, y_pred, average='macro')\n",
        "    print(f\"Fold {fold} - Groups Test: {set(groups[test_index])} - Best Params: {grid.best_params_} - Acc: {acc:.4f} - F1(macro): {f1m:.4f}\")\n",
        "    results_all.append({'dataset': 'Breast Cancer', 'splitter': 'GroupKFold', 'fold': fold,\n",
        "                        'accuracy': acc, 'f1_macro': f1m, 'best_params': grid.best_params_})\n"
      ]
    },
    {
      "cell_type": "markdown",
      "metadata": {},
      "source": [
        "## Best Parameters per Method (per dataset & splitter)\n",
        "เลือกพารามิเตอร์ที่ดีที่สุดต่อ **dataset+splitter** จากค่าที่ถูกเลือกเป็น `best_params` ในแต่ละ fold แล้วคำนวณค่าเฉลี่ยคะแนนตามพารามิเตอร์นั้นๆ"
      ]
    },
    {
      "cell_type": "code",
      "execution_count": 16,
      "metadata": {},
      "outputs": [
        {
          "data": {
            "text/html": [
              "<div>\n",
              "<style scoped>\n",
              "    .dataframe tbody tr th:only-of-type {\n",
              "        vertical-align: middle;\n",
              "    }\n",
              "\n",
              "    .dataframe tbody tr th {\n",
              "        vertical-align: top;\n",
              "    }\n",
              "\n",
              "    .dataframe thead th {\n",
              "        text-align: right;\n",
              "    }\n",
              "</style>\n",
              "<table border=\"1\" class=\"dataframe\">\n",
              "  <thead>\n",
              "    <tr style=\"text-align: right;\">\n",
              "      <th></th>\n",
              "      <th>dataset</th>\n",
              "      <th>splitter</th>\n",
              "      <th>mean_accuracy</th>\n",
              "      <th>mean_f1_macro</th>\n",
              "      <th>times_selected</th>\n",
              "      <th>best_params</th>\n",
              "    </tr>\n",
              "  </thead>\n",
              "  <tbody>\n",
              "    <tr>\n",
              "      <th>0</th>\n",
              "      <td>Breast Cancer</td>\n",
              "      <td>GroupKFold</td>\n",
              "      <td>0.973765</td>\n",
              "      <td>0.971634</td>\n",
              "      <td>4</td>\n",
              "      <td>{'C': 10, 'gamma': 0.01, 'kernel': 'rbf'}</td>\n",
              "    </tr>\n",
              "    <tr>\n",
              "      <th>1</th>\n",
              "      <td>Breast Cancer</td>\n",
              "      <td>KFold</td>\n",
              "      <td>0.991228</td>\n",
              "      <td>0.990065</td>\n",
              "      <td>1</td>\n",
              "      <td>{'C': 10, 'gamma': 0.01, 'kernel': 'rbf'}</td>\n",
              "    </tr>\n",
              "    <tr>\n",
              "      <th>2</th>\n",
              "      <td>Breast Cancer</td>\n",
              "      <td>StratifiedKFold</td>\n",
              "      <td>0.982301</td>\n",
              "      <td>0.980860</td>\n",
              "      <td>1</td>\n",
              "      <td>{'C': 1, 'gamma': 'scale', 'kernel': 'rbf'}</td>\n",
              "    </tr>\n",
              "    <tr>\n",
              "      <th>3</th>\n",
              "      <td>Iris</td>\n",
              "      <td>GroupKFold</td>\n",
              "      <td>0.954593</td>\n",
              "      <td>0.953618</td>\n",
              "      <td>5</td>\n",
              "      <td>{'C': 1, 'gamma': 'scale', 'kernel': 'linear'}</td>\n",
              "    </tr>\n",
              "    <tr>\n",
              "      <th>4</th>\n",
              "      <td>Iris</td>\n",
              "      <td>KFold</td>\n",
              "      <td>0.975000</td>\n",
              "      <td>0.971808</td>\n",
              "      <td>4</td>\n",
              "      <td>{'C': 1, 'gamma': 'scale', 'kernel': 'linear'}</td>\n",
              "    </tr>\n",
              "    <tr>\n",
              "      <th>5</th>\n",
              "      <td>Iris</td>\n",
              "      <td>StratifiedKFold</td>\n",
              "      <td>1.000000</td>\n",
              "      <td>1.000000</td>\n",
              "      <td>1</td>\n",
              "      <td>{'C': 10, 'gamma': 0.01, 'kernel': 'rbf'}</td>\n",
              "    </tr>\n",
              "    <tr>\n",
              "      <th>6</th>\n",
              "      <td>Wine</td>\n",
              "      <td>GroupKFold</td>\n",
              "      <td>1.000000</td>\n",
              "      <td>1.000000</td>\n",
              "      <td>1</td>\n",
              "      <td>{'C': 1, 'gamma': 'scale', 'kernel': 'rbf'}</td>\n",
              "    </tr>\n",
              "    <tr>\n",
              "      <th>7</th>\n",
              "      <td>Wine</td>\n",
              "      <td>KFold</td>\n",
              "      <td>1.000000</td>\n",
              "      <td>1.000000</td>\n",
              "      <td>1</td>\n",
              "      <td>{'C': 1, 'gamma': 0.01, 'kernel': 'rbf'}</td>\n",
              "    </tr>\n",
              "    <tr>\n",
              "      <th>8</th>\n",
              "      <td>Wine</td>\n",
              "      <td>StratifiedKFold</td>\n",
              "      <td>1.000000</td>\n",
              "      <td>1.000000</td>\n",
              "      <td>2</td>\n",
              "      <td>{'C': 10, 'gamma': 'scale', 'kernel': 'rbf'}</td>\n",
              "    </tr>\n",
              "  </tbody>\n",
              "</table>\n",
              "</div>"
            ],
            "text/plain": [
              "         dataset         splitter  mean_accuracy  mean_f1_macro  \\\n",
              "0  Breast Cancer       GroupKFold       0.973765       0.971634   \n",
              "1  Breast Cancer            KFold       0.991228       0.990065   \n",
              "2  Breast Cancer  StratifiedKFold       0.982301       0.980860   \n",
              "3           Iris       GroupKFold       0.954593       0.953618   \n",
              "4           Iris            KFold       0.975000       0.971808   \n",
              "5           Iris  StratifiedKFold       1.000000       1.000000   \n",
              "6           Wine       GroupKFold       1.000000       1.000000   \n",
              "7           Wine            KFold       1.000000       1.000000   \n",
              "8           Wine  StratifiedKFold       1.000000       1.000000   \n",
              "\n",
              "   times_selected                                     best_params  \n",
              "0               4       {'C': 10, 'gamma': 0.01, 'kernel': 'rbf'}  \n",
              "1               1       {'C': 10, 'gamma': 0.01, 'kernel': 'rbf'}  \n",
              "2               1     {'C': 1, 'gamma': 'scale', 'kernel': 'rbf'}  \n",
              "3               5  {'C': 1, 'gamma': 'scale', 'kernel': 'linear'}  \n",
              "4               4  {'C': 1, 'gamma': 'scale', 'kernel': 'linear'}  \n",
              "5               1       {'C': 10, 'gamma': 0.01, 'kernel': 'rbf'}  \n",
              "6               1     {'C': 1, 'gamma': 'scale', 'kernel': 'rbf'}  \n",
              "7               1        {'C': 1, 'gamma': 0.01, 'kernel': 'rbf'}  \n",
              "8               2    {'C': 10, 'gamma': 'scale', 'kernel': 'rbf'}  "
            ]
          },
          "execution_count": 16,
          "metadata": {},
          "output_type": "execute_result"
        }
      ],
      "source": [
        "df_all = pd.DataFrame(results_all).copy()\n",
        "# แปลง dict -> string เพื่อให้ groupby ได้\n",
        "df_all['best_params_str'] = df_all['best_params'].apply(lambda d: json.dumps(d, sort_keys=True))\n",
        "\n",
        "agg = (df_all.groupby(['dataset','splitter','best_params_str'])\n",
        "       .agg(mean_accuracy=('accuracy','mean'),\n",
        "            mean_f1_macro=('f1_macro','mean'),\n",
        "            times_selected=('best_params_str','size'))\n",
        "       .reset_index())\n",
        "\n",
        "# เลือกแถวที่ accuracy เฉลี่ยดีที่สุดในแต่ละ dataset+splitter\n",
        "idx = agg.groupby(['dataset','splitter'])['mean_accuracy'].idxmax()\n",
        "best_params_per_method = agg.loc[idx].reset_index(drop=True)\n",
        "best_params_per_method['best_params'] = best_params_per_method['best_params_str'].apply(lambda s: json.loads(s))\n",
        "best_params_per_method = best_params_per_method.drop(columns=['best_params_str'])\n",
        "best_params_per_method = best_params_per_method.sort_values(['dataset','splitter']).reset_index(drop=True)\n",
        "best_params_per_method\n"
      ]
    },
    {
      "cell_type": "markdown",
      "metadata": {},
      "source": [
        "## Overall Summaries with Model Parameters"
      ]
    },
    {
      "cell_type": "code",
      "execution_count": 17,
      "metadata": {},
      "outputs": [
        {
          "data": {
            "text/html": [
              "<div>\n",
              "<style scoped>\n",
              "    .dataframe tbody tr th:only-of-type {\n",
              "        vertical-align: middle;\n",
              "    }\n",
              "\n",
              "    .dataframe tbody tr th {\n",
              "        vertical-align: top;\n",
              "    }\n",
              "\n",
              "    .dataframe thead th {\n",
              "        text-align: right;\n",
              "    }\n",
              "</style>\n",
              "<table border=\"1\" class=\"dataframe\">\n",
              "  <thead>\n",
              "    <tr style=\"text-align: right;\">\n",
              "      <th></th>\n",
              "      <th>dataset</th>\n",
              "      <th>splitter</th>\n",
              "      <th>mean_accuracy</th>\n",
              "      <th>mean_f1_macro</th>\n",
              "      <th>times_selected</th>\n",
              "      <th>best_params</th>\n",
              "    </tr>\n",
              "  </thead>\n",
              "  <tbody>\n",
              "    <tr>\n",
              "      <th>0</th>\n",
              "      <td>Breast Cancer</td>\n",
              "      <td>KFold</td>\n",
              "      <td>0.991228</td>\n",
              "      <td>0.990065</td>\n",
              "      <td>1</td>\n",
              "      <td>{'C': 10, 'gamma': 0.01, 'kernel': 'rbf'}</td>\n",
              "    </tr>\n",
              "    <tr>\n",
              "      <th>1</th>\n",
              "      <td>Iris</td>\n",
              "      <td>StratifiedKFold</td>\n",
              "      <td>1.000000</td>\n",
              "      <td>1.000000</td>\n",
              "      <td>1</td>\n",
              "      <td>{'C': 10, 'gamma': 0.01, 'kernel': 'rbf'}</td>\n",
              "    </tr>\n",
              "    <tr>\n",
              "      <th>2</th>\n",
              "      <td>Wine</td>\n",
              "      <td>GroupKFold</td>\n",
              "      <td>1.000000</td>\n",
              "      <td>1.000000</td>\n",
              "      <td>1</td>\n",
              "      <td>{'C': 1, 'gamma': 'scale', 'kernel': 'rbf'}</td>\n",
              "    </tr>\n",
              "  </tbody>\n",
              "</table>\n",
              "</div>"
            ],
            "text/plain": [
              "         dataset         splitter  mean_accuracy  mean_f1_macro  \\\n",
              "0  Breast Cancer            KFold       0.991228       0.990065   \n",
              "1           Iris  StratifiedKFold       1.000000       1.000000   \n",
              "2           Wine       GroupKFold       1.000000       1.000000   \n",
              "\n",
              "   times_selected                                  best_params  \n",
              "0               1    {'C': 10, 'gamma': 0.01, 'kernel': 'rbf'}  \n",
              "1               1    {'C': 10, 'gamma': 0.01, 'kernel': 'rbf'}  \n",
              "2               1  {'C': 1, 'gamma': 'scale', 'kernel': 'rbf'}  "
            ]
          },
          "execution_count": 17,
          "metadata": {},
          "output_type": "execute_result"
        }
      ],
      "source": [
        "# Best splitter (and its params) per dataset by highest mean accuracy\n",
        "overall_best_by_dataset = (best_params_per_method\n",
        "                          .sort_values(['dataset','mean_accuracy'], ascending=[True, False])\n",
        "                          .groupby('dataset', as_index=False)\n",
        "                          .head(1)\n",
        "                          .reset_index(drop=True))\n",
        "overall_best_by_dataset\n"
      ]
    }
  ],
  "metadata": {
    "created": "2025-08-15T01:08:24.102179Z",
    "kernelspec": {
      "display_name": "torch",
      "language": "python",
      "name": "python3"
    },
    "language_info": {
      "codemirror_mode": {
        "name": "ipython",
        "version": 3
      },
      "file_extension": ".py",
      "mimetype": "text/x-python",
      "name": "python",
      "nbconvert_exporter": "python",
      "pygments_lexer": "ipython3",
      "version": "3.12.11"
    }
  },
  "nbformat": 4,
  "nbformat_minor": 5
}
