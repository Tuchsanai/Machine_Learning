{
 "cells": [
  {
   "cell_type": "markdown",
   "id": "59951602",
   "metadata": {},
   "source": [
    "\n",
    "# Step-by-Step Grid Search Labs (scikit-learn)\n",
    "\n",
    "**Constraints (as requested):**\n",
    "- ✅ Focus only on Grid Search\n",
    "- ✅ Use `train_test_split` for the hold-out test set\n",
    "- ✅ **No** `Pipeline`\n",
    "- ✅ **No** user-defined functions or classes\n",
    "- ✅ **No** `for` loops (all search is handled by `GridSearchCV` internally)\n",
    "\n",
    "**What you’ll practice:**\n",
    "- How to split data once (train/test), then run `GridSearchCV` **only on the training set**\n",
    "- How to build a parameter grid for each model\n",
    "- How to evaluate the best model on the hold-out test set\n",
    "\n",
    "> 📌 Tip: Each lab is independent. Run them in order or jump to any section.\n"
   ]
  },
  {
   "cell_type": "markdown",
   "id": "8157f298",
   "metadata": {},
   "source": [
    "## 0) Common Setup (Run once)"
   ]
  },
  {
   "cell_type": "code",
   "execution_count": 1,
   "id": "b9f4c48c",
   "metadata": {},
   "outputs": [],
   "source": [
    "\n",
    "import numpy as np\n",
    "import pandas as pd\n",
    "\n",
    "from sklearn.model_selection import train_test_split, GridSearchCV\n",
    "from sklearn.metrics import accuracy_score, classification_report, ConfusionMatrixDisplay\n",
    "from sklearn.metrics import mean_squared_error, r2_score\n",
    "from sklearn.preprocessing import StandardScaler\n",
    "import matplotlib.pyplot as plt\n",
    "\n",
    "# Reproducibility\n",
    "RANDOM_STATE = 42\n",
    "np.random.seed(RANDOM_STATE)\n"
   ]
  },
  {
   "cell_type": "markdown",
   "id": "06b6e9f2",
   "metadata": {},
   "source": [
    "\n",
    "## 1) Classification — Logistic Regression (Breast Cancer dataset)\n",
    "\n",
    "### Parameters to tune (and why)\n",
    "- **`C`**: Inverse of regularization strength (smaller = stronger regularization). Controls overfitting.\n",
    "- **`penalty`**: Type of regularization. We use `'l2'` (stable, widely supported).\n",
    "- **`solver`**: Optimization algorithm (`'liblinear'`, `'lbfgs'`, `'saga'`); different solvers work better for different data sizes.\n",
    "- **`max_iter`**: Upper bound on iterations; larger values help solvers converge.\n",
    "- **`class_weight`**: `None` vs `'balanced'` can help when classes are imbalanced.\n"
   ]
  },
  {
   "cell_type": "code",
   "execution_count": 2,
   "id": "2260cd8c",
   "metadata": {},
   "outputs": [
    {
     "name": "stdout",
     "output_type": "stream",
     "text": [
      "Best params: {'C': 10, 'class_weight': 'balanced', 'max_iter': 10000, 'penalty': 'l1', 'random_state': 42, 'solver': 'liblinear'}\n",
      "CV best score (accuracy): 0.9626373626373625\n",
      "Test accuracy: 0.9649122807017544\n",
      "              precision    recall  f1-score   support\n",
      "\n",
      "           0       0.93      0.98      0.95        42\n",
      "           1       0.99      0.96      0.97        72\n",
      "\n",
      "    accuracy                           0.96       114\n",
      "   macro avg       0.96      0.97      0.96       114\n",
      "weighted avg       0.97      0.96      0.97       114\n",
      "\n"
     ]
    },
    {
     "data": {
      "image/png": "[encoded data removed]",
      "text/plain": [
       "<Figure size 640x480 with 2 Axes>"
      ]
     },
     "metadata": {},
     "output_type": "display_data"
    }
   ],
   "source": [
    "from sklearn.datasets import load_breast_cancer\n",
    "from sklearn.model_selection import train_test_split, GridSearchCV\n",
    "from sklearn.linear_model import LogisticRegression\n",
    "from sklearn.metrics import accuracy_score, classification_report, ConfusionMatrixDisplay\n",
    "import matplotlib.pyplot as plt\n",
    "import warnings\n",
    "warnings.filterwarnings('ignore')\n",
    "\n",
    "# --- data ---\n",
    "X, y = load_breast_cancer(return_X_y=True)\n",
    "RANDOM_STATE = 42\n",
    "X_train, X_test, y_train, y_test = train_test_split(\n",
    "    X, y, test_size=0.2, random_state=RANDOM_STATE, stratify=y\n",
    ")\n",
    "\n",
    "# --- model & grid (NO PIPELINE, NO SCALING) ---\n",
    "# Use liblinear only (handles small/medium datasets well; less sensitive to feature scale)\n",
    "# Allow both L1/L2 penalties; bump max_iter to ensure convergence\n",
    "param_grid = {\n",
    "    'solver': ['liblinear'],      # drop lbfgs/saga to avoid most convergence issues without scaling\n",
    "    'penalty': ['l1', 'l2'],      # liblinear supports both\n",
    "    'C': [0.01, 0.1, 1, 10, 100],\n",
    "    'class_weight': [None, 'balanced'],\n",
    "    'max_iter': [10000],          # give it room to converge\n",
    "    'random_state': [RANDOM_STATE]\n",
    "}\n",
    "\n",
    "model = LogisticRegression()\n",
    "search = GridSearchCV(\n",
    "    estimator=model,\n",
    "    param_grid=param_grid,\n",
    "    scoring='accuracy',\n",
    "    cv=5,\n",
    "    n_jobs=-1,\n",
    "    return_train_score=True\n",
    ")\n",
    "search.fit(X_train, y_train)\n",
    "\n",
    "print('Best params:', search.best_params_)\n",
    "print('CV best score (accuracy):', search.best_score_)\n",
    "\n",
    "best_model = search.best_estimator_\n",
    "y_pred = best_model.predict(X_test)\n",
    "print('Test accuracy:', accuracy_score(y_test, y_pred))\n",
    "print(classification_report(y_test, y_pred))\n",
    "\n",
    "ConfusionMatrixDisplay.from_estimator(best_model, X_test, y_test)\n",
    "plt.title('Logistic Regression — Confusion Matrix (Test)')\n",
    "plt.show()\n"
   ]
  },
  {
   "cell_type": "markdown",
   "id": "a39d2bd2",
   "metadata": {},
   "source": [
    "\n",
    "**Exercises**\n",
    "- Try `penalty=['l1','l2']` with `solver=['liblinear','saga']` (L1 needs a compatible solver).\n",
    "- Add `tol=[1e-4, 1e-3]` to stabilize convergence in tough cases.\n"
   ]
  },
  {
   "cell_type": "markdown",
   "id": "7149d72a",
   "metadata": {},
   "source": [
    "\n",
    "## 2) Classification — Support Vector Classifier (Iris) with manual scaling\n",
    "\n",
    "### Why scaling?\n",
    "SVMs are sensitive to feature scales. We’ll use `StandardScaler` manually (no pipeline) — **fit on train**, **transform train & test**.\n",
    "\n",
    "### Parameters to tune (and why)\n",
    "- **`kernel`**: `'linear'`, `'rbf'`, `'poly'`; decides decision boundary shape.\n",
    "- **`C`**: Regularization (higher C tries to fit training data more).\n",
    "- **`gamma`**: For `'rbf'`/`'poly'`, controls influence range of single training examples.\n",
    "- **`degree`**: Only relevant for `'poly'` kernel.\n"
   ]
  },
  {
   "cell_type": "code",
   "execution_count": 3,
   "id": "037ed320",
   "metadata": {},
   "outputs": [
    {
     "name": "stdout",
     "output_type": "stream",
     "text": [
      "Best params: {'C': 0.1, 'degree': 2, 'gamma': 'scale', 'kernel': 'linear'}\n",
      "CV best score (accuracy): 0.975\n",
      "Test accuracy: 0.9333333333333333\n"
     ]
    },
    {
     "data": {
      "image/png": "[encoded data removed]",
      "text/plain": [
       "<Figure size 640x480 with 2 Axes>"
      ]
     },
     "metadata": {},
     "output_type": "display_data"
    }
   ],
   "source": [
    "\n",
    "from sklearn.datasets import load_iris\n",
    "from sklearn.svm import SVC\n",
    "\n",
    "X, y = load_iris(return_X_y=True)\n",
    "X_train, X_test, y_train, y_test = train_test_split(\n",
    "    X, y, test_size=0.2, random_state=RANDOM_STATE, stratify=y\n",
    ")\n",
    "\n",
    "scaler = StandardScaler()\n",
    "X_train_scaled = scaler.fit_transform(X_train)\n",
    "X_test_scaled = scaler.transform(X_test)\n",
    "\n",
    "param_grid = {\n",
    "    'kernel': ['linear', 'rbf', 'poly'],\n",
    "    'C': [0.1, 1, 10],\n",
    "    'gamma': ['scale', 'auto'],\n",
    "    'degree': [2, 3]\n",
    "}\n",
    "\n",
    "model = SVC()\n",
    "search = GridSearchCV(\n",
    "    estimator=model,\n",
    "    param_grid=param_grid,\n",
    "    scoring='accuracy',\n",
    "    cv=5,\n",
    "    n_jobs=-1,\n",
    "    return_train_score=True\n",
    ")\n",
    "search.fit(X_train_scaled, y_train)\n",
    "\n",
    "print('Best params:', search.best_params_)\n",
    "print('CV best score (accuracy):', search.best_score_)\n",
    "\n",
    "best_model = search.best_estimator_\n",
    "print('Test accuracy:', best_model.score(X_test_scaled, y_test))\n",
    "\n",
    "ConfusionMatrixDisplay.from_estimator(best_model, X_test_scaled, y_test)\n",
    "plt.title('SVC — Confusion Matrix (Test)')\n",
    "plt.show()\n"
   ]
  },
  {
   "cell_type": "markdown",
   "id": "28160be3",
   "metadata": {},
   "source": [
    "\n",
    "**Exercises**\n",
    "- Add `coef0` (affects `'poly'` kernel) to the grid.\n",
    "- Compare results **with** and **without** scaling (replace scaled arrays by raw `X_train`, `X_test`).\n"
   ]
  },
  {
   "cell_type": "markdown",
   "id": "48bdcf51",
   "metadata": {},
   "source": [
    "\n",
    "## 3) Classification — KNN (Wine) with manual scaling\n",
    "\n",
    "### Parameters to tune (and why)\n",
    "- **`n_neighbors`**: Neighbor count; small = high variance, large = high bias.\n",
    "- **`weights`**: `'uniform'` or `'distance'`; whether closer neighbors weigh more.\n",
    "- **`metric`**: Distance metric; `'minkowski'` with `p=2` equals Euclidean.\n"
   ]
  },
  {
   "cell_type": "code",
   "execution_count": 4,
   "id": "6364c2d5",
   "metadata": {},
   "outputs": [
    {
     "name": "stdout",
     "output_type": "stream",
     "text": [
      "Best params: {'metric': 'manhattan', 'n_neighbors': 7, 'weights': 'uniform'}\n",
      "CV best score (accuracy): 0.9859605911330049\n",
      "Test accuracy: 1.0\n"
     ]
    },
    {
     "data": {
      "image/png": "[encoded data removed]",
      "text/plain": [
       "<Figure size 640x480 with 2 Axes>"
      ]
     },
     "metadata": {},
     "output_type": "display_data"
    }
   ],
   "source": [
    "\n",
    "from sklearn.datasets import load_wine\n",
    "from sklearn.neighbors import KNeighborsClassifier\n",
    "\n",
    "X, y = load_wine(return_X_y=True)\n",
    "X_train, X_test, y_train, y_test = train_test_split(\n",
    "    X, y, test_size=0.2, random_state=RANDOM_STATE, stratify=y\n",
    ")\n",
    "\n",
    "scaler = StandardScaler()\n",
    "X_train_scaled = scaler.fit_transform(X_train)\n",
    "X_test_scaled = scaler.transform(X_test)\n",
    "\n",
    "param_grid = {\n",
    "    'n_neighbors': [3, 5, 7, 11],\n",
    "    'weights': ['uniform', 'distance'],\n",
    "    'metric': ['minkowski', 'euclidean', 'manhattan']\n",
    "}\n",
    "\n",
    "model = KNeighborsClassifier()\n",
    "search = GridSearchCV(\n",
    "    estimator=model,\n",
    "    param_grid=param_grid,\n",
    "    scoring='accuracy',\n",
    "    cv=5,\n",
    "    n_jobs=-1,\n",
    "    return_train_score=True\n",
    ")\n",
    "search.fit(X_train_scaled, y_train)\n",
    "\n",
    "print('Best params:', search.best_params_)\n",
    "print('CV best score (accuracy):', search.best_score_)\n",
    "\n",
    "best_model = search.best_estimator_\n",
    "print('Test accuracy:', best_model.score(X_test_scaled, y_test))\n",
    "\n",
    "ConfusionMatrixDisplay.from_estimator(best_model, X_test_scaled, y_test)\n",
    "plt.title('KNN — Confusion Matrix (Test)')\n",
    "plt.show()\n"
   ]
  },
  {
   "cell_type": "markdown",
   "id": "e7f43038",
   "metadata": {},
   "source": [
    "\n",
    "**Exercises**\n",
    "- Add `p=[1, 2]` to compare Manhattan vs Euclidean for `'minkowski'`.\n",
    "- Expand neighbor range (e.g., `[1, 3, 5, 9, 15, 25]`).\n"
   ]
  },
  {
   "cell_type": "markdown",
   "id": "93dc678e",
   "metadata": {},
   "source": [
    "\n",
    "## 4) Classification — Random Forest (Wine)\n",
    "\n",
    "### Parameters to tune (and why)\n",
    "- **`n_estimators`**: Number of trees; more trees usually improve stability.\n",
    "- **`max_depth`**: Tree depth; controls complexity/overfitting.\n",
    "- **`min_samples_split`**, **`min_samples_leaf`**: Minimum samples to split/at leaves; regularization knobs.\n",
    "- **`max_features`**: Subset of features tried at each split; can reduce correlation between trees.\n",
    "- **`class_weight`**: Helps with imbalance.\n"
   ]
  },
  {
   "cell_type": "code",
   "execution_count": 5,
   "id": "3aa28b93",
   "metadata": {},
   "outputs": [
    {
     "name": "stdout",
     "output_type": "stream",
     "text": [
      "Best params: {'class_weight': None, 'max_depth': None, 'max_features': 'sqrt', 'min_samples_leaf': 1, 'min_samples_split': 2, 'n_estimators': 100}\n",
      "CV best score (accuracy): 0.9862068965517242\n",
      "Test accuracy: 1.0\n"
     ]
    },
    {
     "data": {
      "image/png": "[encoded data removed]",
      "text/plain": [
       "<Figure size 640x480 with 2 Axes>"
      ]
     },
     "metadata": {},
     "output_type": "display_data"
    }
   ],
   "source": [
    "\n",
    "from sklearn.ensemble import RandomForestClassifier\n",
    "from sklearn.datasets import load_wine\n",
    "\n",
    "X, y = load_wine(return_X_y=True)\n",
    "X_train, X_test, y_train, y_test = train_test_split(\n",
    "    X, y, test_size=0.2, random_state=RANDOM_STATE, stratify=y\n",
    ")\n",
    "\n",
    "param_grid = {\n",
    "    'n_estimators': [100, 200, 300],\n",
    "    'max_depth': [None, 5, 10, 20],\n",
    "    'min_samples_split': [2, 5, 10],\n",
    "    'min_samples_leaf': [1, 2, 4],\n",
    "    'max_features': ['sqrt', 'log2', 1.0],\n",
    "    'class_weight': [None, 'balanced']\n",
    "}\n",
    "\n",
    "model = RandomForestClassifier(random_state=RANDOM_STATE)\n",
    "search = GridSearchCV(\n",
    "    estimator=model,\n",
    "    param_grid=param_grid,\n",
    "    scoring='accuracy',\n",
    "    cv=5,\n",
    "    n_jobs=-1,\n",
    "    return_train_score=True\n",
    ")\n",
    "search.fit(X_train, y_train)\n",
    "\n",
    "print('Best params:', search.best_params_)\n",
    "print('CV best score (accuracy):', search.best_score_)\n",
    "\n",
    "best_model = search.best_estimator_\n",
    "print('Test accuracy:', best_model.score(X_test, y_test))\n",
    "\n",
    "ConfusionMatrixDisplay.from_estimator(best_model, X_test, y_test)\n",
    "plt.title('Random Forest — Confusion Matrix (Test)')\n",
    "plt.show()\n"
   ]
  },
  {
   "cell_type": "markdown",
   "id": "689e9a12",
   "metadata": {},
   "source": [
    "\n",
    "**Exercises**\n",
    "- Add `bootstrap=[True, False]` to understand bagging effects.\n",
    "- Compare `'max_features'` choices for accuracy and speed.\n"
   ]
  },
  {
   "cell_type": "markdown",
   "id": "a11293b9",
   "metadata": {},
   "source": [
    "\n",
    "## 5) Regression — Ridge (Diabetes)\n",
    "\n",
    "### Parameters to tune (and why)\n",
    "- **`alpha`**: Regularization strength (larger = stronger regularization).\n",
    "- **`solver`**: Algorithm to fit coefficients; different solvers have different speed/precision trade-offs (`'auto'`, `'svd'`, `'cholesky'`, `'lsqr'`, `'sparse_cg'`, `'sag'`, `'saga'`).\n",
    "- **`fit_intercept`**: Whether to learn the intercept.\n"
   ]
  },
  {
   "cell_type": "code",
   "execution_count": 7,
   "id": "f6c25bc0",
   "metadata": {},
   "outputs": [
    {
     "name": "stdout",
     "output_type": "stream",
     "text": [
      "Best params: {'alpha': 0.1, 'fit_intercept': True, 'solver': 'lsqr'}\n",
      "CV best score (RMSE): 55.90283801094393\n",
      "Test RMSE: 53.44836529536603\n",
      "Test R^2: 0.4608067325465477\n"
     ]
    }
   ],
   "source": [
    "# Full Ridge + GridSearchCV example (version-compatible)\n",
    "# - Uses scoring='neg_mean_squared_error' for broad sklearn compatibility\n",
    "# - Computes RMSE via np.sqrt(mean_squared_error) to avoid 'squared=False' arg\n",
    "\n",
    "from sklearn.datasets import load_diabetes\n",
    "from sklearn.linear_model import Ridge\n",
    "from sklearn.model_selection import train_test_split, GridSearchCV\n",
    "from sklearn.metrics import mean_squared_error, r2_score\n",
    "import numpy as np\n",
    "\n",
    "# Reproducibility\n",
    "RANDOM_STATE = 42\n",
    "\n",
    "# 1) Load data\n",
    "X, y = load_diabetes(return_X_y=True)\n",
    "\n",
    "# 2) Split\n",
    "X_train, X_test, y_train, y_test = train_test_split(\n",
    "    X, y, test_size=0.2, random_state=RANDOM_STATE\n",
    ")\n",
    "\n",
    "# 3) Define search space\n",
    "param_grid = {\n",
    "    \"alpha\": [0.01, 0.1, 1, 10, 100],\n",
    "    \"solver\": [\"auto\", \"svd\", \"cholesky\", \"lsqr\", \"sparse_cg\", \"sag\", \"saga\"],\n",
    "    \"fit_intercept\": [True, False],\n",
    "}\n",
    "\n",
    "# 4) Set up model & grid search\n",
    "model = Ridge(random_state=RANDOM_STATE) if \"random_state\" in Ridge().get_params() else Ridge()\n",
    "search = GridSearchCV(\n",
    "    estimator=model,\n",
    "    param_grid=param_grid,\n",
    "    scoring=\"neg_mean_squared_error\",  # compatible across many sklearn versions\n",
    "    cv=5,\n",
    "    n_jobs=-1,\n",
    "    return_train_score=True,\n",
    ")\n",
    "\n",
    "# 5) Fit\n",
    "search.fit(X_train, y_train)\n",
    "\n",
    "# 6) Report CV results (convert neg MSE -> RMSE)\n",
    "best_params = search.best_params_\n",
    "best_neg_mse = search.best_score_                  # negative MSE\n",
    "best_cv_rmse = np.sqrt(-best_neg_mse)              # RMSE\n",
    "\n",
    "print(\"Best params:\", best_params)\n",
    "print(\"CV best score (RMSE):\", best_cv_rmse)\n",
    "\n",
    "# 7) Evaluate on test set\n",
    "best_model = search.best_estimator_\n",
    "y_pred = best_model.predict(X_test)\n",
    "\n",
    "mse = mean_squared_error(y_test, y_pred)           # plain MSE\n",
    "rmse = np.sqrt(mse)                                # RMSE\n",
    "r2 = r2_score(y_test, y_pred)\n",
    "\n",
    "print(\"Test RMSE:\", rmse)\n",
    "print(\"Test R^2:\", r2)\n"
   ]
  },
  {
   "cell_type": "markdown",
   "id": "ed315b68",
   "metadata": {},
   "source": [
    "\n",
    "**Exercises**\n",
    "- Add `alpha` values on a log scale (`[1e-4, 1e-3, ..., 1e2]`).\n",
    "- Compare `Ridge` vs `Lasso` (next lab) on the same data.\n"
   ]
  },
  {
   "cell_type": "markdown",
   "id": "aaefae96",
   "metadata": {},
   "source": [
    "\n",
    "## 6) Regression — Lasso (Diabetes)\n",
    "\n",
    "### Parameters to tune (and why)\n",
    "- **`alpha`**: L1 regularization strength (induces sparsity; can zero-out coefficients).\n",
    "- **`max_iter`**: More iterations can help convergence with small `alpha`.\n",
    "- **`selection`**: `'cyclic'` vs `'random'` coordinate updates; may affect speed/solution.\n"
   ]
  },
  {
   "cell_type": "code",
   "execution_count": 9,
   "id": "19785459",
   "metadata": {},
   "outputs": [
    {
     "name": "stdout",
     "output_type": "stream",
     "text": [
      "Best params: {'alpha': 0.1, 'max_iter': 1000, 'selection': 'random'}\n",
      "CV best score (RMSE): 55.93638114676728\n",
      "Test RMSE: 52.89828853808879\n",
      "Test R^2: 0.4718480966419363\n"
     ]
    }
   ],
   "source": [
    "from sklearn.datasets import load_diabetes\n",
    "from sklearn.linear_model import Lasso\n",
    "from sklearn.model_selection import train_test_split, GridSearchCV\n",
    "from sklearn.metrics import mean_squared_error, r2_score\n",
    "import numpy as np\n",
    "\n",
    "# Reproducibility for the train/test split (Lasso itself is deterministic unless selection='random')\n",
    "RANDOM_STATE = 42\n",
    "\n",
    "# 1) Data\n",
    "X, y = load_diabetes(return_X_y=True)\n",
    "X_train, X_test, y_train, y_test = train_test_split(\n",
    "    X, y, test_size=0.2, random_state=RANDOM_STATE\n",
    ")\n",
    "\n",
    "# 2) Hyperparameter grid\n",
    "param_grid = {\n",
    "    \"alpha\": [0.001, 0.01, 0.1, 1.0],\n",
    "    \"max_iter\": [1000, 5000, 10000],\n",
    "    \"selection\": [\"cyclic\", \"random\"],\n",
    "}\n",
    "\n",
    "# 3) Model & search (use neg MSE for broad compatibility)\n",
    "model = Lasso()\n",
    "search = GridSearchCV(\n",
    "    estimator=model,\n",
    "    param_grid=param_grid,\n",
    "    scoring=\"neg_mean_squared_error\",   # use neg MSE; convert to RMSE later\n",
    "    cv=5,\n",
    "    n_jobs=-1,\n",
    "    return_train_score=True,\n",
    ")\n",
    "search.fit(X_train, y_train)\n",
    "\n",
    "# 4) Report CV (convert neg MSE -> RMSE so bigger-is-better becomes smaller-is-better intuition)\n",
    "best_neg_mse = search.best_score_\n",
    "best_cv_rmse = np.sqrt(-best_neg_mse)\n",
    "print(\"Best params:\", search.best_params_)\n",
    "print(\"CV best score (RMSE):\", best_cv_rmse)\n",
    "\n",
    "# 5) Test evaluation\n",
    "best_model = search.best_estimator_\n",
    "y_pred = best_model.predict(X_test)\n",
    "mse = mean_squared_error(y_test, y_pred)\n",
    "rmse = np.sqrt(mse)\n",
    "r2 = r2_score(y_test, y_pred)\n",
    "print(\"Test RMSE:\", rmse)\n",
    "print(\"Test R^2:\", r2)\n"
   ]
  },
  {
   "cell_type": "markdown",
   "id": "59f6ddf6",
   "metadata": {},
   "source": [
    "\n",
    "**Exercises**\n",
    "- Add smaller `alpha` (e.g., `0.0001`) and increase `max_iter`.\n",
    "- Compare selected features (non-zero coefficients) between best `Ridge` and best `Lasso`.\n"
   ]
  },
  {
   "cell_type": "markdown",
   "id": "4125e6eb",
   "metadata": {},
   "source": [
    "\n",
    "## 7) Regression — Decision Tree Regressor (Diabetes)\n",
    "\n",
    "### Parameters to tune (and why)\n",
    "- **`max_depth`**: Controls tree depth and overfitting.\n",
    "- **`min_samples_split`**, **`min_samples_leaf`**: Regularize tree growth.\n",
    "- **`criterion`**: Split quality metric (e.g., `'squared_error'`, `'absolute_error'`).\n"
   ]
  },
  {
   "cell_type": "code",
   "execution_count": 14,
   "id": "74076fcc",
   "metadata": {},
   "outputs": [
    {
     "name": "stdout",
     "output_type": "stream",
     "text": [
      "Best params: {'criterion': 'squared_error', 'max_depth': 3, 'min_samples_leaf': 4, 'min_samples_split': 2}\n",
      "CV best score (neg RMSE): -64.32353433046526\n",
      "Test RMSE: 58.228715014669916\n",
      "Test R^2: 0.36004414120283446\n"
     ]
    }
   ],
   "source": [
    "# --- imports ---\n",
    "import numpy as np\n",
    "from sklearn.datasets import load_diabetes\n",
    "from sklearn.model_selection import train_test_split, GridSearchCV\n",
    "from sklearn.tree import DecisionTreeRegressor\n",
    "from sklearn.metrics import mean_squared_error, r2_score\n",
    "\n",
    "# --- config ---\n",
    "RANDOM_STATE = 42\n",
    "\n",
    "# --- data ---\n",
    "X, y = load_diabetes(return_X_y=True)\n",
    "X_train, X_test, y_train, y_test = train_test_split(\n",
    "    X, y, test_size=0.2, random_state=RANDOM_STATE\n",
    ")\n",
    "\n",
    "# --- grid ---\n",
    "param_grid = {\n",
    "    'max_depth': [None, 3, 5, 10, 20],\n",
    "    'min_samples_split': [2, 5, 10],\n",
    "    'min_samples_leaf': [1, 2, 4],\n",
    "    'criterion': ['squared_error', 'absolute_error']\n",
    "}\n",
    "\n",
    "model = DecisionTreeRegressor(random_state=RANDOM_STATE)\n",
    "\n",
    "search = GridSearchCV(\n",
    "    estimator=model,\n",
    "    param_grid=param_grid,\n",
    "    scoring='neg_root_mean_squared_error',  # closer to 0 = better\n",
    "    cv=5,\n",
    "    n_jobs=-1,\n",
    "    return_train_score=True\n",
    ")\n",
    "\n",
    "# --- training ---\n",
    "search.fit(X_train, y_train)\n",
    "\n",
    "print('Best params:', search.best_params_)\n",
    "print('CV best score (neg RMSE):', search.best_score_)\n",
    "\n",
    "# --- evaluate on test set ---\n",
    "best_model = search.best_estimator_\n",
    "y_pred = best_model.predict(X_test)\n",
    "\n",
    "# compute RMSE manually for compatibility\n",
    "rmse = np.sqrt(mean_squared_error(y_test, y_pred))\n",
    "print('Test RMSE:', rmse)\n",
    "\n",
    "# compute R^2\n",
    "print('Test R^2:', r2_score(y_test, y_pred))\n"
   ]
  },
  {
   "cell_type": "markdown",
   "id": "84334fc9",
   "metadata": {},
   "source": [
    "\n",
    "**Exercises**\n",
    "- Add `max_features=['sqrt', 'log2', None]`.\n",
    "- Visualize the tree depth vs test RMSE by manually editing the grid values (still no loops required).\n"
   ]
  },
  {
   "cell_type": "markdown",
   "id": "2cf3ac74",
   "metadata": {},
   "source": [
    "\n",
    "## 8) Regression — Random Forest Regressor (Diabetes)\n",
    "\n",
    "### Parameters to tune (and why)\n",
    "- **`n_estimators`**: Number of trees; more can improve stability.\n",
    "- **`max_depth`**, **`min_samples_split`**, **`min_samples_leaf`**: Control complexity.\n",
    "- **`max_features`**: Features considered at each split (e.g., `'sqrt'`, `'log2'`, or a float fraction).\n"
   ]
  },
  {
   "cell_type": "code",
   "execution_count": 15,
   "id": "1de6cf72",
   "metadata": {},
   "outputs": [
    {
     "name": "stdout",
     "output_type": "stream",
     "text": [
      "Best params: {'max_depth': 20, 'max_features': 'sqrt', 'min_samples_leaf': 1, 'min_samples_split': 5, 'n_estimators': 400}\n",
      "CV best score (neg RMSE): -57.53043799593669\n",
      "CV best RMSE: 57.53043799593669\n",
      "Test RMSE: 53.42279835610717\n",
      "Test R^2: 0.4613224536280297\n"
     ]
    }
   ],
   "source": [
    "# --- imports ---\n",
    "import numpy as np\n",
    "from sklearn.datasets import load_diabetes\n",
    "from sklearn.model_selection import train_test_split, GridSearchCV\n",
    "from sklearn.ensemble import RandomForestRegressor\n",
    "from sklearn.metrics import mean_squared_error, r2_score\n",
    "\n",
    "# --- config ---\n",
    "RANDOM_STATE = 42\n",
    "\n",
    "# --- data ---\n",
    "X, y = load_diabetes(return_X_y=True)\n",
    "X_train, X_test, y_train, y_test = train_test_split(\n",
    "    X, y, test_size=0.2, random_state=RANDOM_STATE\n",
    ")\n",
    "\n",
    "# --- grid ---\n",
    "param_grid = {\n",
    "    'n_estimators': [200, 400],\n",
    "    'max_depth': [None, 10, 20],\n",
    "    'min_samples_split': [2, 5],\n",
    "    'min_samples_leaf': [1, 2],\n",
    "    'max_features': ['sqrt', 'log2', 1.0],\n",
    "}\n",
    "\n",
    "# --- model & search ---\n",
    "model = RandomForestRegressor(random_state=RANDOM_STATE)\n",
    "search = GridSearchCV(\n",
    "    estimator=model,\n",
    "    param_grid=param_grid,\n",
    "    scoring='neg_root_mean_squared_error',  # CV metric\n",
    "    cv=5,\n",
    "    n_jobs=-1,\n",
    "    return_train_score=True\n",
    ")\n",
    "search.fit(X_train, y_train)\n",
    "\n",
    "print('Best params:', search.best_params_)\n",
    "print('CV best score (neg RMSE):', search.best_score_)\n",
    "print('CV best RMSE:', -search.best_score_)\n",
    "\n",
    "# --- evaluate on test set ---\n",
    "best_model = search.best_estimator_\n",
    "y_pred = best_model.predict(X_test)\n",
    "\n",
    "# Compute RMSE manually (works on all sklearn versions)\n",
    "rmse = np.sqrt(mean_squared_error(y_test, y_pred))\n",
    "print('Test RMSE:', rmse)\n",
    "\n",
    "print('Test R^2:', r2_score(y_test, y_pred))\n"
   ]
  }
 ],
 "metadata": {
  "kernelspec": {
   "display_name": "Python 3",
   "language": "python",
   "name": "python3"
  },
  "language_info": {
   "codemirror_mode": {
    "name": "ipython",
    "version": 3
   },
   "file_extension": ".py",
   "mimetype": "text/x-python",
   "name": "python",
   "nbconvert_exporter": "python",
   "pygments_lexer": "ipython3",
   "version": "3.12.3"
  }
 },
 "nbformat": 4,
 "nbformat_minor": 5
}
