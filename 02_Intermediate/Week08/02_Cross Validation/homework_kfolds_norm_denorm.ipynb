{
 "cells": [
  {
   "cell_type": "markdown",
   "id": "661fd2d5",
   "metadata": {},
   "source": [
    "\n",
    "## Homework: K-Folds Cross Validation, Normalization, and De-normalization\n",
    "\n",
    "In this homework, you will learn how to apply K-Folds Cross Validation, normalization and de-normalization techniques on the King County House dataset. \n",
    "You will use the `pandas`, `scikit-learn` and `numpy` libraries for this homework.\n",
    "\n",
    "The dataset includes information about different houses in King County, such as the number of bedrooms, bathrooms, living area size (sqft), lot size (sqft), number of floors, and price.\n",
    "\n",
    "The steps you need to perform are:\n",
    "\n",
    "1. Load the dataset.\n",
    "2. Normalize the features using both Min-Max scaling and Standard scaling.\n",
    "3. De-normalize the data.\n",
    "4. Implement K-Folds Cross Validation.\n",
    "\n",
    "Good luck!\n",
    "    "
   ]
  },
  {
   "cell_type": "code",
   "execution_count": null,
   "id": "dc05f4c2",
   "metadata": {},
   "outputs": [],
   "source": [
    "\n",
    "# Import the necessary libraries\n",
    "import pandas as pd\n",
    "from sklearn.preprocessing import MinMaxScaler, StandardScaler\n",
    "from sklearn.model_selection import KFold\n",
    "    "
   ]
  },
  {
   "cell_type": "code",
   "execution_count": null,
   "id": "ccbe0d55",
   "metadata": {},
   "outputs": [],
   "source": [
    "\n",
    "# TASK 1: Load the dataset\n",
    "# The dataset is stored in a file named 'kingCountyHouseData.csv'\n",
    "# Load the data into a pandas DataFrame and display the first few rows of the DataFrame.\n",
    "\n",
    "\n",
    "# TASK 1: Load the dataset\n",
    "\n",
    "# Load the dataset\n",
    "url = 'https://raw.githubusercontent.com/mGalarnyk/Tutorial_Data/master/King_County/kingCountyHouseData.csv'\n",
    "df = pd.read_csv(url)    \n",
    "df"
   ]
  },
  {
   "cell_type": "code",
   "execution_count": null,
   "id": "3ba9b2ac",
   "metadata": {},
   "outputs": [],
   "source": [
    "\n",
    "# TASK 2: Normalize the features\n",
    "# Exclude the target variable 'price' from the normalization.\n",
    "# Perform normalization using both Min-Max scaling and Standard scaling (Z-score normalization).\n",
    "# Display the first few rows of the DataFrame after normalization.\n",
    "\n",
    "# Your code here:\n",
    "    "
   ]
  },
  {
   "cell_type": "code",
   "execution_count": null,
   "id": "54747309",
   "metadata": {},
   "outputs": [],
   "source": [
    "\n",
    "# TASK 3: De-normalize the data\n",
    "# Use the inverse_transform() function of the scaler to de-normalize the data.\n",
    "# Display the first few rows of the DataFrame after de-normalization.\n",
    "\n",
    "# Your code here:\n",
    "    "
   ]
  },
  {
   "cell_type": "code",
   "execution_count": null,
   "id": "8a17f2d2",
   "metadata": {},
   "outputs": [],
   "source": [
    "\n",
    "# TASK 4: Implement K-Folds Cross Validation\n",
    "# Use the KFold() function from scikit-learn to perform K-Folds Cross Validation on the dataset.\n",
    "# For this task, you don't need to train a model. Just split the dataset into training and validation sets.\n",
    "\n",
    "# Your code here:\n",
    "    "
   ]
  }
 ],
 "metadata": {
  "language_info": {
   "name": "python"
  }
 },
 "nbformat": 4,
 "nbformat_minor": 5
}
