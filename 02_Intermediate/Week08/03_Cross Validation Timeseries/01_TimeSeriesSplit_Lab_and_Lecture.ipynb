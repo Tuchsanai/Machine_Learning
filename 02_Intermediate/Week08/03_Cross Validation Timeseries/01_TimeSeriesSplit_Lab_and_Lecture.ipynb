{
 "cells": [
  {
   "cell_type": "markdown",
   "id": "600a004c",
   "metadata": {},
   "source": [
    "# TimeSeriesSplit – Lab & Lecture (Parameter-by-Parameter Analysis)\n",
    "**Author:** Auto-generated for teaching\n",
    "\n",
    "**Prereqs:** NumPy, basic scikit-learn, understanding of temporal order"
   ]
  },
  {
   "cell_type": "markdown",
   "id": "8eedc39a",
   "metadata": {},
   "source": [
    "## 0) Learning Goals / วัตถุประสงค์การเรียนรู้\n",
    "- Understand **why** classic K‑Fold is inappropriate for time series.\n",
    "- Master `TimeSeriesSplit` parameters: `n_splits`, `test_size`, `gap`, `max_train_size`.\n",
    "- Interpret generated **train/test indices** and connect them to calendar time.\n",
    "- Build small forecasting experiments with proper CV (walk‑forward validation).\n",
    "- Diagnose **leakage** and choose reasonable parameter values."
   ]
  },
  {
   "cell_type": "markdown",
   "id": "b2ff3b2b",
   "metadata": {},
   "source": [
    "## 1) Quick Start Example (from your snippet)"
   ]
  },
  {
   "cell_type": "code",
   "execution_count": 1,
   "id": "4b4f429e",
   "metadata": {},
   "outputs": [
    {
     "name": "stdout",
     "output_type": "stream",
     "text": [
      "Split 1 -> TRAIN: [0 1 2], TEST: [3]\n",
      "Split 2 -> TRAIN: [0 1 2 3], TEST: [4]\n",
      "Split 3 -> TRAIN: [0 1 2 3 4], TEST: [5]\n"
     ]
    }
   ],
   "source": [
    "import numpy as np\n",
    "from sklearn.model_selection import TimeSeriesSplit\n",
    "\n",
    "X = np.array([[1, 2], [3, 4], [1, 2], [3, 4], [1, 2], [3, 4]])\n",
    "y = np.array([1, 2, 3, 4, 5, 6])\n",
    "\n",
    "# With only 6 samples, use a smaller n_splits\n",
    "tscv = TimeSeriesSplit(n_splits=3)\n",
    "for i, (train_index, test_index) in enumerate(tscv.split(X)):\n",
    "    print(f\"Split {i+1} -> TRAIN: {train_index}, TEST: {test_index}\")\n",
    "    X_train, X_test = X[train_index], X[test_index]\n",
    "    y_train, y_test = y[train_index], y[test_index]"
   ]
  },
  {
   "cell_type": "markdown",
   "id": "fce292b9",
   "metadata": {},
   "source": [
    "## 2) Why not classic K‑Fold? / ทำไม K‑Fold แบบทั่วไปใช้กับ Time Series ไม่เหมาะ\n",
    "- K‑Fold randomly partitions data into folds → **breaks temporal order**.\n",
    "- Past must not peek at future → **data leakage** if future samples end up in train.\n",
    "- `TimeSeriesSplit` ensures all test indices occur **after** the training indices."
   ]
  },
  {
   "cell_type": "code",
   "execution_count": 2,
   "id": "c59fb49a",
   "metadata": {},
   "outputs": [
    {
     "name": "stdout",
     "output_type": "stream",
     "text": [
      "KFold (BAD for time series):\n",
      "train max: 11 | test min: 0\n",
      "train max: 10 | test min: 1\n",
      "train max: 11 | test min: 3\n",
      "\n",
      "TimeSeriesSplit (GOOD):\n",
      "train max: 2 | test min: 3\n",
      "train max: 5 | test min: 6\n",
      "train max: 8 | test min: 9\n"
     ]
    }
   ],
   "source": [
    "from sklearn.model_selection import KFold\n",
    "Xdemo = np.arange(12).reshape(-1, 1)\n",
    "print(\"KFold (BAD for time series):\")\n",
    "for tr, te in KFold(n_splits=3, shuffle=True, random_state=42).split(Xdemo):\n",
    "    print(\"train max:\", tr.max(), \"| test min:\", te.min())  # test can be before train!\n",
    "\n",
    "print(\"\\nTimeSeriesSplit (GOOD):\")\n",
    "for tr, te in TimeSeriesSplit(n_splits=3).split(Xdemo):\n",
    "    print(\"train max:\", tr.max(), \"| test min:\", te.min())  # test >= train"
   ]
  },
  {
   "cell_type": "markdown",
   "id": "b6592fd4",
   "metadata": {},
   "source": [
    "## 3) The Four Parameters (Deep Dive)\n",
    "Helper function to visualize splits:"
   ]
  },
  {
   "cell_type": "code",
   "execution_count": 3,
   "id": "b5ff1bdc",
   "metadata": {},
   "outputs": [],
   "source": [
    "import numpy as np\n",
    "from sklearn.model_selection import TimeSeriesSplit\n",
    "\n",
    "def show_splits(n_samples=20, **kw):\n",
    "    X = np.arange(n_samples).reshape(-1, 1)\n",
    "    tscv = TimeSeriesSplit(**kw)\n",
    "    for i, (tr, te) in enumerate(tscv.split(X), 1):\n",
    "        tr_preview = f\"{tr[:3]}...{tr[-3:]}\" if len(tr) > 6 else str(tr)\n",
    "        print(f\"Split {i:>2} | train={tr_preview} (len={len(tr)}) | test={te} (len={len(te)})\")\n",
    "\n",
    "        "
   ]
  },
  {
   "cell_type": "markdown",
   "id": "d9dbfb26",
   "metadata": {},
   "source": [
    "### 3.1 `n_splits`\n",
    "- **Definition**: Number of train→test splits (walk‑forward steps).\n",
    "- **Effect**: More splits → more evaluations but smaller early train windows.\n",
    "- **Constraint**: Needs enough samples to form at least one test fold."
   ]
  },
  {
   "cell_type": "code",
   "execution_count": 7,
   "id": "c826ba44",
   "metadata": {},
   "outputs": [
    {
     "name": "stdout",
     "output_type": "stream",
     "text": [
      "n_splits exploration (n_samples=20)\n",
      "Split  1 | train=[0 1 2]...[6 7 8] (len=9) | test=[ 9 10 11 12 13 14 15] (len=7)\n",
      "Split  2 | train=[0 1 2]...[13 14 15] (len=16) | test=[16 17 18 19 20 21 22] (len=7)\n",
      "Split  3 | train=[0 1 2]...[20 21 22] (len=23) | test=[23 24 25 26 27 28 29] (len=7)\n",
      "\n",
      "---\n",
      "Split  1 | train=[0 1 2 3 4] (len=5) | test=[5 6 7 8 9] (len=5)\n",
      "Split  2 | train=[0 1 2]...[7 8 9] (len=10) | test=[10 11 12 13 14] (len=5)\n",
      "Split  3 | train=[0 1 2]...[12 13 14] (len=15) | test=[15 16 17 18 19] (len=5)\n",
      "Split  4 | train=[0 1 2]...[17 18 19] (len=20) | test=[20 21 22 23 24] (len=5)\n",
      "Split  5 | train=[0 1 2]...[22 23 24] (len=25) | test=[25 26 27 28 29] (len=5)\n",
      "\n",
      "---\n",
      "Split  1 | train=[0 1 2]...[7 8 9] (len=10) | test=[10 11] (len=2)\n",
      "Split  2 | train=[0 1 2]...[ 9 10 11] (len=12) | test=[12 13] (len=2)\n",
      "Split  3 | train=[0 1 2]...[11 12 13] (len=14) | test=[14 15] (len=2)\n",
      "Split  4 | train=[0 1 2]...[13 14 15] (len=16) | test=[16 17] (len=2)\n",
      "Split  5 | train=[0 1 2]...[15 16 17] (len=18) | test=[18 19] (len=2)\n",
      "Split  6 | train=[0 1 2]...[17 18 19] (len=20) | test=[20 21] (len=2)\n",
      "Split  7 | train=[0 1 2]...[19 20 21] (len=22) | test=[22 23] (len=2)\n",
      "Split  8 | train=[0 1 2]...[21 22 23] (len=24) | test=[24 25] (len=2)\n",
      "Split  9 | train=[0 1 2]...[23 24 25] (len=26) | test=[26 27] (len=2)\n",
      "Split 10 | train=[0 1 2]...[25 26 27] (len=28) | test=[28 29] (len=2)\n"
     ]
    }
   ],
   "source": [
    "print('n_splits exploration (n_samples=20)')\n",
    "show_splits(n_samples=30, n_splits=3)\n",
    "print('\\n---')\n",
    "show_splits(n_samples=30, n_splits=5)\n",
    "print('\\n---')\n",
    "show_splits(n_samples=30, n_splits=10)"
   ]
  },
  {
   "cell_type": "markdown",
   "id": "6a276a4b",
   "metadata": {},
   "source": [
    "### 3.2 `test_size`\n",
    "- **Definition**: Size of each test fold.\n",
    "- **Use when** you want a fixed horizon (e.g., forecast next 7 days each split)."
   ]
  },
  {
   "cell_type": "code",
   "execution_count": 7,
   "id": "cdff7000",
   "metadata": {},
   "outputs": [
    {
     "name": "stdout",
     "output_type": "stream",
     "text": [
      "test_size exploration (n_samples=20, n_splits=4)\n",
      "Split  1 | train=[0 1 2]...[5 6 7] (len=8) | test=[ 8  9 10] (len=3)\n",
      "Split  2 | train=[0 1 2]...[ 8  9 10] (len=11) | test=[11 12 13] (len=3)\n",
      "Split  3 | train=[0 1 2]...[11 12 13] (len=14) | test=[14 15 16] (len=3)\n",
      "Split  4 | train=[0 1 2]...[14 15 16] (len=17) | test=[17 18 19] (len=3)\n",
      "\n",
      "---\n",
      "Split  1 | train=[0 1 2]...[13 14 15] (len=16) | test=[16] (len=1)\n",
      "Split  2 | train=[0 1 2]...[14 15 16] (len=17) | test=[17] (len=1)\n",
      "Split  3 | train=[0 1 2]...[15 16 17] (len=18) | test=[18] (len=1)\n",
      "Split  4 | train=[0 1 2]...[16 17 18] (len=19) | test=[19] (len=1)\n"
     ]
    }
   ],
   "source": [
    "print('test_size exploration (n_samples=20, n_splits=4)')\n",
    "show_splits(n_samples=20, n_splits=4, test_size=3)\n",
    "print('\\n---')\n",
    "show_splits(n_samples=20, n_splits=4, test_size=1)"
   ]
  },
  {
   "cell_type": "markdown",
   "id": "07663ba6",
   "metadata": {},
   "source": [
    "### 3.3 `gap`\n",
    "- **Definition**: Number of samples skipped between train end and test start.\n",
    "- **Why**: Prevents leakage when features use trailing windows (lags/rolling)."
   ]
  },
  {
   "cell_type": "code",
   "execution_count": 8,
   "id": "591fd841",
   "metadata": {},
   "outputs": [
    {
     "name": "stdout",
     "output_type": "stream",
     "text": [
      "gap exploration (n_samples=18, n_splits=4, test_size=2, gap=2)\n",
      "Split  1 | train=[0 1 2]...[5 6 7] (len=8) | test=[10 11] (len=2)\n",
      "Split  2 | train=[0 1 2]...[7 8 9] (len=10) | test=[12 13] (len=2)\n",
      "Split  3 | train=[0 1 2]...[ 9 10 11] (len=12) | test=[14 15] (len=2)\n",
      "Split  4 | train=[0 1 2]...[11 12 13] (len=14) | test=[16 17] (len=2)\n"
     ]
    }
   ],
   "source": [
    "print('gap exploration (n_samples=18, n_splits=4, test_size=2, gap=2)')\n",
    "show_splits(n_samples=18, n_splits=4, test_size=2, gap=2)"
   ]
  },
  {
   "cell_type": "markdown",
   "id": "1a5296e6",
   "metadata": {},
   "source": [
    "### 3.4 `max_train_size`\n",
    "- **Definition**: Cap the training window length. `None` = expanding; integer = sliding window."
   ]
  },
  {
   "cell_type": "code",
   "execution_count": 9,
   "id": "135adcd9",
   "metadata": {},
   "outputs": [
    {
     "name": "stdout",
     "output_type": "stream",
     "text": [
      "Expanding window (default)\n",
      "Split  1 | train=[0 1 2]...[7 8 9] (len=10) | test=[10 11] (len=2)\n",
      "Split  2 | train=[0 1 2]...[ 9 10 11] (len=12) | test=[12 13] (len=2)\n",
      "Split  3 | train=[0 1 2]...[11 12 13] (len=14) | test=[14 15] (len=2)\n",
      "Split  4 | train=[0 1 2]...[13 14 15] (len=16) | test=[16 17] (len=2)\n",
      "\n",
      "Sliding window of last 8 samples only\n",
      "Split  1 | train=[2 3 4]...[7 8 9] (len=8) | test=[10 11] (len=2)\n",
      "Split  2 | train=[4 5 6]...[ 9 10 11] (len=8) | test=[12 13] (len=2)\n",
      "Split  3 | train=[6 7 8]...[11 12 13] (len=8) | test=[14 15] (len=2)\n",
      "Split  4 | train=[ 8  9 10]...[13 14 15] (len=8) | test=[16 17] (len=2)\n"
     ]
    }
   ],
   "source": [
    "print('Expanding window (default)')\n",
    "show_splits(n_samples=18, n_splits=4, test_size=2)\n",
    "print('\\nSliding window of last 8 samples only')\n",
    "show_splits(n_samples=18, n_splits=4, test_size=2, max_train_size=8)"
   ]
  },
  {
   "cell_type": "markdown",
   "id": "47609362",
   "metadata": {},
   "source": [
    "## 4) Putting It Together (common recipes)"
   ]
  },
  {
   "cell_type": "code",
   "execution_count": 10,
   "id": "6cb97a24",
   "metadata": {},
   "outputs": [
    {
     "name": "stdout",
     "output_type": "stream",
     "text": [
      "Recipe A: expanding window, horizon=3\n",
      "Split  1 | train=[0 1 2]...[6 7 8] (len=9) | test=[ 9 10 11] (len=3)\n",
      "Split  2 | train=[0 1 2]...[ 9 10 11] (len=12) | test=[12 13 14] (len=3)\n",
      "Split  3 | train=[0 1 2]...[12 13 14] (len=15) | test=[15 16 17] (len=3)\n",
      "Split  4 | train=[0 1 2]...[15 16 17] (len=18) | test=[18 19 20] (len=3)\n",
      "Split  5 | train=[0 1 2]...[18 19 20] (len=21) | test=[21 22 23] (len=3)\n",
      "\n",
      "Recipe B: sliding window, horizon=2, gap=3, max_train_size=12\n",
      "Split  1 | train=[3 4 5]...[12 13 14] (len=12) | test=[18 19] (len=2)\n",
      "Split  2 | train=[5 6 7]...[14 15 16] (len=12) | test=[20 21] (len=2)\n",
      "Split  3 | train=[7 8 9]...[16 17 18] (len=12) | test=[22 23] (len=2)\n",
      "Split  4 | train=[ 9 10 11]...[18 19 20] (len=12) | test=[24 25] (len=2)\n",
      "Split  5 | train=[11 12 13]...[20 21 22] (len=12) | test=[26 27] (len=2)\n",
      "Split  6 | train=[13 14 15]...[22 23 24] (len=12) | test=[28 29] (len=2)\n",
      "\n",
      "Recipe C: many micro‑tests (test_size=1)\n",
      "Split  1 | train=[0 1 2]...[5 6 7] (len=8) | test=[8] (len=1)\n",
      "Split  2 | train=[0 1 2]...[6 7 8] (len=9) | test=[9] (len=1)\n",
      "Split  3 | train=[0 1 2]...[7 8 9] (len=10) | test=[10] (len=1)\n",
      "Split  4 | train=[0 1 2]...[ 8  9 10] (len=11) | test=[11] (len=1)\n",
      "Split  5 | train=[0 1 2]...[ 9 10 11] (len=12) | test=[12] (len=1)\n",
      "Split  6 | train=[0 1 2]...[10 11 12] (len=13) | test=[13] (len=1)\n",
      "Split  7 | train=[0 1 2]...[11 12 13] (len=14) | test=[14] (len=1)\n"
     ]
    }
   ],
   "source": [
    "# Recipe A: Next‑k prediction, expanding window (horizon=3)\n",
    "print('Recipe A: expanding window, horizon=3')\n",
    "show_splits(n_samples=24, n_splits=5, test_size=3)\n",
    "\n",
    "# Recipe B: Next‑k prediction, sliding window with leakage guard\n",
    "print('\\nRecipe B: sliding window, horizon=2, gap=3, max_train_size=12')\n",
    "show_splits(n_samples=30, n_splits=6, test_size=2, max_train_size=12, gap=3)\n",
    "\n",
    "# Recipe C: Many short checks (micro‑tests)\n",
    "print('\\nRecipe C: many micro‑tests (test_size=1)')\n",
    "show_splits(n_samples=15, n_splits=7, test_size=1)"
   ]
  },
  {
   "cell_type": "markdown",
   "id": "ed9fd8a1",
   "metadata": {},
   "source": [
    "## 5) Mini Project: Walk‑Forward Evaluation with a Simple Model\n",
    "We build lag features and evaluate with `TimeSeriesSplit`."
   ]
  },
  {
   "cell_type": "code",
   "execution_count": 11,
   "id": "7ecb18be",
   "metadata": {},
   "outputs": [
    {
     "name": "stdout",
     "output_type": "stream",
     "text": [
      "Split 1: MAE=0.999 | train_end_idx=48 | test_idx=[np.int64(52), np.int64(53), np.int64(54), np.int64(55), np.int64(56)]\n",
      "Split 2: MAE=1.108 | train_end_idx=53 | test_idx=[np.int64(57), np.int64(58), np.int64(59), np.int64(60), np.int64(61)]\n",
      "Split 3: MAE=0.621 | train_end_idx=58 | test_idx=[np.int64(62), np.int64(63), np.int64(64), np.int64(65), np.int64(66)]\n",
      "Split 4: MAE=0.874 | train_end_idx=63 | test_idx=[np.int64(67), np.int64(68), np.int64(69), np.int64(70), np.int64(71)]\n",
      "Split 5: MAE=0.581 | train_end_idx=68 | test_idx=[np.int64(72), np.int64(73), np.int64(74), np.int64(75), np.int64(76)]\n",
      "\n",
      "Mean MAE across splits: 0.837 ± 0.206\n"
     ]
    }
   ],
   "source": [
    "import numpy as np\n",
    "import pandas as pd\n",
    "from sklearn.linear_model import LinearRegression\n",
    "from sklearn.metrics import mean_absolute_error\n",
    "from sklearn.model_selection import TimeSeriesSplit\n",
    "\n",
    "# Synthetic series with trend + noise\n",
    "rng = np.random.default_rng(42)\n",
    "T = 80\n",
    "y = pd.Series(0.3*np.arange(T) + rng.normal(scale=1.0, size=T))\n",
    "\n",
    "# Build supervised dataset: predict y_t from [y_{t-1}, y_{t-2}, y_{t-3}]\n",
    "LAGS = 3\n",
    "X = pd.concat({f\"lag{i}\": y.shift(i) for i in range(1, LAGS+1)}, axis=1).dropna()\n",
    "y_super = y.loc[X.index]\n",
    "\n",
    "# CV with leakage guard: gap=LAGS\n",
    "tscv = TimeSeriesSplit(n_splits=5, test_size=5, gap=LAGS)\n",
    "maes = []\n",
    "for i, (tr, te) in enumerate(tscv.split(X), 1):\n",
    "    model = LinearRegression()\n",
    "    model.fit(X.iloc[tr], y_super.iloc[tr])\n",
    "    pred = model.predict(X.iloc[te])\n",
    "    mae = mean_absolute_error(y_super.iloc[te], pred)\n",
    "    maes.append(mae)\n",
    "    print(f\"Split {i}: MAE={mae:.3f} | train_end_idx={tr[-1]} | test_idx={list(te)}\")\n",
    "\n",
    "print(f\"\\nMean MAE across splits: {np.mean(maes):.3f} ± {np.std(maes):.3f}\")"
   ]
  },
  {
   "cell_type": "markdown",
   "id": "3c3cd1b1",
   "metadata": {},
   "source": [
    "## 6) Parameter Selection Guidelines (Engineering View)\n",
    "- **`test_size`** = your **forecast horizon** (e.g., next 1/7/30 steps).\n",
    "- **`gap`** ≥ **max feature look‑back** (e.g., if you compute 14‑step rolling stats, use `gap≥14`).\n",
    "- **`max_train_size`**: Use small values for **concept drift**; `None` when older data **still helps**.\n",
    "- **`n_splits`**: Start 3–5; balance more evaluation points vs sufficient train length."
   ]
  },
  {
   "cell_type": "markdown",
   "id": "6cac1853",
   "metadata": {},
   "source": [
    "## 7) Common Pitfalls / จุดพลาดที่พบบ่อย\n",
    "1. **Shuffling** time series before split → leakage.\n",
    "2. `gap` too small for your feature lags → subtle leakage.\n",
    "3. `n_splits` too large for dataset length → empty/invalid folds.\n",
    "4. Misaligned features/targets after shifting → row mismatch.\n",
    "5. Comparing results to random CV scores → unfair."
   ]
  },
  {
   "cell_type": "markdown",
   "id": "48a92e91",
   "metadata": {},
   "source": [
    "## 8) Exercises / แบบฝึกหัด\n",
    "1. **Tune the horizon**: For `T=60`, set `n_splits=4`. Try `test_size=1`, `3`, `7`. How do MAE/SMAPE change?\n",
    "2. **Leakage check**: If you use lags up to 5, experiment with `gap=0` vs `gap=5`. Observe score inflation with `gap=0`.\n",
    "3. **Sliding vs Expanding**: Compare `max_train_size=None` vs `max_train_size=24` on a non‑stationary series.\n",
    "4. **Edge cases**: With a 12‑point series, find the largest `n_splits` that still yields valid folds when `test_size=2`."
   ]
  },
  {
   "cell_type": "markdown",
   "id": "21555185",
   "metadata": {},
   "source": [
    "## 9) Back to Your Minimal Example (complete)"
   ]
  },
  {
   "cell_type": "code",
   "execution_count": 12,
   "id": "f768e80b",
   "metadata": {},
   "outputs": [
    {
     "name": "stdout",
     "output_type": "stream",
     "text": [
      "Example 1: n_splits=3 (auto test_size)\n",
      "Split 1 -> TRAIN: [0 1 2], TEST: [3]\n",
      "Split 2 -> TRAIN: [0 1 2 3], TEST: [4]\n",
      "Split 3 -> TRAIN: [0 1 2 3 4], TEST: [5]\n",
      "\n",
      "Example 2: n_splits=2, test_size=2\n",
      "Split 1 -> TRAIN: [0 1], TEST: [2 3]\n",
      "Split 2 -> TRAIN: [0 1 2 3], TEST: [4 5]\n",
      "\n",
      "Example 3: n_splits=2, test_size=1, gap=1\n",
      "Split 1 -> TRAIN: [0 1 2], TEST: [4]\n",
      "Split 2 -> TRAIN: [0 1 2 3], TEST: [5]\n"
     ]
    }
   ],
   "source": [
    "import numpy as np\n",
    "from sklearn.model_selection import TimeSeriesSplit\n",
    "\n",
    "X = np.array([[1, 2], [3, 4], [1, 2], [3, 4], [1, 2], [3, 4]])\n",
    "y = np.array([1, 2, 3, 4, 5, 6])\n",
    "\n",
    "print(\"Example 1: n_splits=3 (auto test_size)\")\n",
    "tscv = TimeSeriesSplit(n_splits=3)\n",
    "for i, (train_index, test_index) in enumerate(tscv.split(X)):\n",
    "    print(f\"Split {i+1} -> TRAIN: {train_index}, TEST: {test_index}\")\n",
    "\n",
    "print(\"\\nExample 2: n_splits=2, test_size=2\")\n",
    "tscv = TimeSeriesSplit(n_splits=2, test_size=2)\n",
    "for i, (train_index, test_index) in enumerate(tscv.split(X)):\n",
    "    print(f\"Split {i+1} -> TRAIN: {train_index}, TEST: {test_index}\")\n",
    "\n",
    "print(\"\\nExample 3: n_splits=2, test_size=1, gap=1\")\n",
    "tscv = TimeSeriesSplit(n_splits=2, test_size=1, gap=1)\n",
    "for i, (train_index, test_index) in enumerate(tscv.split(X)):\n",
    "    print(f\"Split {i+1} -> TRAIN: {train_index}, TEST: {test_index}\")"
   ]
  },
  {
   "cell_type": "markdown",
   "id": "8cf6b76b",
   "metadata": {},
   "source": [
    "## 10) Thai Summary (สรุปภาษาไทย)\n",
    "- ใช้ `TimeSeriesSplit` สำหรับข้อมูลอนุกรมเวลาเพื่อหลีกเลี่ยงการรั่วไหลของอนาคต (data leakage).\n",
    "- ตั้ง `test_size` ให้ตรงกับขอบเขตการพยากรณ์ (horizon).\n",
    "- หากมีคุณลักษณะแบบ rolling/lag สูงสุดที่ `L` ให้ตั้ง `gap ≥ L`.\n",
    "- ใช้ `max_train_size` เพื่อทำ **sliding window** เมื่อข้อมูลมี drift; ปล่อย `None` เมื่อข้อมูลคงที่กว่า.\n",
    "- ปรับ `n_splits` เพื่อสมดุลจำนวนรอบประเมินกับขนาดข้อมูลใน train.\n",
    "\n",
    "> Tip: เริ่มด้วย `n_splits=3–5`, `test_size` = horizon, `gap` = max lag, แล้วค่อยปรับตามผลลัพธ์"
   ]
  }
 ],
 "metadata": {
  "kernelspec": {
   "display_name": "Python 3",
   "language": "python",
   "name": "python3"
  },
  "language_info": {
   "codemirror_mode": {
    "name": "ipython",
    "version": 3
   },
   "file_extension": ".py",
   "mimetype": "text/x-python",
   "name": "python",
   "nbconvert_exporter": "python",
   "pygments_lexer": "ipython3",
   "version": "3.12.3"
  }
 },
 "nbformat": 4,
 "nbformat_minor": 5
}
