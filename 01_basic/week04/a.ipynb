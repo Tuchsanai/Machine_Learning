{
  "cells": [
    {
      "cell_type": "markdown",
      "metadata": {},
      "source": [
        "# Advanced Lab: From Structured Data to Insightful Narratives 📊\n",
        "\n",
        "Welcome to the enhanced lab! We're moving beyond simple data conversion to explore how Large Language Models (LLMs) can interpret complex, nested structured data and generate nuanced, insightful narratives. 🚀\n",
        "\n",
        "In this notebook, you'll tackle two advanced scenarios:\n",
        "1.  **Multi-Period Financial Analysis**: You'll work with multi-period financial data to generate a comparative analysis, identify trends, and create an executive summary.\n",
        "2.  **Product Review & Sentiment Analysis**: You'll analyze a product catalog with nested customer reviews to summarize feedback, perform sentiment analysis, and even generate marketing copy."
      ]
    },
    {
      "cell_type": "code",
      "execution_count": null,
      "metadata": {},
      "outputs": [],
      "source": [
        "import IPython\n",
        "import sys\n",
        "\n",
        "def clean_notebook():\n",
        "    IPython.display.clear_output(wait=True)\n",
        "    print(\"Notebook cleaned.\")\n",
        "\n",
        "# Install necessary libraries\n",
        "!pip install openai python-dotenv gradio -q\n",
        "\n",
        "# Clean up the notebook\n",
        "clean_notebook()"
      ]
    },
    {
      "cell_type": "code",
      "execution_count": null,
      "metadata": {},
      "outputs": [],
      "source": [
        "%%writefile .env\n",
        "# Replace with your actual API keys\n",
        "OPENAI_API_KEY=your_openai_api_key_here\n",
        "OPENTYPHOON_API_KEY=your_opentyphoon_api_key_here"
      ]
    },
    {
      "cell_type": "code",
      "execution_count": null,
      "metadata": {},
      "outputs": [],
      "source": [
        "import os\n",
        "from openai import OpenAI\n",
        "from dotenv import load_dotenv\n",
        "import json\n",
        "\n",
        "# Load environment variables from .env file\n",
        "load_dotenv()\n",
        "\n",
        "# Initialize the client (choose one)\n",
        "# Option 1: OpenAI\n",
        "# openai_client = OpenAI(api_key=os.getenv(\"OPENAI_API_KEY\"))\n",
        "# model_name = \"gpt-4o\"\n",
        "\n",
        "# Option 2: OpenTyphoon (example)\n",
        "openai_client = OpenAI(api_key=os.environ.get(\"OPENTYPHOON_API_KEY\"), base_url=\"https://api.opentyphoon.ai/v1\")\n",
        "model_name = \"typhoon-v1.5x-70b-instruct\"\n",
        "\n",
        "print(\"Libraries loaded and client initialized.\")"
      ]
    },
    {
      "cell_type": "code",
      "execution_count": null,
      "metadata": {},
      "outputs": [],
      "source": [
        "def complete(user_prompt, system_prompt=\"You are a helpful assistant.\", max_tokens=1024):\n",
        "    \"\"\"A function to send a prompt to the LLM and return the response.\"\"\"\n",
        "    try:\n",
        "        completion = openai_client.chat.completions.create(\n",
        "            model=model_name,\n",
        "            messages=[\n",
        "                {\"role\": \"system\", \"content\": system_prompt},\n",
        "                {\"role\": \"user\", \"content\": user_prompt},\n",
        "            ],\n",
        "            temperature=0.7, # Increased temperature for more creative/analytical tasks\n",
        "            max_tokens=max_tokens,\n",
        "        )\n",
        "        return completion.choices[0].message.content\n",
        "    except Exception as e:\n",
        "        return f\"An error occurred: {e}\""
      ]
    },
    {
      "cell_type": "markdown",
      "metadata": {},
      "source": [
        "--- \n",
        "## Scenario 1: Multi-Period Financial Analysis 📈\n",
        "\n",
        "Here, you are a financial analyst tasked with summarizing a company's performance over two fiscal years. Your goal is to use an LLM to process the structured JSON data below and generate a report for stakeholders."
      ]
    },
    {
      "cell_type": "code",
      "execution_count": null,
      "metadata": {},
      "outputs": [],
      "source": [
        "financial_data = {\n",
        "  \"company\": \"Innovatech Solutions Inc.\",\n",
        "  \"ticker\": \"INVT\",\n",
        "  \"financials\": [\n",
        "    {\n",
        "      \"fiscal_year\": 2023,\n",
        "      \"revenue\": 150000000,\n",
        "      \"net_income\": 25000000,\n",
        "      \"earnings_per_share\": 2.50\n",
        "    },\n",
        "    {\n",
        "      \"fiscal_year\": 2024,\n",
        "      \"revenue\": 175000000,\n",
        "      \"net_income\": 30000000,\n",
        "      \"earnings_per_share\": 3.00\n",
        "    }\n",
        "  ]\n",
        "}\n",
        "\n",
        "financial_json = json.dumps(financial_data, indent=2)\n",
        "print(\"Financial JSON data is ready.\")"
      ]
    },
    {
      "cell_type": "markdown",
      "metadata": {},
      "source": [
        "### Task 1.1: Generate a Comparative Report\n",
        "\n",
        "Craft a prompt that instructs the LLM to create a comparative report of the two fiscal years. The report should be easy to read and highlight the key metrics (Revenue, Net Income, EPS) for both years."
      ]
    },
    {
      "cell_type": "code",
      "execution_count": null,
      "metadata": {},
      "outputs": [],
      "source": [
        "system_prompt_analyst = \"You are an expert financial analyst AI. Your responses should be clear, concise, and professional, suitable for a stakeholder report.\"\n",
        "\n",
        "prompt_task_1 = f\"\"\"\n",
        "Analyze the following financial data for Innovatech Solutions Inc. and generate a comparative report for fiscal years 2023 and 2024.\n",
        "\n",
        "Data:\n",
        "```json\n",
        "{financial_json}\n",
        "```\n",
        "\"\"\"\n",
        "\n",
        "comparative_report = complete(prompt_task_1, system_prompt_analyst)\n",
        "IPython.display.Markdown(comparative_report)"
      ]
    },
    {
      "cell_type": "markdown",
      "metadata": {},
      "source": [
        "### Task 1.2: Identify Key Trends & Calculate Growth\n",
        "\n",
        "Now, make your prompt more specific. Instruct the LLM to not only compare the two years but also to **calculate the percentage growth** for revenue and net income and comment on the trend in earnings per share."
      ]
    },
    {
      "cell_type": "code",
      "execution_count": null,
      "metadata": {},
      "outputs": [],
      "source": [
        "prompt_task_2 = f\"\"\"\n",
        "From the financial data provided below, generate a trend analysis for Innovatech Solutions Inc. between fiscal years 2023 and 2024. \n",
        "\n",
        "Your analysis must include:\n",
        "1. The percentage growth in revenue.\n",
        "2. The percentage growth in net income.\n",
        "3. A comment on the change in Earnings Per Share (EPS).\n",
        "\n",
        "Data:\n",
        "```json\n",
        "{financial_json}\n",
        "```\n",
        "\"\"\"\n",
        "\n",
        "trend_analysis = complete(prompt_task_2, system_prompt_analyst)\n",
        "IPython.display.Markdown(trend_analysis)"
      ]
    },
    {
      "cell_type": "markdown",
      "metadata": {},
      "source": [
        "--- \n",
        "## Scenario 2: Product Review and Sentiment Analysis 🛍️\n",
        "\n",
        "In this scenario, you're a product manager for an electronics company. You need to quickly understand customer feedback from a nested JSON dataset containing product information and a list of reviews. "
      ]
    },
    {
      "cell_type": "code",
      "execution_count": null,
      "metadata": {},
      "outputs": [],
      "source": [
        "product_data = {\n",
        "  \"product_id\": \"TECH-G100\",\n",
        "  \"product_name\": \"Starlight Pro Headphone\",\n",
        "  \"category\": \"Audio\",\n",
        "  \"reviews\": [\n",
        "    {\n",
        "      \"user_id\": \"user123\",\n",
        "      \"rating\": 5,\n",
        "      \"comment\": \"Absolutely amazing sound quality and very comfortable for long hours. The noise cancellation is top-notch!\"\n",
        "    },\n",
        "    {\n",
        "      \"user_id\": \"user456\",\n",
        "      \"rating\": 3,\n",
        "      \"comment\": \"The sound is good, but the battery life is a bit disappointing. It barely lasts a full day of use.\"\n",
        "    },\n",
        "    {\n",
        "      \"user_id\": \"user789\",\n",
        "      \"rating\": 4,\n",
        "      \"comment\": \"Great value for the price. Build quality feels solid and it connects to my devices seamlessly.\"\n",
        "    },\n",
        "    {\n",
        "      \"user_id\": \"user101\",\n",
        "      \"rating\": 2,\n",
        "      \"comment\": \"I experienced frequent bluetooth disconnections, and the microphone quality is poor for calls. Had to return it.\"\n",
        "    }\n",
        "  ]\n",
        "}\n",
        "\n",
        "product_json = json.dumps(product_data, indent=2)\n",
        "print(\"Product review JSON data is ready.\")"
      ]
    },
    {
      "cell_type": "markdown",
      "metadata": {},
      "source": [
        "### Task 2.1: Summarize Customer Feedback\n",
        "\n",
        "Your first task is to create a prompt that generates a bullet-point summary of the customer reviews. This summary should capture the main points, both positive and negative."
      ]
    },
    {
      "cell_type": "code",
      "execution_count": null,
      "metadata": {},
      "outputs": [],
      "source": [
        "system_prompt_pm = \"You are a helpful product management assistant AI. You excel at summarizing customer feedback into actionable insights.\"\n",
        "\n",
        "prompt_task_3 = f\"\"\"\n",
        "Please summarize the customer feedback for the '{product_data['product_name']}' based on the following review data. Present the summary as a list of key positive points and key negative points.\n",
        "\n",
        "Data:\n",
        "```json\n",
        "{product_json}\n",
        "```\n",
        "\"\"\"\n",
        "\n",
        "review_summary = complete(prompt_task_3, system_prompt_pm)\n",
        "IPython.display.Markdown(review_summary)"
      ]
    },
    {
      "cell_type": "markdown",
      "metadata": {},
      "source": [
        "### Task 2.2: Perform Sentiment Analysis\n",
        "\n",
        "Now, let's go deeper. Create a prompt that asks the LLM to perform a sentiment analysis. The output should provide an overall sentiment and a brief justification based on the provided reviews."
      ]
    },
    {
      "cell_type": "code",
      "execution_count": null,
      "metadata": {},
      "outputs": [],
      "source": [
        "prompt_task_4 = f\"\"\"\n",
        "Analyze the sentiment of the customer reviews for the product '{product_data['product_name']}'. \n",
        "\n",
        "Your analysis should conclude with an overall sentiment classification (e.g., 'Mixed', 'Positive', 'Negative') and a brief justification for your conclusion based on the content of the reviews.\n",
        "\n",
        "Data:\n",
        "```json\n",
        "{product_json}\n",
        "```\n",
        "\"\"\"\n",
        "\n",
        "sentiment_analysis = complete(prompt_task_4, system_prompt_pm)\n",
        "IPython.display.Markdown(sentiment_analysis)"
      ]
    },
    {
      "cell_type": "markdown",
      "metadata": {},
      "source": [
        "### Task 2.3: Generate a Marketing Blurb (Creative Task)\n",
        "\n",
        "Finally, use the positive aspects from the reviews to generate a short, compelling marketing blurb for the product's webpage. This task tests the LLM's ability to switch from analytical to creative generation."
      ]
    },
    {
      "cell_type": "code",
      "execution_count": null,
      "metadata": {},
      "outputs": [],
      "source": [
        "system_prompt_marketer = \"You are a creative marketing copywriter AI. You write snappy, persuasive, and customer-focused content.\"\n",
        "\n",
        "prompt_task_5 = f\"\"\"\n",
        "Based on the positive customer reviews for the '{product_data['product_name']}', write a short, exciting marketing blurb (2-3 sentences) for an online store.\n",
        "\n",
        "Focus on the aspects customers loved the most.\n",
        "\n",
        "Review Data:\n",
        "```json\n",
        "{product_json}\n",
        "```\n",
        "\"\"\"\n",
        "\n",
        "marketing_blurb = complete(prompt_task_5, system_prompt_marketer)\n",
        "IPython.display.Markdown(marketing_blurb)"
      ]
    }
  ],
  "metadata": {
    "kernelspec": {
      "display_name": "torch",
      "language": "python",
      "name": "python3"
    },
    "language_info": {
      "codemirror_mode": {
        "name": "ipython",
        "version": 3
      },
      "file_extension": ".py",
      "mimetype": "text/x-python",
      "name": "python",
      "nbconvert_exporter": "python",
      "pygments_lexer": "ipython3",
      "version": "3.12.7"
    }
  },
  "nbformat": 4,
  "nbformat_minor": 4
}
