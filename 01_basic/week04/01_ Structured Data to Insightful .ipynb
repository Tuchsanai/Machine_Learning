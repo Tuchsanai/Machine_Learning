{
 "cells": [
  {
   "cell_type": "markdown",
   "metadata": {},
   "source": [
    "# From Structured Data to Insightful \n",
    "\n",
    "Welcome to the enhanced lab! We're moving beyond simple data conversion to explore how Large Language Models (LLMs) can interpret complex, nested structured data and generate nuanced, insightful narratives, with a focus on generating reports in Thai. 🚀\n",
    "\n",
    "In this notebook, you'll tackle three advanced scenarios:\n",
    "1.  **Multi-Period Financial Analysis**: Work with multi-period financial data to generate a comparative analysis, identify trends, and create an executive summary in Thai.\n",
    "2.  **Product Review & Sentiment Analysis**: Analyze a product catalog with nested customer reviews to summarize feedback and perform sentiment analysis in Thai.\n",
    "3.  **Multi-Product Customer Complaint Analysis**: A new complex scenario where you analyze customer complaints across multiple products to identify high-priority issues."
   ]
  },
  {
   "cell_type": "code",
   "execution_count": 2,
   "metadata": {},
   "outputs": [
    {
     "name": "stdout",
     "output_type": "stream",
     "text": [
      "Notebook cleaned.\n"
     ]
    }
   ],
   "source": [
    "import IPython\n",
    "import sys\n",
    "\n",
    "def clean_notebook():\n",
    "    IPython.display.clear_output(wait=True)\n",
    "    print(\"Notebook cleaned.\")\n",
    "\n",
    "# Install necessary libraries\n",
    "!pip install openai python-dotenv -q\n",
    "\n",
    "# Clean up the notebook\n",
    "clean_notebook()"
   ]
  },
  {
   "cell_type": "code",
   "execution_count": 3,
   "metadata": {},
   "outputs": [
    {
     "name": "stdout",
     "output_type": "stream",
     "text": [
      "Libraries loaded, client initialized, and helper function is ready.\n"
     ]
    }
   ],
   "source": [
    "import os\n",
    "from openai import OpenAI\n",
    "from dotenv import load_dotenv\n",
    "import json\n",
    "\n",
    "# Load environment variables from .env file\n",
    "load_dotenv()\n",
    "\n",
    "# Initialize the client\n",
    "client = OpenAI(api_key=os.getenv(\"OPENAI_API_KEY\"))\n",
    "model_name = \"gpt-4o\"\n",
    "\n",
    "def complete(user_prompt, system_prompt=\"You are a helpful assistant.\", max_tokens=2048):\n",
    "    \"\"\"A function to send a prompt to the LLM and return the response.\"\"\"\n",
    "    try:\n",
    "        completion = client.chat.completions.create(\n",
    "            model=model_name,\n",
    "            messages=[\n",
    "                {\"role\": \"system\", \"content\": system_prompt},\n",
    "                {\"role\": \"user\", \"content\": user_prompt},\n",
    "            ],\n",
    "            temperature=0.7,\n",
    "            max_tokens=max_tokens,\n",
    "        )\n",
    "        return completion.choices[0].message.content\n",
    "    except Exception as e:\n",
    "        return f\"An error occurred: {e}\"\n",
    "\n",
    "print(\"Libraries loaded, client initialized, and helper function is ready.\")"
   ]
  },
  {
   "cell_type": "markdown",
   "metadata": {},
   "source": [
    "---\n",
    "## สถานการณ์ที่ 1: การวิเคราะห์ข้อมูลทางการเงินหลายช่วงเวลา 📈\n",
    "\n",
    "คุณเป็นนักวิเคราะห์ทางการเงินที่ได้รับมอบหมายให้สรุปผลการดำเนินงานของบริษัทในช่วงสองปีงบประมาณสำหรับผู้มีส่วนได้ส่วนเสียชาวไทย"
   ]
  },
  {
   "cell_type": "code",
   "execution_count": 4,
   "metadata": {},
   "outputs": [
    {
     "name": "stdout",
     "output_type": "stream",
     "text": [
      "ข้อมูล JSON ทางการเงิน: {\n",
      "  \"company\": \"Innovatech Solutions Inc.\",\n",
      "  \"ticker\": \"INVT\",\n",
      "  \"financials\": [\n",
      "    {\n",
      "      \"fiscal_year\": 2023,\n",
      "      \"revenue\": 150000000,\n",
      "      \"net_income\": 25000000,\n",
      "      \"earnings_per_share\": 2.5\n",
      "    },\n",
      "    {\n",
      "      \"fiscal_year\": 2024,\n",
      "      \"revenue\": 175000000,\n",
      "      \"net_income\": 30000000,\n",
      "      \"earnings_per_share\": 3.0\n",
      "    }\n",
      "  ]\n",
      "}\n"
     ]
    }
   ],
   "source": [
    "financial_data = {\n",
    "  \"company\": \"Innovatech Solutions Inc.\",\n",
    "  \"ticker\": \"INVT\",\n",
    "  \"financials\": [\n",
    "    {\n",
    "      \"fiscal_year\": 2023,\n",
    "      \"revenue\": 150000000,\n",
    "      \"net_income\": 25000000,\n",
    "      \"earnings_per_share\": 2.50\n",
    "    },\n",
    "    {\n",
    "      \"fiscal_year\": 2024,\n",
    "      \"revenue\": 175000000,\n",
    "      \"net_income\": 30000000,\n",
    "      \"earnings_per_share\": 3.00\n",
    "    }\n",
    "  ]\n",
    "}\n",
    "\n",
    "financial_json = json.dumps(financial_data, indent=2)\n",
    "print(\"ข้อมูล JSON ทางการเงิน:\", financial_json)"
   ]
  },
  {
   "cell_type": "markdown",
   "metadata": {},
   "source": [
    "### **งานที่ 1.1: สร้างรายงานเปรียบเทียบเป็นภาษาไทย (พรอมต์ฉบับปรับปรุง)**"
   ]
  },
  {
   "cell_type": "code",
   "execution_count": 5,
   "metadata": {},
   "outputs": [
    {
     "data": {
      "text/markdown": [
       "### รายงานเปรียบเทียบผลประกอบการ Innovatech Solutions Inc.\n",
       "\n",
       "**1. การเปรียบเทียบรายได้ (Revenue)**\n",
       "\n",
       "- ปีงบประมาณ 2023: รายได้รวมอยู่ที่ 150,000,000 ดอลลาร์\n",
       "- ปีงบประมาณ 2024: รายได้รวมเพิ่มขึ้นเป็น 175,000,000 ดอลลาร์\n",
       "\n",
       "**การเปลี่ยนแปลง:** \n",
       "รายได้ในปี 2024 เพิ่มขึ้น 25,000,000 ดอลลาร์ หรือคิดเป็นการเติบโต 16.67% เมื่อเทียบกับปี 2023\n",
       "\n",
       "**2. การเปรียบเทียบกำไรสุทธิ (Net Income)**\n",
       "\n",
       "- ปีงบประมาณ 2023: กำไรสุทธิอยู่ที่ 25,000,000 ดอลลาร์\n",
       "- ปีงบประมาณ 2024: กำไรสุทธิเพิ่มขึ้นเป็น 30,000,000 ดอลลาร์\n",
       "\n",
       "**การเปลี่ยนแปลง:** \n",
       "กำไรสุทธิในปี 2024 เพิ่มขึ้น 5,000,000 ดอลลาร์ หรือคิดเป็นการเติบโต 20% เมื่อเทียบกับปี 2023\n",
       "\n",
       "**3. การเปรียบเทียบกำไรต่อหุ้น (EPS)**\n",
       "\n",
       "- ปีงบประมาณ 2023: กำไรต่อหุ้นอยู่ที่ 2.5 ดอลลาร์\n",
       "- ปีงบประมาณ 2024: กำไรต่อหุ้นเพิ่มขึ้นเป็น 3.0 ดอลลาร์\n",
       "\n",
       "**การเปลี่ยนแปลง:** \n",
       "กำไรต่อหุ้นในปี 2024 เพิ่มขึ้น 0.5 ดอลลาร์ หรือคิดเป็นการเติบโต 20% เมื่อเทียบกับปี 2023\n",
       "\n",
       "**4. บทสรุปภาพรวมพร้อมข้อคิดเห็น**\n",
       "\n",
       "Innovatech Solutions Inc. มีผลประกอบการที่แข็งแกร่งในปีงบประมาณ 2024 เมื่อเทียบกับปี 2023 โดยมีการเติบโตทั้งในด้านรายได้ กำไรสุทธิ และกำไรต่อหุ้น การเติบโตของรายได้ที่ 16.67% สะท้อนถึงการขยายตัวของธุรกิจและศักยภาพในการทำตลาดที่มีประสิทธิภาพ ในขณะที่การเพิ่มขึ้นของกำไรสุทธิและกำไรต่อหุ้นที่ 20% แสดงถึงความสามารถในการควบคุมต้นทุนและการเพิ่มประสิทธิภาพในการดำเนินงาน\n",
       "\n",
       "การเติบโตดังกล่าวบ่งบอกถึงการจัดการที่มีประสิทธิภาพและโอกาสที่ดีในการขยายธุรกิจของ Innovatech Solutions Inc. ต่อไปในอนาคต อย่างไรก็ตาม บริษัทยังคงต้องเผชิญกับความท้าทายในการรักษาอัตราการเติบโตนี้ในระยะยาว โดยเฉพาะในสภาวะเศรษฐกิจที่มีความผันผวน"
      ],
      "text/plain": [
       "<IPython.core.display.Markdown object>"
      ]
     },
     "execution_count": 5,
     "metadata": {},
     "output_type": "execute_result"
    }
   ],
   "source": [
    "system_prompt_analyst = \"คุณคือ AI ผู้ช่วยนักวิเคราะห์การเงินผู้เชี่ยวชาญ การตอบสนองของคุณควรชัดเจน กระชับ และเป็นมืออาชีพ เหมาะสำหรับรายงานผู้มีส่วนได้ส่วนเสีย\"\n",
    "\n",
    "prompt_task_1_thai = f\"\"\"\n",
    "ในฐานะที่คุณเป็นนักวิเคราะห์ทางการเงินผู้เชี่ยวชาญ โปรดวิเคราะห์ข้อมูลทางการเงินของบริษัท Innovatech Solutions Inc. และจัดทำรายงานเปรียบเทียบผลประกอบการสำหรับปีงบประมาณ 2023 และ 2024\n",
    "รายงานต้องประกอบด้วย:\n",
    "1. การเปรียบเทียบรายได้ (Revenue)\n",
    "2. การเปรียบเทียบกำไรสุทธิ (Net Income)\n",
    "3. การเปรียบเทียบกำไรต่อหุ้น (EPS)\n",
    "4. บทสรุปภาพรวมพร้อมข้อคิดเห็น\n",
    "\n",
    "**โดยให้จัดทำรายงานฉบับสมบูรณ์เป็นภาษาไทยเท่านั้น**\n",
    "\n",
    "ข้อมูล:\n",
    "```json\n",
    "{financial_json}\n",
    "```\n",
    "\"\"\"\n",
    "\n",
    "comparative_report = complete(prompt_task_1_thai, system_prompt_analyst)\n",
    "IPython.display.Markdown(comparative_report)"
   ]
  },
  {
   "cell_type": "markdown",
   "metadata": {},
   "source": [
    "---\n",
    "## ✨ ตัวอย่างพรอมต์เพิ่มเติม ✨\n",
    "\n",
    "เพื่อขยายขอบเขตการใช้งานให้หลากหลายขึ้น นี่คือตัวอย่างพรอมต์ในสถานการณ์อื่นๆ"
   ]
  },
  {
   "cell_type": "markdown",
   "metadata": {},
   "source": [
    "### **ตัวอย่างที่ 1: การสร้างเนื้อหาการตลาด** 📝\n",
    "\n",
    "**เป้าหมาย:** สร้างโพสต์สำหรับโซเชียลมีเดียเพื่อโปรโมทสินค้าใหม่"
   ]
  },
  {
   "cell_type": "code",
   "execution_count": 6,
   "metadata": {},
   "outputs": [
    {
     "name": "stdout",
     "output_type": "stream",
     "text": [
      "ข้อมูลผลิตภัณฑ์สำหรับการตลาด: {\n",
      "  \"product_name\": \"Starlight Pro Headphone\",\n",
      "  \"features\": [\n",
      "    \"คุณภาพเสียงระดับสตูดิโอ\",\n",
      "    \"ระบบตัดเสียงรบกวนอัจฉริยะ (ANC)\",\n",
      "    \"สวมใส่สบายตลอดวัน\",\n",
      "    \"แบตเตอรี่ใช้งานได้ 30 ชั่วโมง\"\n",
      "  ]\n",
      "}\n"
     ]
    }
   ],
   "source": [
    "product_data_for_mkt = {\n",
    "  \"product_name\": \"Starlight Pro Headphone\",\n",
    "  \"features\": [\"คุณภาพเสียงระดับสตูดิโอ\", \"ระบบตัดเสียงรบกวนอัจฉริยะ (ANC)\", \"สวมใส่สบายตลอดวัน\", \"แบตเตอรี่ใช้งานได้ 30 ชั่วโมง\"]\n",
    "}\n",
    "\n",
    "# display with IPython using json.dumps for better formatting\n",
    "product_json = json.dumps(product_data_for_mkt, indent=2, ensure_ascii=False)\n",
    "print(\"ข้อมูลผลิตภัณฑ์สำหรับการตลาด:\", product_json)"
   ]
  },
  {
   "cell_type": "code",
   "execution_count": 7,
   "metadata": {},
   "outputs": [
    {
     "data": {
      "text/markdown": [
       "### แคปชั่น 1: แบบเน้นคุณสมบัติเด่นและเทคโนโลยี\n",
       "\n",
       "\"สัมผัสเสียงที่เหนือกว่าด้วย Starlight Pro Headphone! 🎧 ด้วยคุณภาพเสียงระดับสตูดิโอและระบบตัดเสียงรบกวนอัจฉริยะ (ANC) ให้คุณดื่มด่ำกับโลกของดนตรีอย่างที่ไม่เคยมีมาก่อน พร้อมแบตเตอรี่ที่ใช้งานได้ยาวนานถึง 30 ชั่วโมง #เสียงชัดเจน #เทคโนโลยีขั้นสูง #StarlightPro\"\n",
       "\n",
       "### แคปชั่น 2: แบบเน้นไลฟ์สไตล์และการใช้งานในชีวิตประจำวัน\n",
       "\n",
       "\"วันไหน ๆ ก็เป็นวันแห่งเสียงเพลงกับ Starlight Pro Headphone! ใส่สบายตลอดวัน ไม่ว่าจะทำงานหรือพักผ่อนก็พร้อมลุยทุกจังหวะชีวิต ปลดล็อคพลังเสียงที่เป็นตัวคุณ! 🎶 #ใช้ชีวิตเต็มที่ #เพลงคือชีวิต #StarlightPro\"\n",
       "\n",
       "### แคปชั่น 3: แบบสั้น กระชับ พร้อมคำกระตุ้นการตัดสินใจ\n",
       "\n",
       "\"เปิดประสบการณ์การฟังใหม่กับ Starlight Pro Headphone! สั่งซื้อเลยเพื่อคุณภาพเสียงที่เหนือชั้น 🎧 #ซื้อเลย #StarlightPro\"\n",
       "\n",
       "### Hashtags แนะนำ\n",
       "- #เสียงชัดเจน #เทคโนโลยีขั้นสูง #StarlightPro\n",
       "- #ใช้ชีวิตเต็มที่ #เพลงคือชีวิต #StarlightPro\n",
       "- #ซื้อเลย #StarlightPro"
      ],
      "text/plain": [
       "<IPython.core.display.Markdown object>"
      ]
     },
     "execution_count": 7,
     "metadata": {},
     "output_type": "execute_result"
    }
   ],
   "source": [
    "\n",
    "system_prompt_marketing = \"คุณคือผู้เชี่ยวชาญด้านการตลาดดิจิทัลที่มีความคิดสร้างสรรค์ สามารถเขียนคำโฆษณาที่ดึงดูดใจและเข้าถึงกลุ่มเป้าหมายได้เป็นอย่างดี\"\n",
    "\n",
    "prompt_marketing_thai = f\"\"\"\n",
    "ในฐานะที่คุณเป็นผู้เชี่ยวชาญด้านการตลาดดิจิทัล ช่วยร่างแคปชั่นสำหรับโพสต์ลง Facebook และ Instagram เพื่อโปรโมทหูฟังรุ่นใหม่ '{product_data_for_mkt['product_name']}'\n",
    "ข้อมูลสินค้า: {product_data_for_mkt['features']}\n",
    "\n",
    "กลุ่มเป้าหมายคือวัยรุ่นและคนวัยทำงานที่ชื่นชอบเทคโนโลยีและดนตรี\n",
    "โปรดสร้างแคปชั่น 3 แบบที่มีสไตล์แตกต่างกัน:\n",
    "1. แบบเน้นคุณสมบัติเด่นและเทคโนโลยี\n",
    "2. แบบเน้นไลฟ์สไตล์และการใช้งานในชีวิตประจำวัน\n",
    "3. แบบสั้น กระชับ พร้อมคำกระตุ้นการตัดสินใจ (Call to Action)\n",
    "\n",
    "**พร้อมทั้งแนะนำ Hashtag ที่เกี่ยวข้องสำหรับแต่ละโพสต์ด้วย**\n",
    "\"\"\"\n",
    "\n",
    "marketing_post = complete(prompt_marketing_thai, system_prompt_marketing)\n",
    "IPython.display.Markdown(marketing_post)"
   ]
  },
  {
   "cell_type": "markdown",
   "metadata": {},
   "source": [
    "### **ตัวอย่างที่ 2: การวิเคราะห์และวางแผนกลยุทธ์ทางธุรกิจ** ♟️\n",
    "\n",
    "**เป้าหมาย:** วิเคราะห์คู่แข่งและเสนอแนวทางปรับปรุงผลิตภัณฑ์"
   ]
  },
  {
   "cell_type": "code",
   "execution_count": 8,
   "metadata": {},
   "outputs": [
    {
     "name": "stdout",
     "output_type": "stream",
     "text": [
      "ข้อมูลการร้องเรียนผลิตภัณฑ์: {\n",
      "  \"product_name\": \"GalaxyView Smartwatch\",\n",
      "  \"complaints\": [\n",
      "    {\n",
      "      \"type\": \"Battery\",\n",
      "      \"description\": \"แบตเตอรี่หมดเร็วเกินไป ใช้ได้ไม่ถึง 8 ชั่วโมง\"\n",
      "    },\n",
      "    {\n",
      "      \"type\": \"Software\",\n",
      "      \"description\": \"หน้าปัดนาฬิกาค้างบ่อย ต้องรีสตาร์ททุกวัน\"\n",
      "    }\n",
      "  ]\n",
      "}\n"
     ]
    }
   ],
   "source": [
    "complaint_json_for_strategy = json.dumps({\n",
    "    \"product_name\": \"GalaxyView Smartwatch\",\n",
    "    \"complaints\": [\n",
    "        {\"type\": \"Battery\", \"description\": \"แบตเตอรี่หมดเร็วเกินไป ใช้ได้ไม่ถึง 8 ชั่วโมง\"},\n",
    "        {\"type\": \"Software\", \"description\": \"หน้าปัดนาฬิกาค้างบ่อย ต้องรีสตาร์ททุกวัน\"}\n",
    "    ]\n",
    "}, indent=2, ensure_ascii=False)\n",
    "\n",
    "# display with IPython using json.dumps for better formatting\n",
    "print(\"ข้อมูลการร้องเรียนผลิตภัณฑ์:\", complaint_json_for_strategy)"
   ]
  },
  {
   "cell_type": "code",
   "execution_count": 9,
   "metadata": {},
   "outputs": [
    {
     "data": {
      "text/markdown": [
       "### รายงานสรุปสำหรับผู้บริหาร: การพัฒนากลยุทธ์สำหรับ 'GalaxyView Smartwatch'\n",
       "\n",
       "#### 1. การวิเคราะห์ผลกระทบต่อภาพลักษณ์ของแบรนด์และความสามารถในการแข่งขัน\n",
       "\n",
       "การร้องเรียนเกี่ยวกับแบตเตอรี่และซอฟต์แวร์ของ 'GalaxyView Smartwatch' ส่งผลกระทบอย่างมีนัยสำคัญต่อภาพลักษณ์ของแบรนด์ 'Innovatech Solutions Inc.' ปัญหาแบตเตอรี่ที่ไม่สามารถใช้งานได้ตลอดวันและซอฟต์แวร์ที่มีปัญหาทำให้เกิดความไม่พอใจในกลุ่มลูกค้า ซึ่งอาจนำไปสู่การลดลงของความภักดีต่อแบรนด์และการสูญเสียลูกค้าไปยังคู่แข่งที่มีผลิตภัณฑ์ที่เสถียรและมีประสิทธิภาพดีกว่า\n",
       "\n",
       "#### 2. การวิเคราะห์คู่แข่งในตลาด\n",
       "\n",
       "- **Apple Watch**: มีชื่อเสียงในด้านการออกแบบที่หรูหราและการใช้งานที่เสถียร แบตเตอรี่สามารถใช้งานได้ประมาณ 18 ชั่วโมงต่อการชาร์จหนึ่งครั้ง พร้อมระบบปฏิบัติการที่มีการอัปเดตและการสนับสนุนที่ดี\n",
       "- **Samsung Galaxy Watch**: มีจุดเด่นที่การใช้งานแบตเตอรี่ยาวนานถึง 2-3 วัน ขึ้นอยู่กับรุ่นและการใช้งาน นอกจากนี้ยังมีระบบซอฟต์แวร์ที่ได้รับการปรับปรุงอย่างต่อเนื่อง\n",
       "\n",
       "#### 3. แนวทางการปรับปรุงผลิตภัณฑ์ 'GalaxyView Smartwatch'\n",
       "\n",
       "1. **การปรับปรุงแบตเตอรี่**: ควรพัฒนานวัตกรรมใหม่ๆ ในการจัดการพลังงาน เช่นการใช้แบตเตอรี่ที่มีประสิทธิภาพสูงขึ้น หรือการเพิ่มโหมดประหยัดพลังงานอัจฉริยะ ซึ่งสามารถยืดอายุการใช้งานแบตเตอรี่ให้ได้อย่างน้อย 18 ชั่วโมง\n",
       "\n",
       "2. **การพัฒนาซอฟต์แวร์**: แก้ไขข้อบกพร่องของซอฟต์แวร์โดยการทดลองและทดสอบอย่างเข้มงวดก่อนการเปิดตัว รวมถึงการตั้งทีมสนับสนุนทางเทคนิคเฉพาะเพื่อดูแลและแก้ไขปัญหาอย่างรวดเร็ว พร้อมเพิ่มฟีเจอร์ใหม่ที่สอดคล้องกับความต้องการของผู้ใช้\n",
       "\n",
       "3. **การส่งเสริมภาพลักษณ์แบรนด์**: เปิดตัวแคมเปญการตลาดที่เน้นถึงการปรับปรุงและนวัตกรรมที่เกิดขึ้นในผลิตภัณฑ์รุ่นถัดไป เพื่อฟื้นฟูความเชื่อมั่นของลูกค้า และสร้างการรับรู้ในความมุ่งมั่นของบริษัทในการปรับปรุงคุณภาพ\n",
       "\n",
       "การดำเนินการตามแนวทางเหล่านี้จะช่วยให้ 'GalaxyView Smartwatch' สามารถฟื้นฟูภาพลักษณ์และเพิ่มความสามารถในการแข่งขันในตลาดนาฬิกาอัจฉริยะได้อย่างมีประสิทธิภาพ."
      ],
      "text/plain": [
       "<IPython.core.display.Markdown object>"
      ]
     },
     "execution_count": 9,
     "metadata": {},
     "output_type": "execute_result"
    }
   ],
   "source": [
    "system_prompt_strategy = \"คุณคือนักวางแผนกลยุทธ์ทางธุรกิจที่มีวิสัยทัศน์กว้างไกล สามารถวิเคราะห์ข้อมูลและเสนอแนวทางที่นำไปปฏิบัติได้จริง\"\n",
    "\n",
    "prompt_strategy_thai = f\"\"\"\n",
    "สมมติว่าคุณเป็นนักวางแผนกลยุทธ์ของบริษัท 'Innovatech Solutions Inc.' ซึ่งผลิตนาฬิกาอัจฉริยะ 'GalaxyView Smartwatch'.\n",
    "จากข้อมูลข้อร้องเรียนของลูกค้าต่อไปนี้:\n",
    "```json\n",
    "{complaint_json_for_strategy}\n",
    "```\n",
    "\n",
    "โปรดดำเนินการดังนี้:\n",
    "1. วิเคราะห์ว่าปัญหานี้ส่งผลกระทบต่อภาพลักษณ์ของแบรนด์และความสามารถในการแข่งขันอย่างไร\n",
    "2. ค้นหาข้อมูลเกี่ยวกับนาฬิกาอัจฉริยะของคู่แข่งในตลาด (เช่น Apple Watch, Samsung Galaxy Watch) ว่ามีจุดเด่นด้านแบตเตอรี่และซอฟต์แวร์อย่างไร\n",
    "3. เสนอแนะแนวทางการปรับปรุงผลิตภัณฑ์ 'GalaxyView Smartwatch' ในรุ่นถัดไปอย่างน้อย 3 แนวทาง เพื่อแก้ไขปัญหาและสร้างความได้เปรียบในการแข่งขัน\n",
    "\n",
    "**โปรดนำเสนอในรูปแบบรายงานสรุปสำหรับผู้บริหาร โดยใช้ภาษาที่กระชับและตรงประเด็น**\n",
    "\"\"\"\n",
    "\n",
    "strategy_report = complete(prompt_strategy_thai, system_prompt_strategy)\n",
    "IPython.display.Markdown(strategy_report)"
   ]
  },
  {
   "cell_type": "markdown",
   "metadata": {},
   "source": [
    "### **ตัวอย่างที่ 3: การสร้างสรรค์และระดมสมอง** 💡\n",
    "\n",
    "**เป้าหมาย:** คิดชื่อและสโลแกนสำหรับผลิตภัณฑ์ใหม่"
   ]
  },
  {
   "cell_type": "code",
   "execution_count": 10,
   "metadata": {},
   "outputs": [
    {
     "name": "stdout",
     "output_type": "stream",
     "text": [
      "ข้อมูลผลิตภัณฑ์ใหม่: {\n",
      "  \"product_type\": \"เครื่องฟอกอากาศอัจฉริยะ\",\n",
      "  \"features\": [\n",
      "    \"ดีไซน์มินิมอล เข้ากับการแต่งบ้านทุกสไตล์\",\n",
      "    \"ควบคุมผ่านแอปพลิเคชันบนมือถือ\",\n",
      "    \"มีเซ็นเซอร์ตรวจจับฝุ่น PM2.5 และสารก่อภูมิแพ้\",\n",
      "    \"ทำงานเงียบด้วยระดับเสียงเพียง 25dB\"\n",
      "  ]\n",
      "}\n"
     ]
    }
   ],
   "source": [
    "new_product_info = {\n",
    "    \"product_type\": \"เครื่องฟอกอากาศอัจฉริยะ\",\n",
    "    \"features\": [\n",
    "        \"ดีไซน์มินิมอล เข้ากับการแต่งบ้านทุกสไตล์\",\n",
    "        \"ควบคุมผ่านแอปพลิเคชันบนมือถือ\",\n",
    "        \"มีเซ็นเซอร์ตรวจจับฝุ่น PM2.5 และสารก่อภูมิแพ้\",\n",
    "        \"ทำงานเงียบด้วยระดับเสียงเพียง 25dB\"\n",
    "    ]\n",
    "}\n",
    "\n",
    "\n",
    "# display with IPython using json.dumps for better formatting\n",
    "new_product_json = json.dumps(new_product_info, indent=2, ensure_ascii=False)\n",
    "print(\"ข้อมูลผลิตภัณฑ์ใหม่:\", new_product_json)"
   ]
  },
  {
   "cell_type": "code",
   "execution_count": 11,
   "metadata": {},
   "outputs": [
    {
     "data": {
      "text/markdown": [
       "| ชื่อผลิตภัณฑ์ที่เสนอ      | สโลแกน                                           |\n",
       "|-----------------------------|--------------------------------------------------|\n",
       "| บริสุทธิ์ใจ                | ความบริสุทธิ์ที่คุณสัมผัสได้                     |\n",
       "| อากาศใส                    | เติมอากาศใส ให้ทุกวันสดชื่น                     |\n",
       "| คลีนบรีซ (CleanBreeze)    | ลมหายใจที่บริสุทธิ์ในทุกมิติ                    |\n",
       "| พิวริโฟลว์ (PuriFlow)      | กระแสอากาศบริสุทธิ์ เงียบจนคุณไม่รู้สึก        |\n",
       "| อากาศสบาย                 | เพราะอากาศสบาย คือความสุขในบ้านคุณ             |"
      ],
      "text/plain": [
       "<IPython.core.display.Markdown object>"
      ]
     },
     "execution_count": 11,
     "metadata": {},
     "output_type": "execute_result"
    }
   ],
   "source": [
    "\n",
    "system_prompt_creative = \"คุณคือครีเอทีฟโฆษณาที่มีความสามารถในการสร้างแบรนด์ สามารถคิดคำที่ติดหูและสร้างสรรค์\"\n",
    "\n",
    "prompt_creative_thai = f\"\"\"\n",
    "บริษัทของเรากำลังจะเปิดตัว '{new_product_info['product_type']}' รุ่นใหม่ที่มีคุณสมบัติดังนี้: {new_product_info['features']}\n",
    "\n",
    "ช่วยระดมสมองเพื่อ:\n",
    "1. คิดชื่อผลิตภัณฑ์เป็นภาษาไทยที่น่าจดจำและสื่อถึงความสะอาดบริสุทธิ์ จำนวน 5 ชื่อ\n",
    "2. คิดสโลแกนสั้นๆ ที่น่าสนใจสำหรับแต่ละชื่อที่เสนอมา\n",
    "\n",
    "**โปรดจัดรูปแบบคำตอบเป็นตาราง Markdown ที่มีคอลัมน์ 'ชื่อผลิตภัณฑ์ที่เสนอ' และ 'สโลแกน'**\n",
    "\"\"\"\n",
    "\n",
    "creative_ideas = complete(prompt_creative_thai, system_prompt_creative)\n",
    "IPython.display.Markdown(creative_ideas)"
   ]
  }
 ],
 "metadata": {
  "kernelspec": {
   "display_name": "Python 3",
   "language": "python",
   "name": "python3"
  },
  "language_info": {
   "codemirror_mode": {
    "name": "ipython",
    "version": 3
   },
   "file_extension": ".py",
   "mimetype": "text/x-python",
   "name": "python",
   "nbconvert_exporter": "python",
   "pygments_lexer": "ipython3",
   "version": "3.12.3"
  }
 },
 "nbformat": 4,
 "nbformat_minor": 4
}
