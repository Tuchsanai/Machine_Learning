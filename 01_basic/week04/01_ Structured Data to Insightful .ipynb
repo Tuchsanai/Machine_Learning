{
 "cells": [
  {
   "cell_type": "markdown",
   "metadata": {},
   "source": [
    "# From Structured Data to Insightful \n",
    "\n",
    "Welcome to the enhanced lab! We're moving beyond simple data conversion to explore how Large Language Models (LLMs) can interpret complex, nested structured data and generate nuanced, insightful narratives, with a focus on generating reports in Thai. 🚀\n",
    "\n",
    "In this notebook, you'll tackle three advanced scenarios:\n",
    "1.  **Multi-Period Financial Analysis**: Work with multi-period financial data to generate a comparative analysis, identify trends, and create an executive summary in Thai.\n",
    "2.  **Product Review & Sentiment Analysis**: Analyze a product catalog with nested customer reviews to summarize feedback and perform sentiment analysis in Thai.\n",
    "3.  **Multi-Product Customer Complaint Analysis**: A new complex scenario where you analyze customer complaints across multiple products to identify high-priority issues."
   ]
  },
  {
   "cell_type": "code",
   "execution_count": 16,
   "metadata": {},
   "outputs": [
    {
     "name": "stdout",
     "output_type": "stream",
     "text": [
      "Notebook cleaned.\n"
     ]
    }
   ],
   "source": [
    "import IPython\n",
    "import sys\n",
    "\n",
    "def clean_notebook():\n",
    "    IPython.display.clear_output(wait=True)\n",
    "    print(\"Notebook cleaned.\")\n",
    "\n",
    "# Install necessary libraries\n",
    "!pip install openai python-dotenv -q\n",
    "\n",
    "# Clean up the notebook\n",
    "clean_notebook()"
   ]
  },
  {
   "cell_type": "code",
   "execution_count": 17,
   "metadata": {},
   "outputs": [
    {
     "name": "stdout",
     "output_type": "stream",
     "text": [
      "Libraries loaded, client initialized, and helper function is ready.\n"
     ]
    }
   ],
   "source": [
    "import os\n",
    "from openai import OpenAI\n",
    "from dotenv import load_dotenv\n",
    "import json\n",
    "\n",
    "# Load environment variables from .env file\n",
    "load_dotenv()\n",
    "\n",
    "# Initialize the client\n",
    "client = OpenAI(api_key=os.getenv(\"OPENAI_API_KEY\"))\n",
    "model_name = \"gpt-4o\"\n",
    "\n",
    "def complete(user_prompt, system_prompt=\"You are a helpful assistant.\", max_tokens=2048):\n",
    "    \"\"\"A function to send a prompt to the LLM and return the response.\"\"\"\n",
    "    try:\n",
    "        completion = client.chat.completions.create(\n",
    "            model=model_name,\n",
    "            messages=[\n",
    "                {\"role\": \"system\", \"content\": system_prompt},\n",
    "                {\"role\": \"user\", \"content\": user_prompt},\n",
    "            ],\n",
    "            temperature=0.7,\n",
    "            max_tokens=max_tokens,\n",
    "        )\n",
    "        return completion.choices[0].message.content\n",
    "    except Exception as e:\n",
    "        return f\"An error occurred: {e}\"\n",
    "\n",
    "print(\"Libraries loaded, client initialized, and helper function is ready.\")"
   ]
  },
  {
   "cell_type": "markdown",
   "metadata": {},
   "source": [
    "---\n",
    "## สถานการณ์ที่ 1: การวิเคราะห์ข้อมูลทางการเงินหลายช่วงเวลา 📈\n",
    "\n",
    "คุณเป็นนักวิเคราะห์ทางการเงินที่ได้รับมอบหมายให้สรุปผลการดำเนินงานของบริษัทในช่วงสองปีงบประมาณสำหรับผู้มีส่วนได้ส่วนเสียชาวไทย"
   ]
  },
  {
   "cell_type": "code",
   "execution_count": 25,
   "metadata": {},
   "outputs": [
    {
     "name": "stdout",
     "output_type": "stream",
     "text": [
      "ข้อมูล JSON ทางการเงิน: {\n",
      "  \"company\": \"Innovatech Solutions Inc.\",\n",
      "  \"ticker\": \"INVT\",\n",
      "  \"financials\": [\n",
      "    {\n",
      "      \"fiscal_year\": 2023,\n",
      "      \"revenue\": 150000000,\n",
      "      \"net_income\": 25000000,\n",
      "      \"earnings_per_share\": 2.5\n",
      "    },\n",
      "    {\n",
      "      \"fiscal_year\": 2024,\n",
      "      \"revenue\": 175000000,\n",
      "      \"net_income\": 30000000,\n",
      "      \"earnings_per_share\": 3.0\n",
      "    }\n",
      "  ]\n",
      "}\n"
     ]
    }
   ],
   "source": [
    "financial_data = {\n",
    "  \"company\": \"Innovatech Solutions Inc.\",\n",
    "  \"ticker\": \"INVT\",\n",
    "  \"financials\": [\n",
    "    {\n",
    "      \"fiscal_year\": 2023,\n",
    "      \"revenue\": 150000000,\n",
    "      \"net_income\": 25000000,\n",
    "      \"earnings_per_share\": 2.50\n",
    "    },\n",
    "    {\n",
    "      \"fiscal_year\": 2024,\n",
    "      \"revenue\": 175000000,\n",
    "      \"net_income\": 30000000,\n",
    "      \"earnings_per_share\": 3.00\n",
    "    }\n",
    "  ]\n",
    "}\n",
    "\n",
    "financial_json = json.dumps(financial_data, indent=2)\n",
    "print(\"ข้อมูล JSON ทางการเงิน:\", financial_json)"
   ]
  },
  {
   "cell_type": "markdown",
   "metadata": {},
   "source": [
    "### **งานที่ 1.1: สร้างรายงานเปรียบเทียบเป็นภาษาไทย (พรอมต์ฉบับปรับปรุง)**"
   ]
  },
  {
   "cell_type": "code",
   "execution_count": 19,
   "metadata": {},
   "outputs": [
    {
     "data": {
      "text/markdown": [
       "**รายงานการวิเคราะห์ผลประกอบการของ Innovatech Solutions Inc. สำหรับปีงบประมาณ 2023 และ 2024**\n",
       "\n",
       "**1. การเปรียบเทียบรายได้ (Revenue):**\n",
       "\n",
       "- ปีงบประมาณ 2023: รายได้รวมของ Innovatech Solutions Inc. อยู่ที่ 150,000,000 ดอลลาร์สหรัฐ\n",
       "- ปีงบประมาณ 2024: รายได้รวมเพิ่มขึ้นเป็น 175,000,000 ดอลลาร์สหรัฐ\n",
       "\n",
       "การเติบโตของรายได้จากปี 2023 ถึง 2024 อยู่ที่ 16.67% ซึ่งสะท้อนถึงการเพิ่มขึ้นอย่างมีนัยสำคัญในความสามารถในการสร้างรายได้ของบริษัท\n",
       "\n",
       "**2. การเปรียบเทียบกำไรสุทธิ (Net Income):**\n",
       "\n",
       "- ปีงบประมาณ 2023: กำไรสุทธิอยู่ที่ 25,000,000 ดอลลาร์สหรัฐ\n",
       "- ปีงบประมาณ 2024: กำไรสุทธิเพิ่มขึ้นเป็น 30,000,000 ดอลลาร์สหรัฐ\n",
       "\n",
       "การเพิ่มขึ้นของกำไรสุทธิมีอัตราการเติบโตที่ 20% ซึ่งแสดงถึงการบริหารต้นทุนและประสิทธิภาพในการดำเนินงานที่ดีขึ้น\n",
       "\n",
       "**3. การเปรียบเทียบกำไรต่อหุ้น (EPS):**\n",
       "\n",
       "- ปีงบประมาณ 2023: กำไรต่อหุ้น (EPS) อยู่ที่ 2.5 ดอลลาร์สหรัฐ\n",
       "- ปีงบประมาณ 2024: EPS เพิ่มขึ้นเป็น 3.0 ดอลลาร์สหรัฐ\n",
       "\n",
       "การเพิ่มขึ้นของ EPS อยู่ที่ 20% สะท้อนถึงการเพิ่มขึ้นของกำไรสุทธิต่อหุ้น ซึ่งเป็นตัวชี้วัดที่สำคัญสำหรับนักลงทุนในการประเมินผลตอบแทนจากการลงทุน\n",
       "\n",
       "**4. บทสรุปภาพรวมพร้อมข้อคิดเห็น:**\n",
       "\n",
       "ในภาพรวม Innovatech Solutions Inc. มีผลประกอบการที่แข็งแกร่งในปีงบประมาณ 2024 โดยมีการเติบโตทั้งในด้านรายได้ กำไรสุทธิ และกำไรต่อหุ้น อัตราการเติบโตที่เด่นชัดแสดงถึงความสามารถของบริษัทในการขยายตลาดและเพิ่มประสิทธิภาพในการดำเนินงาน\n",
       "\n",
       "ข้อคิดเห็น: การเติบโตอย่างต่อเนื่องนี้เป็นสัญญาณบวกสำหรับนักลงทุน การเพิ่มขึ้นของรายได้และกำไรสุทธิสอดคล้องกันแสดงถึงการบริหารจัดการที่มีประสิทธิภาพ อย่างไรก็ตาม บริษัทควรพิจารณาการลงทุนเพิ่มเติมในนวัตกรรมและการพัฒนาผลิตภัณฑ์ใหม่ๆ เพื่อรักษาการเติบโตในระยะยาว"
      ],
      "text/plain": [
       "<IPython.core.display.Markdown object>"
      ]
     },
     "execution_count": 19,
     "metadata": {},
     "output_type": "execute_result"
    }
   ],
   "source": [
    "system_prompt_analyst = \"คุณคือ AI ผู้ช่วยนักวิเคราะห์การเงินผู้เชี่ยวชาญ การตอบสนองของคุณควรชัดเจน กระชับ และเป็นมืออาชีพ เหมาะสำหรับรายงานผู้มีส่วนได้ส่วนเสีย\"\n",
    "\n",
    "prompt_task_1_thai = f\"\"\"\n",
    "ในฐานะที่คุณเป็นนักวิเคราะห์ทางการเงินผู้เชี่ยวชาญ โปรดวิเคราะห์ข้อมูลทางการเงินของบริษัท Innovatech Solutions Inc. และจัดทำรายงานเปรียบเทียบผลประกอบการสำหรับปีงบประมาณ 2023 และ 2024\n",
    "รายงานต้องประกอบด้วย:\n",
    "1. การเปรียบเทียบรายได้ (Revenue)\n",
    "2. การเปรียบเทียบกำไรสุทธิ (Net Income)\n",
    "3. การเปรียบเทียบกำไรต่อหุ้น (EPS)\n",
    "4. บทสรุปภาพรวมพร้อมข้อคิดเห็น\n",
    "\n",
    "**โดยให้จัดทำรายงานฉบับสมบูรณ์เป็นภาษาไทยเท่านั้น**\n",
    "\n",
    "ข้อมูล:\n",
    "```json\n",
    "{financial_json}\n",
    "```\n",
    "\"\"\"\n",
    "\n",
    "comparative_report = complete(prompt_task_1_thai, system_prompt_analyst)\n",
    "IPython.display.Markdown(comparative_report)"
   ]
  },
  {
   "cell_type": "markdown",
   "metadata": {},
   "source": [
    "---\n",
    "## ✨ ตัวอย่างพรอมต์เพิ่มเติม ✨\n",
    "\n",
    "เพื่อขยายขอบเขตการใช้งานให้หลากหลายขึ้น นี่คือตัวอย่างพรอมต์ในสถานการณ์อื่นๆ"
   ]
  },
  {
   "cell_type": "markdown",
   "metadata": {},
   "source": [
    "### **ตัวอย่างที่ 1: การสร้างเนื้อหาการตลาด** 📝\n",
    "\n",
    "**เป้าหมาย:** สร้างโพสต์สำหรับโซเชียลมีเดียเพื่อโปรโมทสินค้าใหม่"
   ]
  },
  {
   "cell_type": "code",
   "execution_count": null,
   "metadata": {},
   "outputs": [
    {
     "name": "stdout",
     "output_type": "stream",
     "text": [
      "ข้อมูลผลิตภัณฑ์สำหรับการตลาด: {\n",
      "  \"product_name\": \"Starlight Pro Headphone\",\n",
      "  \"features\": [\n",
      "    \"คุณภาพเสียงระดับสตูดิโอ\",\n",
      "    \"ระบบตัดเสียงรบกวนอัจฉริยะ (ANC)\",\n",
      "    \"สวมใส่สบายตลอดวัน\",\n",
      "    \"แบตเตอรี่ใช้งานได้ 30 ชั่วโมง\"\n",
      "  ]\n",
      "}\n"
     ]
    }
   ],
   "source": [
    "product_data_for_mkt = {\n",
    "  \"product_name\": \"Starlight Pro Headphone\",\n",
    "  \"features\": [\"คุณภาพเสียงระดับสตูดิโอ\", \"ระบบตัดเสียงรบกวนอัจฉริยะ (ANC)\", \"สวมใส่สบายตลอดวัน\", \"แบตเตอรี่ใช้งานได้ 30 ชั่วโมง\"]\n",
    "}\n",
    "\n",
    "# display with IPython using json.dumps for better formatting\n",
    "product_json = json.dumps(product_data_for_mkt, indent=2, ensure_ascii=False)\n",
    "print(\"ข้อมูลผลิตภัณฑ์สำหรับการตลาด:\", product_json)"
   ]
  },
  {
   "cell_type": "code",
   "execution_count": 27,
   "metadata": {},
   "outputs": [
    {
     "data": {
      "text/markdown": [
       "### แคปชั่น 1: เน้นคุณสมบัติเด่นและเทคโนโลยี\n",
       "\n",
       "\"พบกับประสบการณ์เสียงที่เหนือระดับ! 🎧 Starlight Pro Headphone มาพร้อมคุณภาพเสียงระดับสตูดิโอและระบบตัดเสียงรบกวนอัจฉริยะ (ANC) ที่จะทำให้คุณดื่มด่ำไปกับทุกโน้ตเพลง #เสียงสมจริง #เทคโนโลยีล้ำสมัย\"\n",
       "\n",
       "**Hashtags:** #StarlightPro #StudioQualitySound #ANC #HiTechHeadphones\n",
       "\n",
       "---\n",
       "\n",
       "### แคปชั่น 2: เน้นไลฟ์สไตล์และการใช้งานในชีวิตประจำวัน\n",
       "\n",
       "\"ให้ทุกวันเต็มไปด้วยเสียงเพลงที่คุณรัก! 🎶 Starlight Pro Headphone สวมใส่สบายตลอดวัน พร้อมแบตเตอรี่ที่ใช้งานได้ยาวนานถึง 30 ชั่วโมง ไม่ว่าจะทำงานหรือผ่อนคลาย ก็เป็นเพื่อนคู่ใจที่คุณต้องมี #ชีวิตที่มีเสียงเพลง #สบายทุกการสวมใส่\"\n",
       "\n",
       "**Hashtags:** #StarlightPro #LifestyleCompanion #MusicEveryday #ComfortWear\n",
       "\n",
       "---\n",
       "\n",
       "### แคปชั่น 3: สั้น กระชับ พร้อม Call to Action\n",
       "\n",
       "\"ยกระดับเสียงเพลงของคุณด้วย Starlight Pro Headphone! 🎧 สั่งซื้อวันนี้ เพื่อประสบการณ์เสียงที่ไม่เหมือนใคร #ซื้อเลย #เสียงที่คุณคู่ควร\"\n",
       "\n",
       "**Hashtags:** #StarlightPro #UpgradeYourSound #ShopNow #MustHaveGadget"
      ],
      "text/plain": [
       "<IPython.core.display.Markdown object>"
      ]
     },
     "execution_count": 27,
     "metadata": {},
     "output_type": "execute_result"
    }
   ],
   "source": [
    "\n",
    "system_prompt_marketing = \"คุณคือผู้เชี่ยวชาญด้านการตลาดดิจิทัลที่มีความคิดสร้างสรรค์ สามารถเขียนคำโฆษณาที่ดึงดูดใจและเข้าถึงกลุ่มเป้าหมายได้เป็นอย่างดี\"\n",
    "\n",
    "prompt_marketing_thai = f\"\"\"\n",
    "ในฐานะที่คุณเป็นผู้เชี่ยวชาญด้านการตลาดดิจิทัล ช่วยร่างแคปชั่นสำหรับโพสต์ลง Facebook และ Instagram เพื่อโปรโมทหูฟังรุ่นใหม่ '{product_data_for_mkt['product_name']}'\n",
    "ข้อมูลสินค้า: {product_data_for_mkt['features']}\n",
    "\n",
    "กลุ่มเป้าหมายคือวัยรุ่นและคนวัยทำงานที่ชื่นชอบเทคโนโลยีและดนตรี\n",
    "โปรดสร้างแคปชั่น 3 แบบที่มีสไตล์แตกต่างกัน:\n",
    "1. แบบเน้นคุณสมบัติเด่นและเทคโนโลยี\n",
    "2. แบบเน้นไลฟ์สไตล์และการใช้งานในชีวิตประจำวัน\n",
    "3. แบบสั้น กระชับ พร้อมคำกระตุ้นการตัดสินใจ (Call to Action)\n",
    "\n",
    "**พร้อมทั้งแนะนำ Hashtag ที่เกี่ยวข้องสำหรับแต่ละโพสต์ด้วย**\n",
    "\"\"\"\n",
    "\n",
    "marketing_post = complete(prompt_marketing_thai, system_prompt_marketing)\n",
    "IPython.display.Markdown(marketing_post)"
   ]
  },
  {
   "cell_type": "markdown",
   "metadata": {},
   "source": [
    "### **ตัวอย่างที่ 2: การวิเคราะห์และวางแผนกลยุทธ์ทางธุรกิจ** ♟️\n",
    "\n",
    "**เป้าหมาย:** วิเคราะห์คู่แข่งและเสนอแนวทางปรับปรุงผลิตภัณฑ์"
   ]
  },
  {
   "cell_type": "code",
   "execution_count": 21,
   "metadata": {},
   "outputs": [
    {
     "data": {
      "text/markdown": [
       "### รายงานสรุปสำหรับผู้บริหาร: การปรับปรุงผลิตภัณฑ์ 'GalaxyView Smartwatch'\n",
       "\n",
       "#### 1. การวิเคราะห์ผลกระทบต่อภาพลักษณ์ของแบรนด์และความสามารถในการแข่งขัน\n",
       "ปัญหาที่ลูกค้าร้องเรียนเกี่ยวกับแบตเตอรี่และซอฟต์แวร์ของ 'GalaxyView Smartwatch' ส่งผลกระทบในด้านลบต่อภาพลักษณ์ของแบรนด์ดังนี้:\n",
       "- **ความน่าเชื่อถือ:** การที่แบตเตอรี่หมดเร็วและซอฟต์แวร์ค้างบ่อยทำให้ลูกค้าเกิดความไม่ไว้วางใจในผลิตภัณฑ์ ซึ่งอาจนำไปสู่การบอกต่อในเชิงลบและส่งผลให้ยอดขายลดลง\n",
       "- **ความพึงพอใจของลูกค้า:** ปัญหาที่เกิดขึ้นลดทอนประสบการณ์การใช้งานของลูกค้า ซึ่งส่งผลต่อความภักดีในระยะยาว\n",
       "- **ความสามารถในการแข่งขัน:** เมื่อเทียบกับคู่แข่งที่มีชื่อเสียงในตลาด นาฬิกาของเราด้อยกว่าทั้งในด้านประสิทธิภาพการใช้งานและความน่าเชื่อถือ ซึ่งอาจส่งผลให้สูญเสียส่วนแบ่งตลาด\n",
       "\n",
       "#### 2. ข้อมูลเกี่ยวกับคู่แข่งในตลาด\n",
       "- **Apple Watch:** มีชื่อเสียงด้านประสิทธิภาพของแบตเตอรี่ที่สามารถใช้งานได้ 18 ชั่วโมงต่อการชาร์จหนึ่งครั้ง และระบบซอฟต์แวร์ที่เสถียรและอัพเดตเป็นประจำ\n",
       "- **Samsung Galaxy Watch:** มีแบตเตอรี่ที่ใช้งานได้นานถึง 2-3 วัน และมีระบบปฏิบัติการที่มีประสิทธิภาพและรองรับการใช้งานแอพพลิเคชั่นที่หลากหลาย\n",
       "\n",
       "#### 3. แนวทางการปรับปรุงผลิตภัณฑ์\n",
       "เพื่อแก้ไขปัญหาและสร้างความได้เปรียบในการแข่งขัน 'GalaxyView Smartwatch' ควรพิจารณาดำเนินการดังนี้:\n",
       "\n",
       "1. **พัฒนาแบตเตอรี่ที่มีประสิทธิภาพสูงขึ้น:**\n",
       "   - ลงทุนในการวิจัยและพัฒนาแบตเตอรี่ที่ใช้งานได้ยาวนานขึ้น เพื่อตอบสนองความต้องการของลูกค้าและแข่งขันกับคู่แข่ง\n",
       "   - พิจารณาใช้เทคโนโลยีการประหยัดพลังงานเพื่อยืดอายุการใช้งานแบตเตอรี่\n",
       "\n",
       "2. **ปรับปรุงซอฟต์แวร์ให้มีความเสถียรยิ่งขึ้น:**\n",
       "   - ตรวจสอบและแก้ไขบั๊กในระบบปฏิบัติการ เพื่อลดปัญหาการค้างของหน้าปัดนาฬิกา\n",
       "   - จัดตั้งทีมงานเฉพาะทางเพื่อพัฒนาซอฟต์แวร์ให้ใช้งานได้ราบรื่นและตอบสนองความต้องการของลูกค้าได้ดียิ่งขึ้น\n",
       "\n",
       "3. **เพิ่มคุณสมบัติเด่นที่ตอบโจทย์ลูกค้า:**\n",
       "   - นำเสนอนวัตกรรมใหม่ๆ เช่น ฟีเจอร์ด้านสุขภาพหรือการเชื่อมต่อที่ดีกว่าเดิม เพื่อสร้างความแตกต่างจากคู่แข่งและดึงดูดลูกค้าใหม่\n",
       "\n",
       "การดำเนินการตามแนวทางเหล่านี้จะช่วยยกระดับผลิตภัณฑ์ 'GalaxyView Smartwatch' ให้มีคุณภาพสูงขึ้น สร้างความพึงพอใจให้แก่ลูกค้า และเพิ่มขีดความสามารถในการแข่งขันในตลาดอย่างยั่งยืน"
      ],
      "text/plain": [
       "<IPython.core.display.Markdown object>"
      ]
     },
     "execution_count": 21,
     "metadata": {},
     "output_type": "execute_result"
    }
   ],
   "source": [
    "complaint_json_for_strategy = json.dumps({\n",
    "    \"product_name\": \"GalaxyView Smartwatch\",\n",
    "    \"complaints\": [\n",
    "        {\"type\": \"Battery\", \"description\": \"แบตเตอรี่หมดเร็วเกินไป ใช้ได้ไม่ถึง 8 ชั่วโมง\"},\n",
    "        {\"type\": \"Software\", \"description\": \"หน้าปัดนาฬิกาค้างบ่อย ต้องรีสตาร์ททุกวัน\"}\n",
    "    ]\n",
    "}, indent=2, ensure_ascii=False)\n",
    "\n",
    "system_prompt_strategy = \"คุณคือนักวางแผนกลยุทธ์ทางธุรกิจที่มีวิสัยทัศน์กว้างไกล สามารถวิเคราะห์ข้อมูลและเสนอแนวทางที่นำไปปฏิบัติได้จริง\"\n",
    "\n",
    "prompt_strategy_thai = f\"\"\"\n",
    "สมมติว่าคุณเป็นนักวางแผนกลยุทธ์ของบริษัท 'Innovatech Solutions Inc.' ซึ่งผลิตนาฬิกาอัจฉริยะ 'GalaxyView Smartwatch'.\n",
    "จากข้อมูลข้อร้องเรียนของลูกค้าต่อไปนี้:\n",
    "```json\n",
    "{complaint_json_for_strategy}\n",
    "```\n",
    "\n",
    "โปรดดำเนินการดังนี้:\n",
    "1. วิเคราะห์ว่าปัญหานี้ส่งผลกระทบต่อภาพลักษณ์ของแบรนด์และความสามารถในการแข่งขันอย่างไร\n",
    "2. ค้นหาข้อมูลเกี่ยวกับนาฬิกาอัจฉริยะของคู่แข่งในตลาด (เช่น Apple Watch, Samsung Galaxy Watch) ว่ามีจุดเด่นด้านแบตเตอรี่และซอฟต์แวร์อย่างไร\n",
    "3. เสนอแนะแนวทางการปรับปรุงผลิตภัณฑ์ 'GalaxyView Smartwatch' ในรุ่นถัดไปอย่างน้อย 3 แนวทาง เพื่อแก้ไขปัญหาและสร้างความได้เปรียบในการแข่งขัน\n",
    "\n",
    "**โปรดนำเสนอในรูปแบบรายงานสรุปสำหรับผู้บริหาร โดยใช้ภาษาที่กระชับและตรงประเด็น**\n",
    "\"\"\"\n",
    "\n",
    "strategy_report = complete(prompt_strategy_thai, system_prompt_strategy)\n",
    "IPython.display.Markdown(strategy_report)"
   ]
  },
  {
   "cell_type": "markdown",
   "metadata": {},
   "source": [
    "### **ตัวอย่างที่ 3: การสร้างสรรค์และระดมสมอง** 💡\n",
    "\n",
    "**เป้าหมาย:** คิดชื่อและสโลแกนสำหรับผลิตภัณฑ์ใหม่"
   ]
  },
  {
   "cell_type": "code",
   "execution_count": 28,
   "metadata": {},
   "outputs": [
    {
     "name": "stdout",
     "output_type": "stream",
     "text": [
      "ข้อมูลผลิตภัณฑ์ใหม่: {\n",
      "  \"product_type\": \"เครื่องฟอกอากาศอัจฉริยะ\",\n",
      "  \"features\": [\n",
      "    \"ดีไซน์มินิมอล เข้ากับการแต่งบ้านทุกสไตล์\",\n",
      "    \"ควบคุมผ่านแอปพลิเคชันบนมือถือ\",\n",
      "    \"มีเซ็นเซอร์ตรวจจับฝุ่น PM2.5 และสารก่อภูมิแพ้\",\n",
      "    \"ทำงานเงียบด้วยระดับเสียงเพียง 25dB\"\n",
      "  ]\n",
      "}\n"
     ]
    }
   ],
   "source": [
    "new_product_info = {\n",
    "    \"product_type\": \"เครื่องฟอกอากาศอัจฉริยะ\",\n",
    "    \"features\": [\n",
    "        \"ดีไซน์มินิมอล เข้ากับการแต่งบ้านทุกสไตล์\",\n",
    "        \"ควบคุมผ่านแอปพลิเคชันบนมือถือ\",\n",
    "        \"มีเซ็นเซอร์ตรวจจับฝุ่น PM2.5 และสารก่อภูมิแพ้\",\n",
    "        \"ทำงานเงียบด้วยระดับเสียงเพียง 25dB\"\n",
    "    ]\n",
    "}\n",
    "\n",
    "\n",
    "# display with IPython using json.dumps for better formatting\n",
    "new_product_json = json.dumps(new_product_info, indent=2, ensure_ascii=False)\n",
    "print(\"ข้อมูลผลิตภัณฑ์ใหม่:\", new_product_json)"
   ]
  },
  {
   "cell_type": "code",
   "execution_count": null,
   "metadata": {},
   "outputs": [
    {
     "data": {
      "text/markdown": [
       "| ชื่อผลิตภัณฑ์ที่เสนอ     | สโลแกน                                                        |\n",
       "|---------------------------|----------------------------------------------------------------|\n",
       "| อากาศบริสุทธิ์ พลัส       | \"เปลี่ยนอากาศให้บริสุทธิ์ แค่ปลายนิ้วสัมผัส\"                               |\n",
       "| เพียวแอร์ สมาร์ท          | \"สดชื่น สะอาด ทันใจ ในทุกลมหายใจ\"                                   |\n",
       "| บลูสกาย คลีน             | \"ฟอกอากาศให้ใส เหมือนท้องฟ้าหลังฝน\"                                |\n",
       "| ควิกเฟรช อัลตร้า         | \"อากาศใหม่ สดใส ภายในพริบตา\"                                     |\n",
       "| ไวท์บริซ โปร             | \"สัมผัสความบริสุทธิ์ เงียบสงบทุกห้วงเวลา\"                               |"
      ],
      "text/plain": [
       "<IPython.core.display.Markdown object>"
      ]
     },
     "execution_count": 22,
     "metadata": {},
     "output_type": "execute_result"
    }
   ],
   "source": [
    "\n",
    "system_prompt_creative = \"คุณคือครีเอทีฟโฆษณาที่มีความสามารถในการสร้างแบรนด์ สามารถคิดคำที่ติดหูและสร้างสรรค์\"\n",
    "\n",
    "prompt_creative_thai = f\"\"\"\n",
    "บริษัทของเรากำลังจะเปิดตัว '{new_product_info['product_type']}' รุ่นใหม่ที่มีคุณสมบัติดังนี้: {new_product_info['features']}\n",
    "\n",
    "ช่วยระดมสมองเพื่อ:\n",
    "1. คิดชื่อผลิตภัณฑ์เป็นภาษาไทยที่น่าจดจำและสื่อถึงความสะอาดบริสุทธิ์ จำนวน 5 ชื่อ\n",
    "2. คิดสโลแกนสั้นๆ ที่น่าสนใจสำหรับแต่ละชื่อที่เสนอมา\n",
    "\n",
    "**โปรดจัดรูปแบบคำตอบเป็นตาราง Markdown ที่มีคอลัมน์ 'ชื่อผลิตภัณฑ์ที่เสนอ' และ 'สโลแกน'**\n",
    "\"\"\"\n",
    "\n",
    "creative_ideas = complete(prompt_creative_thai, system_prompt_creative)\n",
    "IPython.display.Markdown(creative_ideas)"
   ]
  }
 ],
 "metadata": {
  "kernelspec": {
   "display_name": "Python 3",
   "language": "python",
   "name": "python3"
  },
  "language_info": {
   "codemirror_mode": {
    "name": "ipython",
    "version": 3
   },
   "file_extension": ".py",
   "mimetype": "text/x-python",
   "name": "python",
   "nbconvert_exporter": "python",
   "pygments_lexer": "ipython3",
   "version": "3.12.3"
  }
 },
 "nbformat": 4,
 "nbformat_minor": 4
}
