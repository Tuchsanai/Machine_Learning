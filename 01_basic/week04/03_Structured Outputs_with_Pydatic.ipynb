{
 "cells": [
  {
   "cell_type": "code",
   "execution_count": 1,
   "id": "57dddc3f",
   "metadata": {},
   "outputs": [
    {
     "name": "stdout",
     "output_type": "stream",
     "text": [
      "Notebook cleaned.\n"
     ]
    }
   ],
   "source": [
    "import IPython\n",
    "import sys\n",
    "\n",
    "def clean_notebook():\n",
    "    IPython.display.clear_output(wait=True)\n",
    "    print(\"Notebook cleaned.\")\n",
    "\n",
    "!pip install openai\n",
    "!pip install python-dotenv\n",
    "\n",
    "# Clean up the notebook\n",
    "clean_notebook()"
   ]
  },
  {
   "cell_type": "code",
   "execution_count": 2,
   "id": "18f1bbc7",
   "metadata": {},
   "outputs": [
    {
     "data": {
      "text/plain": [
       "True"
      ]
     },
     "execution_count": 2,
     "metadata": {},
     "output_type": "execute_result"
    }
   ],
   "source": [
    "import os\n",
    "from openai import OpenAI\n",
    "from dotenv import load_dotenv\n",
    "\n",
    "# Load environment variables\n",
    "load_dotenv()"
   ]
  },
  {
   "cell_type": "code",
   "execution_count": 3,
   "id": "5d8d1045",
   "metadata": {},
   "outputs": [],
   "source": [
    "import os\n",
    "from openai import OpenAI\n",
    "\n",
    "client = OpenAI(api_key=os.getenv(\"OPENAI_API_KEY\"))\n",
    "model_name = \"gpt-4.1\"    "
   ]
  },
  {
   "cell_type": "code",
   "execution_count": 15,
   "id": "d202ffb5",
   "metadata": {},
   "outputs": [],
   "source": [
    "from openai import OpenAI\n",
    "from pydantic import BaseModel\n",
    "\n",
    "client = OpenAI()\n",
    "\n",
    "class CalendarEvent(BaseModel):\n",
    "    name: str\n",
    "    date: str\n",
    "    participants: list[str]\n",
    "\n",
    "response = client.responses.parse(\n",
    "    model=\"gpt-4o-2024-08-06\",\n",
    "    input=[\n",
    "        {\"role\": \"system\", \"content\": \"Extract the event information.\"},\n",
    "        {\n",
    "            \"role\": \"user\",\n",
    "            \"content\": \"Alice and Bob are going to a science fair on Friday.\",\n",
    "        },\n",
    "    ],\n",
    "    text_format=CalendarEvent,\n",
    ")\n",
    "\n"
   ]
  },
  {
   "cell_type": "code",
   "execution_count": 18,
   "id": "72eb8f1c",
   "metadata": {},
   "outputs": [
    {
     "name": "stdout",
     "output_type": "stream",
     "text": [
      "📅 Event Details Extracted:\n",
      "Event Name       : Science Fair\n",
      "Event Date       : Friday\n",
      "Participants     : ['Alice', 'Bob']\n"
     ]
    }
   ],
   "source": [
    "# Display the result\n",
    "print(\"📅 Event Details Extracted:\")\n",
    "print(f\"Event Name       : {event.name}\")\n",
    "print(f\"Event Date       : {event.date}\")\n",
    "print(f\"Participants     : {event.participants}\")\n"
   ]
  },
  {
   "cell_type": "code",
   "execution_count": 9,
   "id": "8b1cdda8",
   "metadata": {},
   "outputs": [
    {
     "name": "stdout",
     "output_type": "stream",
     "text": [
      "Explanation: Start by isolating the term with the variable. Subtract 7 from both sides to remove the constant term on the left.\n",
      "Output: 8x + 7 - 7 = -23 - 7\n",
      "Explanation: Simplify both sides of the equation.\n",
      "Output: 8x = -30\n",
      "Explanation: Now, divide both sides of the equation by 8 to solve for x.\n",
      "Output: x = -30 / 8\n",
      "Explanation: Simplify the fraction by dividing both the numerator and the denominator by their greatest common divisor, which is 2.\n",
      "Output: x = -15 / 4\n"
     ]
    }
   ],
   "source": [
    "from openai import OpenAI\n",
    "from pydantic import BaseModel\n",
    "\n",
    "client = OpenAI()\n",
    "\n",
    "class Step(BaseModel):\n",
    "    explanation: str\n",
    "    output: str\n",
    "\n",
    "class MathReasoning(BaseModel):\n",
    "    steps: list[Step]\n",
    "    final_answer: str\n",
    "\n",
    "response = client.responses.parse(\n",
    "    model=\"gpt-4o-2024-08-06\",\n",
    "    input=[\n",
    "        {\n",
    "            \"role\": \"system\",\n",
    "            \"content\": \"You are a helpful math tutor. Guide the user through the solution step by step.\",\n",
    "        },\n",
    "        {\"role\": \"user\", \"content\": \"how can I solve 8x + 7 = -23\"},\n",
    "    ],\n",
    "    text_format=MathReasoning,\n",
    ")\n",
    "\n",
    "math_reasoning = response.output_parsed\n",
    "\n",
    "for step in math_reasoning.steps:\n",
    "    print(f\"Explanation: {step.explanation}\")\n",
    "    print(f\"Output: {step.output}\")"
   ]
  },
  {
   "cell_type": "markdown",
   "id": "77d6be1b",
   "metadata": {},
   "source": [
    "# Event with Attendees\n",
    "\n"
   ]
  },
  {
   "cell_type": "code",
   "execution_count": 20,
   "id": "c3f4c2c9",
   "metadata": {},
   "outputs": [
    {
     "name": "stdout",
     "output_type": "stream",
     "text": [
      "name: Wedding Ceremony\n",
      "date: June 20, 2024\n",
      "location: New York\n",
      "attendees: ['Alice', 'Bob', 'Charlie']\n"
     ]
    }
   ],
   "source": [
    "from openai import OpenAI\n",
    "from pydantic import BaseModel\n",
    "from typing import List\n",
    "\n",
    "class Event(BaseModel):\n",
    "    name: str\n",
    "    date: str\n",
    "    location: str\n",
    "    attendees: List[str]\n",
    "\n",
    "client = OpenAI()\n",
    "\n",
    "response = client.beta.chat.completions.parse(\n",
    "    model=\"gpt-4o-2024-08-06\",\n",
    "    messages=[\n",
    "        {\"role\": \"system\", \"content\": \"Extract the event information.\"},\n",
    "        {\n",
    "            \"role\": \"user\",\n",
    "            \"content\": \"Wedding ceremony on June 20, 2024, in New York, with guests Alice, Bob, and Charlie.\",\n",
    "        },\n",
    "    ],\n",
    "    response_format=Event,\n",
    ")\n",
    "\n",
    "event = response.choices[0].message.parsed\n",
    "\n",
    "# Display results using for loop to check structure\n",
    "for field, value in event.model_dump().items():\n",
    "    print(f\"{field}: {value}\")"
   ]
  },
  {
   "cell_type": "markdown",
   "id": "912761a1",
   "metadata": {},
   "source": [
    "# Event with Categories\n",
    "\n"
   ]
  },
  {
   "cell_type": "code",
   "execution_count": 21,
   "id": "cf1077fe",
   "metadata": {},
   "outputs": [
    {
     "name": "stdout",
     "output_type": "stream",
     "text": [
      "name: Art Exhibition\n",
      "date: November 3, 2024\n",
      "location: Tokyo\n",
      "categories: ['modern', 'abstract']\n"
     ]
    }
   ],
   "source": [
    "from openai import OpenAI\n",
    "from pydantic import BaseModel\n",
    "from typing import List\n",
    "\n",
    "class Event(BaseModel):\n",
    "    name: str\n",
    "    date: str\n",
    "    location: str\n",
    "    categories: List[str]\n",
    "\n",
    "client = OpenAI()\n",
    "\n",
    "response = client.beta.chat.completions.parse(\n",
    "    model=\"gpt-4o-2024-08-06\",\n",
    "    messages=[\n",
    "        {\"role\": \"system\", \"content\": \"Extract the event information.\"},\n",
    "        {\n",
    "            \"role\": \"user\",\n",
    "            \"content\": \"Art Exhibition on November 3, 2024, in Tokyo, categories: modern, abstract.\",\n",
    "        },\n",
    "    ],\n",
    "    response_format=Event,\n",
    ")\n",
    "\n",
    "event = response.choices[0].message.parsed\n",
    "\n",
    "# Display results using for loop to check structure\n",
    "for field, value in event.model_dump().items():\n",
    "    print(f\"{field}: {value}\")"
   ]
  },
  {
   "cell_type": "code",
   "execution_count": 22,
   "id": "d189def8",
   "metadata": {},
   "outputs": [
    {
     "name": "stdout",
     "output_type": "stream",
     "text": [
      "name: Sports Event\n",
      "date: January 22, 2025\n",
      "location: Sydney\n",
      "sponsors: ['Nike', 'Adidas']\n"
     ]
    }
   ],
   "source": [
    "from openai import OpenAI\n",
    "from pydantic import BaseModel\n",
    "from typing import List\n",
    "\n",
    "class Event(BaseModel):\n",
    "    name: str\n",
    "    date: str\n",
    "    location: str\n",
    "    sponsors: List[str]\n",
    "\n",
    "client = OpenAI()\n",
    "\n",
    "response = client.beta.chat.completions.parse(\n",
    "    model=\"gpt-4o-2024-08-06\",\n",
    "    messages=[\n",
    "        {\"role\": \"system\", \"content\": \"Extract the event information.\"},\n",
    "        {\n",
    "            \"role\": \"user\",\n",
    "            \"content\": \"Sports Event on January 22, 2025, in Sydney, sponsored by Nike and Adidas.\",\n",
    "        },\n",
    "    ],\n",
    "    response_format=Event,\n",
    ")\n",
    "\n",
    "event = response.choices[0].message.parsed\n",
    "\n",
    "# Display results using for loop to check structure\n",
    "for field, value in event.model_dump().items():\n",
    "    print(f\"{field}: {value}\")"
   ]
  },
  {
   "cell_type": "markdown",
   "id": "1aff2a57",
   "metadata": {},
   "source": [
    "#  Event with List of Nested Attendees\n",
    "\n"
   ]
  },
  {
   "cell_type": "code",
   "execution_count": 23,
   "id": "1af8a7a9",
   "metadata": {},
   "outputs": [
    {
     "name": "stdout",
     "output_type": "stream",
     "text": [
      "name: Team Meeting\n",
      "date: May 10, 2025\n",
      "location: Office HQ\n",
      "attendees:\n",
      "  Attendee 1:\n",
      "    name: Alice\n",
      "    role: Manager\n",
      "    email: alice@email.com\n",
      "  Attendee 2:\n",
      "    name: Bob\n",
      "    role: Engineer\n",
      "    email: bob@email.com\n"
     ]
    }
   ],
   "source": [
    "from openai import OpenAI\n",
    "from pydantic import BaseModel\n",
    "from typing import List\n",
    "\n",
    "class Attendee(BaseModel):\n",
    "    name: str\n",
    "    role: str\n",
    "    email: str\n",
    "\n",
    "class Event(BaseModel):\n",
    "    name: str\n",
    "    date: str\n",
    "    location: str\n",
    "    attendees: List[Attendee]\n",
    "\n",
    "client = OpenAI()\n",
    "\n",
    "response = client.beta.chat.completions.parse(\n",
    "    model=\"gpt-4o-2024-08-06\",\n",
    "    messages=[\n",
    "        {\"role\": \"system\", \"content\": \"Extract the event information.\"},\n",
    "        {\n",
    "            \"role\": \"user\",\n",
    "            \"content\": \"Team Meeting on May 10, 2025, in Office HQ, attendees: Alice (Manager, alice@email.com), Bob (Engineer, bob@email.com).\",\n",
    "        },\n",
    "    ],\n",
    "    response_format=Event,\n",
    ")\n",
    "\n",
    "event = response.choices[0].message.parsed\n",
    "\n",
    "# Display results using for loop to check structure\n",
    "for field, value in event.model_dump().items():\n",
    "    if isinstance(value, list):\n",
    "        print(f\"{field}:\")\n",
    "        for idx, item in enumerate(value, 1):\n",
    "            print(f\"  Attendee {idx}:\")\n",
    "            for subfield, subvalue in item.items():\n",
    "                print(f\"    {subfield}: {subvalue}\")\n",
    "    else:\n",
    "        print(f\"{field}: {value}\")"
   ]
  },
  {
   "cell_type": "markdown",
   "id": "deee7ff8",
   "metadata": {},
   "source": [
    "# Event with Nested Organizer and Sponsors\n",
    "\n"
   ]
  },
  {
   "cell_type": "code",
   "execution_count": 24,
   "id": "26d7d89f",
   "metadata": {},
   "outputs": [
    {
     "name": "stdout",
     "output_type": "stream",
     "text": [
      "name: Expo\n",
      "date: October 10, 2025\n",
      "location: New York\n",
      "organizer:\n",
      "  name: Tech Corp\n",
      "  contact: info@tech.com\n",
      "sponsors:\n",
      "  Sponsor 1:\n",
      "    name: Google\n",
      "    contribution: platinum\n",
      "  Sponsor 2:\n",
      "    name: Apple\n",
      "    contribution: gold\n"
     ]
    }
   ],
   "source": [
    "from openai import OpenAI\n",
    "from pydantic import BaseModel\n",
    "from typing import List\n",
    "\n",
    "class Organizer(BaseModel):\n",
    "    name: str\n",
    "    contact: str\n",
    "\n",
    "class Sponsor(BaseModel):\n",
    "    name: str\n",
    "    contribution: str\n",
    "\n",
    "class Event(BaseModel):\n",
    "    name: str\n",
    "    date: str\n",
    "    location: str\n",
    "    organizer: Organizer\n",
    "    sponsors: List[Sponsor]\n",
    "\n",
    "client = OpenAI()\n",
    "\n",
    "response = client.beta.chat.completions.parse(\n",
    "    model=\"gpt-4o-2024-08-06\",\n",
    "    messages=[\n",
    "        {\"role\": \"system\", \"content\": \"Extract the event information.\"},\n",
    "        {\n",
    "            \"role\": \"user\",\n",
    "            \"content\": \"Expo on October 10, 2025, in New York. Organizer: Tech Corp (info@tech.com). Sponsors: Google (platinum), Apple (gold).\",\n",
    "        },\n",
    "    ],\n",
    "    response_format=Event,\n",
    ")\n",
    "\n",
    "event = response.choices[0].message.parsed\n",
    "\n",
    "# Display results using for loop to check structure\n",
    "for field, value in event.model_dump().items():\n",
    "    if isinstance(value, dict):\n",
    "        print(f\"{field}:\")\n",
    "        for subfield, subvalue in value.items():\n",
    "            print(f\"  {subfield}: {subvalue}\")\n",
    "    elif isinstance(value, list):\n",
    "        print(f\"{field}:\")\n",
    "        for idx, item in enumerate(value, 1):\n",
    "            print(f\"  Sponsor {idx}:\")\n",
    "            for subfield, subvalue in item.items():\n",
    "                print(f\"    {subfield}: {subvalue}\")\n",
    "    else:\n",
    "        print(f\"{field}: {value}\")"
   ]
  },
  {
   "cell_type": "code",
   "execution_count": null,
   "id": "27c88265",
   "metadata": {},
   "outputs": [],
   "source": []
  }
 ],
 "metadata": {
  "kernelspec": {
   "display_name": "torch",
   "language": "python",
   "name": "python3"
  },
  "language_info": {
   "codemirror_mode": {
    "name": "ipython",
    "version": 3
   },
   "file_extension": ".py",
   "mimetype": "text/x-python",
   "name": "python",
   "nbconvert_exporter": "python",
   "pygments_lexer": "ipython3",
   "version": "3.12.7"
  }
 },
 "nbformat": 4,
 "nbformat_minor": 5
}
