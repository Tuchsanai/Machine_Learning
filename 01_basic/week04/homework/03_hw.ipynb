{
  "cells": [
    {
      "cell_type": "markdown",
      "metadata": {},
      "source": [
        "## **แบบฝึกหัดขั้นสูง: Multi-Function Calling และการจัดการข้อมูลด้วย Pydantic**\n"
      ]
    },
    {
      "cell_type": "markdown",
      "metadata": {},
      "source": [
        "---"
      ]
    },
    {
      "cell_type": "markdown",
      "metadata": {},
      "source": [
        "### **ข้อที่ 1: ระบบวางแผนการเดินทางอัจฉริยะ**\n",
        "\n",
        "**สถานการณ์:** ผู้ใช้ต้องการวางแผนการเดินทางจากโตเกียว (Tokyo) ไปยังปารีส (Paris) และต้องการข้อมูลเปรียบเทียบ ทั้งเรื่องเวลาท้องถิ่นของทั้งสองเมือง, สภาพอากาศปัจจุบัน, และเมืองหลวงของประเทศนั้นๆ เพื่อยืนยันข้อมูล\n",
        "\n",
        "**งานของคุณ:**\n",
        "1.  เขียนโค้ดที่รับคำสั่งจากผู้ใช้ เช่น `\"ฉันจะเดินทางจากโตเกียวไปปารีส ช่วยบอกเวลาท้องถิ่นและสภาพอากาศของทั้งสองเมืองหน่อย แล้วเมืองหลวงของญี่ปุ่นกับฝรั่งเศสคือที่ไหนนะ?\"`\n",
        "2.  คุณจะต้องสร้าง Mock Function ใหม่ชื่อ `get_weather(city: str)` ซึ่งจะคืนค่าเป็นข้อมูลสภาพอากาศจำลอง (เช่น `{\"temperature\": \"15°C\", \"condition\": \"Cloudy\"}`)\n",
        "3.  เรียกใช้ฟังก์ชัน `get_current_time`, `get_capital_city`, และ `get_weather` สำหรับเมืองทั้งสอง\n",
        "4.  ** (ส่วนที่ท้าทาย)** ออกแบบ Pydantic Model ชื่อ `TripPlannerResponse` เพื่อรวบรวมข้อมูลทั้งหมด โดยมีการแบ่งโครงสร้างข้อมูลของแต่ละเมืองอย่างชัดเจน\n",
        "\n",
        "**Pydantic Model ที่คาดหวัง:**\n",
        "```python\n",
        "from pydantic import BaseModel\n",
        "from typing import Dict\n",
        "\n",
        "class CityInfo(BaseModel):\n",
        "    local_time: str\n",
        "    weather: Dict[str, str] # e.g., {\"temperature\": \"15°C\", \"condition\": \"Cloudy\"}\n",
        "    capital_of: str\n",
        "\n",
        "class TripPlannerResponse(BaseModel):\n",
        "    origin: CityInfo\n",
        "    destination: CityInfo\n",
        "    trip_summary: str # สร้างข้อความสรุปสั้นๆ จากข้อมูลทั้งหมด\n",
        "```\n",
        "**คำใบ้:** โมเดล LLM อาจจะต้องเรียกฟังก์ชันเดียวกัน (เช่น `get_current_time`) แต่ด้วยพารามิเตอร์ที่ต่างกัน (คนละเมือง) ในคำสั่งเดียว คุณต้องจัดการผลลัพธ์เหล่านี้ให้ถูกต้องและจับคู่กับเมืองที่ถูกต้องใน Pydantic Model"
      ]
    },
    {
      "cell_type": "code",
      "execution_count": null,
      "metadata": {
        "vscode": {
          "languageId": "plaintext"
        }
      },
      "outputs": [],
      "source": []
    },
    {
      "cell_type": "code",
      "execution_count": null,
      "metadata": {
        "vscode": {
          "languageId": "plaintext"
        }
      },
      "outputs": [],
      "source": []
    },
    {
      "cell_type": "code",
      "execution_count": null,
      "metadata": {
        "vscode": {
          "languageId": "plaintext"
        }
      },
      "outputs": [],
      "source": []
    },
    {
      "cell_type": "code",
      "execution_count": null,
      "metadata": {
        "vscode": {
          "languageId": "plaintext"
        }
      },
      "outputs": [],
      "source": []
    },
    {
      "cell_type": "markdown",
      "metadata": {},
      "source": [
        "### **ข้อที่ 2: ระบบสรุปข้อมูลเหตุการณ์สำคัญ**\n",
        "\n",
        "**สถานการณ์:** นักข่าวต้องการข้อมูลสรุปเกี่ยวกับเหตุการณ์ 'การประชุมสุดยอด AI' โดยต้องการทราบว่าจัดขึ้นที่ประเทศใด (สมมติว่าจัดขึ้นที่ฝรั่งเศส), เมืองหลวงของประเทศนั้น, เวลาท้องถิ่น ณ ตอนนั้น, และข่าวล่าสุดเกี่ยวกับ 'AI' และ 'เศรษฐศาสตร์ (economics)' เพื่อหาความเชื่อมโยง\n",
        "\n",
        "**งานของคุณ:**\n",
        "1.  เขียนโค้ดที่รับคำสั่งจากผู้ใช้ เช่น `\"การประชุมสุดยอด AI จัดขึ้นที่ไหน ช่วยบอกเมืองหลวง เวลาปัจจุบัน และสรุปข่าวล่าสุดเกี่ยวกับ AI และเศรษฐศาสตร์ให้ที\"`\n",
        "2.  LLM ควร (infer) ได้ว่าต้องหาเมืองหลวงของฝรั่งเศส และเรียกใช้ `get_capital_city`, `get_current_time`, และ `get_latest_news` (สองครั้งสำหรับสองหัวข้อ)\n",
        "3.  **(ส่วนที่ท้าทาย)** ออกแบบ Pydantic Model ที่สามารถรวบรวม 'หัวข้อข่าว' หลายๆ หัวข้อได้แบบไดนามิก และสร้างข้อความสรุปเชิงวิเคราะห์สั้นๆ จากข้อมูลทั้งหมด\n",
        "\n",
        "**Pydantic Model ที่คาดหวัง:**\n",
        "```python\n",
        "from pydantic import BaseModel, Field\n",
        "from typing import Dict\n",
        "\n",
        "class EventBriefing(BaseModel):\n",
        "    event_name: str = \"AI Summit\"\n",
        "    location_country: str\n",
        "    location_capital: str\n",
        "    local_time: str\n",
        "    news_briefings: Dict[str, str] = Field(..., description=\"A dictionary mapping news topics to their summaries\")\n",
        "    analytic_summary: str # ข้อความสรุปที่สร้างขึ้นเอง เช่น 'The AI Summit in Paris is happening amidst news of powerful AI models, which may impact the economy.'\n",
        "```\n",
        "**คำใบ้:** การที่ LLM ต้องเรียก `get_latest_news` สองครั้งสำหรับสองหัวข้อที่แตกต่างกัน เป็นการทดสอบความสามารถในการจัดการ Tool Calls ที่ซ้ำซ้อนแต่มีพารามิเตอร์ต่างกัน คุณต้องมี Logic ในการรวบรวมผลลัพธ์จาก Tool Calls เหล่านี้ลงใน Dictionary ของ Pydantic"
      ]
    },
    {
      "cell_type": "code",
      "execution_count": null,
      "metadata": {
        "vscode": {
          "languageId": "plaintext"
        }
      },
      "outputs": [],
      "source": []
    },
    {
      "cell_type": "code",
      "execution_count": null,
      "metadata": {
        "vscode": {
          "languageId": "plaintext"
        }
      },
      "outputs": [],
      "source": []
    },
    {
      "cell_type": "markdown",
      "metadata": {},
      "source": []
    }
  ],
  "metadata": {
    "kernelspec": {
      "display_name": "Python 3",
      "language": "python",
      "name": "python3"
    },
    "language_info": {
      "codemirror_mode": {
        "name": "ipython",
        "version": 3
      },
      "file_extension": ".py",
      "mimetype": "text/x-python",
      "name": "python",
      "nbconvert_exporter": "python",
      "pygments_lexer": "ipython3",
      "version": "3.12.3"
    }
  },
  "nbformat": 4,
  "nbformat_minor": 4
}
