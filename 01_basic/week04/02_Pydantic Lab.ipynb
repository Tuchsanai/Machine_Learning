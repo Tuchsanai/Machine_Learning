{
 "cells": [
  {
   "cell_type": "markdown",
   "metadata": {},
   "source": [
    "# Pydantic Lab: สร้างโมเดลข้อมูลขั้นเทพใน Python (ฉบับเข้าใจง่าย)\n",
    "\n",
    "### **ภาพรวม**\n",
    "\n",
    "แล็บนี้จะสอนวิธีการใช้ `BaseModel` และ `Field` ของ Pydantic สำหรับการตรวจสอบความถูกต้องของข้อมูล (Data Validation), การแปลงข้อมูล (Serialization) และการสร้างโมเดลข้อมูลที่แข็งแกร่งใน Python ซึ่ง Pydantic เป็นเครื่องมือที่จำเป็นอย่างยิ่งสำหรับแอปพลิเคชัน Python สมัยใหม่ โดยเฉพาะงานด้าน API และการประมวลผลข้อมูล\n",
    "\n",
    "---"
   ]
  },
  {
   "cell_type": "markdown",
   "metadata": {},
   "source": [
    "### **ส่วนที่ 1: เริ่มต้นกับ `BaseModel`**\n",
    "\n",
    "`Pydantic BaseModel` คือ **คลาสหลัก** ที่ใช้ในไลบรารี Pydantic สำหรับ **สร้างโมเดลข้อมูลในภาษา Python**\n",
    "\n",
    "โดยมีความสามารถหลักๆ คือ:\n",
    "* ✅ **ตรวจสอบความถูกต้องของข้อมูล (Data Validation):** เช็คว่าข้อมูลที่รับเข้ามาตรงตามชนิดและเงื่อนไขที่เรากำหนดหรือไม่\n",
    "* 🔄 **แปลงชนิดข้อมูลอัตโนมัติ (Parsing):** เช่น แปลงข้อความที่เป็นตัวเลข (`\"30\"`) ให้เป็นข้อมูลชนิดตัวเลข (`30`) โดยอัตโนมัติ\n",
    "\n",
    "> **อธิบายง่ายๆ:** `BaseModel` คือแม่แบบสำหรับสร้างคลาสที่เราสามารถกำหนดชนิดของข้อมูล (Type Annotations) ได้อย่างชัดเจน และ Pydantic จะตรวจสอบข้อมูลให้ทันทีเมื่อเราสร้างอ็อบเจกต์จากคลาสนั้น\n",
    "\n",
    "**ตัวอย่างการใช้งานเบื้องต้น:**\n",
    "\n",
    "```python\n",
    "from pydantic import BaseModel\n",
    "\n",
    "class User(BaseModel):\n",
    "    name: str\n",
    "    age: int\n",
    "\n",
    "user = User(name=\"Alice\", age=30)        # ✅ ถูกต้อง ข้อมูลตรงตามที่กำหนด\n",
    "user2 = User(name=\"Bob\", age=\"30\")       # ✅ ถูกต้อง Pydantic แปลง \"30\" เป็น int ให้\n",
    "# user3 = User(name=\"Tom\", age=\"abc\")      # ❌ เกิด Error เพราะ \"abc\" ไม่สามารถแปลงเป็น int ได้\n",
    "```\n",
    "\n",
    "---"
   ]
  },
  {
   "cell_type": "markdown",
   "metadata": {},
   "source": [
    "### **แบบฝึกหัด 1.1: สร้าง `BaseModel` แรกของคุณ**\n",
    "\n",
    "ลองสร้างโมเดล `User` อย่างง่าย ที่มีข้อมูลชื่อ, อายุ, อีเมล และสถานะการใช้งาน"
   ]
  },
  {
   "cell_type": "code",
   "execution_count": 1,
   "metadata": {},
   "outputs": [
    {
     "name": "stdout",
     "output_type": "stream",
     "text": [
      "name='Alice' age=25 email='alice@example.com' is_active=True\n",
      "Name: Alice\n",
      "Dictionary: {'name': 'Alice', 'age': 25, 'email': 'alice@example.com', 'is_active': True}\n"
     ]
    }
   ],
   "source": [
    "from pydantic import BaseModel\n",
    "from typing import Optional\n",
    "\n",
    "class User(BaseModel):\n",
    "    name: str\n",
    "    age: int\n",
    "    email: str\n",
    "    is_active: bool = True  # กำหนดค่าเริ่มต้นให้เป็น True\n",
    "\n",
    "# สร้างอ็อบเจกต์จากโมเดล\n",
    "user = User(name=\"Alice\", age=25, email=\"alice@example.com\")\n",
    "\n",
    "# แสดงผลข้อมูล\n",
    "print(user)\n",
    "\n",
    "# เข้าถึงข้อมูลแต่ละฟิลด์\n",
    "print(f\"Name: {user.name}\")\n",
    "\n",
    "# แปลงโมเดลเป็น Dictionary (JSON)\n",
    "print(f\"Dictionary: {user.model_dump()}\")"
   ]
  },
  {
   "cell_type": "markdown",
   "metadata": {},
   "source": [
    "### **แบบฝึกหัด 1.2: การตรวจสอบข้อมูลอัตโนมัติ**\n",
    "\n",
    "ลองสร้างข้อมูลที่ไม่ถูกต้องและดูว่า Pydantic จัดการกับมันอย่างไร"
   ]
  },
  {
   "cell_type": "code",
   "execution_count": 2,
   "metadata": {},
   "outputs": [
    {
     "name": "stdout",
     "output_type": "stream",
     "text": [
      "Validation Error: 1 validation error for User\n",
      "age\n",
      "  Input should be a valid integer, unable to parse string as an integer [type=int_parsing, input_value='not a number', input_type=str]\n",
      "    For further information visit https://errors.pydantic.dev/2.11/v/int_parsing\n",
      "name='Charlie' age=30 email='charlie@example.com' is_active=True\n",
      "Age: 30, Type: <class 'int'>\n"
     ]
    }
   ],
   "source": [
    "# โค้ดนี้จะทำให้เกิด ValidationError\n",
    "try:\n",
    "    # พยายามสร้าง user ที่มี \"age\" ไม่ใช่ตัวเลข\n",
    "    invalid_user = User(name=\"Bob\", age=\"not a number\", email=\"bob@example.com\")\n",
    "except Exception as e:\n",
    "    print(f\"Validation Error: {e}\")\n",
    "\n",
    "# โค้ดนี้จะทำงานได้ - Pydantic แปลง string \"30\" เป็น int ให้\n",
    "valid_user = User(name=\"Charlie\", age=\"30\", email=\"charlie@example.com\")\n",
    "print(valid_user)\n",
    "print(f\"Age: {valid_user.age}, Type: {type(valid_user.age)}\")"
   ]
  },
  {
   "cell_type": "markdown",
   "metadata": {},
   "source": [
    "---\n",
    "\n",
    "### **ส่วนที่ 2: รู้จักกับ `Field`**\n",
    "\n",
    "`Field` คือฟังก์ชันที่ใช้ **กำหนดเงื่อนไขและรายละเอียดเพิ่มเติม** ให้กับแอตทริบิวต์ในโมเดลของเรา เช่น การกำหนดค่าเริ่มต้น, คำอธิบาย, หรือเงื่อนไขของข้อมูล (เช่น ตัวเลขต้องมากกว่า 0)\n",
    "\n",
    "### **แบบฝึกหัด 2.1: การใช้งาน `Field` เบื้องต้น**\n",
    "\n",
    "สร้างโมเดล `Product` ที่มีเงื่อนไขต่างๆ"
   ]
  },
  {
   "cell_type": "markdown",
   "metadata": {},
   "source": [
    "**พารามิเตอร์ที่น่าสนใจของ `Field`:**\n",
    "\n",
    "* `...` (Ellipsis): ใช้เพื่อบอกว่าฟิลด์นี้ **จำเป็น (Required)**\n",
    "* `default`: กำหนดค่าเริ่มต้นถ้าไม่มีการส่งค่าเข้ามา\n",
    "* `gt`, `ge`, `lt`, `le`: เงื่อนไขเชิงตัวเลข (มากกว่า, มากกว่าหรือเท่ากับ, น้อยกว่า, น้อยกว่าหรือเท่ากับ)\n",
    "* `min_length`, `max_length`: กำหนดความยาวขั้นต่ำและสูงสุดของข้อความ\n",
    "* `description`: เพิ่มคำอธิบายสำหรับฟิลด์นั้นๆ เพื่อสร้างเอกสารอ้างอิง\n",
    "\n",
    "---"
   ]
  },
  {
   "cell_type": "code",
   "execution_count": 11,
   "metadata": {},
   "outputs": [
    {
     "name": "stdout",
     "output_type": "stream",
     "text": [
      "name='Laptop' price=999.99 quantity=5 category='electronics'\n",
      "\n",
      "Formatted JSON:\n",
      "{\n",
      "  \"name\": \"Laptop\",\n",
      "  \"price\": 999.99,\n",
      "  \"quantity\": 5,\n",
      "  \"category\": \"electronics\"\n",
      "}\n"
     ]
    }
   ],
   "source": [
    "from pydantic import BaseModel, Field\n",
    "import json\n",
    "\n",
    "class Product(BaseModel):\n",
    "    # Field(...) หมายถึงจำเป็นต้องระบุค่านี้\n",
    "    name: str = Field(..., min_length=1, max_length=100, description=\"ชื่อสินค้า\")\n",
    "    price: float = Field(..., gt=0, description=\"ราคาต้องเป็นค่าบวก\") # gt=0 คือ > 0\n",
    "\n",
    "    # ge=0 คือ >= 0\n",
    "    quantity: int = Field(default=0, ge=0, description=\"จำนวนสินค้าในสต็อก\")\n",
    "    category: str = Field(\"general\", description=\"หมวดหมู่สินค้า\")\n",
    "\n",
    "\n",
    "# สร้างอ็อบเจกต์ product\n",
    "product = Product(name=\"Laptop\", price=999.99, quantity=5, category=\"electronics\")\n",
    "print(product)\n",
    "\n",
    "\n",
    "# Alternative: Using json.dumps for even better formatting\n",
    "product_dict = product.model_dump()\n",
    "formatted_json = json.dumps(product_dict, indent=2, ensure_ascii=False)\n",
    "print(\"\\nFormatted JSON:\")\n",
    "print(formatted_json)"
   ]
  },
  {
   "cell_type": "markdown",
   "metadata": {},
   "source": [
    "\n",
    "### **แบบฝึกหัด 3.: สร้างโมเดลสำหรับ API Response**\n",
    "\n",
    "โค้ดนี้ใช้ Pydantic เพื่อสร้างโมเดลสำหรับการตอบกลับของ API (API Response) โดยกำหนดชนิดข้อมูลและเงื่อนไขของแต่ละฟิลด์อย่างชัดเจน เพื่อให้มั่นใจว่าโครงสร้างข้อมูลถูกต้องและปลอดภัย"
   ]
  },
  {
   "cell_type": "code",
   "execution_count": 13,
   "metadata": {},
   "outputs": [
    {
     "name": "stdout",
     "output_type": "stream",
     "text": [
      "Success response:\n",
      "{\n",
      "  \"success\": true,\n",
      "  \"message\": \"Data retrieved successfully\",\n",
      "  \"data\": {\n",
      "    \"users\": [\n",
      "      {\n",
      "        \"id\": 1,\n",
      "        \"name\": \"Alice\"\n",
      "      }\n",
      "    ]\n",
      "  },\n",
      "  \"timestamp\": \"2025-07-24T08:15:25.893692\",\n",
      "  \"errors\": []\n",
      "}\n"
     ]
    }
   ],
   "source": [
    "from pydantic import BaseModel, Field\n",
    "from typing import List, Optional\n",
    "from datetime import datetime\n",
    "\n",
    "class APIResponse(BaseModel):\n",
    "    success: bool = Field(default=True)\n",
    "    message: str\n",
    "    data: Optional[dict] = None  # ข้อมูลอาจจะมีหรือไม่มีก็ได้\n",
    "    timestamp: datetime = Field(default_factory=datetime.now) # สร้างเวลาปัจจุบันอัตโนมัติ\n",
    "    errors: List[str] = Field(default_factory=list) # สร้าง list ว่างอัตโนมัติ\n",
    "\n",
    "# ตัวอย่างการใช้งานเมื่อสำเร็จ\n",
    "response = APIResponse(\n",
    "    message=\"Data retrieved successfully\",\n",
    "    data={\"users\": [{\"id\": 1, \"name\": \"Alice\"}]}\n",
    ")\n",
    "print(\"Success response:\")\n",
    "print(response.model_dump_json(indent=2))\n",
    "\n"
   ]
  },
  {
   "cell_type": "markdown",
   "metadata": {},
   "source": [
    "### **แบบฝึกหัด 4: การสืบทอดคุณสมบัติ (Model Inheritance)**\n"
   ]
  },
  {
   "cell_type": "code",
   "execution_count": 17,
   "metadata": {},
   "outputs": [],
   "source": [
    "from pydantic import BaseModel, Field  # นำเข้าเครื่องมือจาก Pydantic เพื่อสร้างโมเดล\n",
    "from datetime import datetime  # นำเข้า datetime เพื่อจัดการวันที่และเวลา\n",
    "\n",
    "# คลาสแม่: BaseEntity - คุณสมบัติพื้นฐานที่ทุกโมเดลจะสืบทอดมาใช้\n",
    "class BaseEntity(BaseModel):\n",
    "    id: int = Field(..., ge=1)  # ID ต้องเป็นจำนวนเต็ม และมากกว่าหรือเท่ากับ 1 (ge=greater or equal)\n",
    "    created_at: datetime = Field(default_factory=datetime.utcnow)  # วันที่สร้างอัตโนมัติ (ใช้เวลา UTC ปัจจุบัน)\n",
    "    updated_at: datetime = Field(default_factory=datetime.utcnow)  # วันที่อัปเดตอัตโนมัติ (เหมือน created_at)\n",
    "\n",
    "# คลาสลูก: User - สืบทอดจาก BaseEntity (รับ id, created_at, updated_at มาฟรีๆ)\n",
    "class User(BaseEntity):  # สืบทอดจาก BaseEntity\n",
    "    name: str = Field(..., min_length=1)  # ชื่อต้องเป็นสตริง และยาวอย่างน้อย 1 ตัวอักษร\n",
    "    email: str  # อีเมลเป็นสตริง (ไม่มีเงื่อนไขเพิ่มเติม)\n",
    "\n",
    "# คลาสลูก: Product - สืบทอดจาก BaseEntity เหมือนกัน\n",
    "class Product(BaseEntity):  # สืบทอดจาก BaseEntity\n",
    "    name: str = Field(..., min_length=1)  # ชื่อสินค้าต้องยาวอย่างน้อย 1 ตัวอักษร\n",
    "    price: float = Field(..., gt=0)  # ราคาต้องเป็นทศนิยม และมากกว่า 0 (gt=greater than)\n",
    "    category: str  # หมวดหมู่เป็นสตริง\n",
    "\n",
    "# การใช้งาน: สร้างอ็อบเจ็กต์ User และ Product\n",
    "user = User(id=1, name=\"Alice\", email=\"alice@example.com\")  # สร้างผู้ใช้ Alice\n",
    "product = Product(id=1, name=\"Laptop\", price=999.99, category=\"Electronics\")  # สร้างสินค้า Laptop\n"
   ]
  },
  {
   "cell_type": "code",
   "execution_count": 18,
   "metadata": {},
   "outputs": [
    {
     "name": "stdout",
     "output_type": "stream",
     "text": [
      "User JSON:\n",
      "{\n",
      "  \"id\": 1,\n",
      "  \"created_at\": \"2025-07-24T01:35:37.544427\",\n",
      "  \"updated_at\": \"2025-07-24T01:35:37.544429\",\n",
      "  \"name\": \"Alice\",\n",
      "  \"email\": \"alice@example.com\"\n",
      "}\n",
      "\n",
      "Product JSON:\n",
      "{\n",
      "  \"id\": 1,\n",
      "  \"created_at\": \"2025-07-24T01:35:37.544453\",\n",
      "  \"updated_at\": \"2025-07-24T01:35:37.544453\",\n",
      "  \"name\": \"Laptop\",\n",
      "  \"price\": 999.99,\n",
      "  \"category\": \"Electronics\"\n",
      "}\n"
     ]
    }
   ],
   "source": [
    "\n",
    "# แสดงผลในรูปแบบ JSON (เพื่อดูโครงสร้างข้อมูลชัดเจน)\n",
    "print(\"User JSON:\")\n",
    "print(user.model_dump_json(indent=2))  # แปลง User เป็น JSON และเว้นบรรทัดสวยงาม\n",
    "print(\"\\nProduct JSON:\")\n",
    "print(product.model_dump_json(indent=2))  # แปลง Product เป็น JSON"
   ]
  },
  {
   "cell_type": "code",
   "execution_count": null,
   "metadata": {},
   "outputs": [],
   "source": []
  }
 ],
 "metadata": {
  "kernelspec": {
   "display_name": "Python 3",
   "language": "python",
   "name": "python3"
  },
  "language_info": {
   "codemirror_mode": {
    "name": "ipython",
    "version": 3
   },
   "file_extension": ".py",
   "mimetype": "text/x-python",
   "name": "python",
   "nbconvert_exporter": "python",
   "pygments_lexer": "ipython3",
   "version": "3.12.3"
  }
 },
 "nbformat": 4,
 "nbformat_minor": 4
}
