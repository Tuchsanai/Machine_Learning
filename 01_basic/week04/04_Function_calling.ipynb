{
  "cells": [
    {
      "cell_type": "markdown",
      "metadata": {},
      "source": [
        "# 🧠 Understanding Function Calling with OpenAI API (Function Tool Calling)\n",
        "\n",
        "In this lesson, we explore **Function Calling** with OpenAI's API — a powerful feature that allows the model to call specific functions based on user intent. This makes the model useful for building **AI agents**, **chatbots**, and **smart automation systems**.\n",
        "\n",
        "---\n",
        "\n",
        "## 🔧 What is Function Calling?\n",
        "\n",
        "Function calling lets the AI decide **when** and **how** to call an external function you've defined — based on the user's query. You define the function's name, parameters, and descriptions, and the model takes care of the rest.\n",
        "\n",
        "---\n",
        "\n",
        "## 🌦️ Example 1: `get_weather` Function\n",
        "\n",
        "This example shows how to define a simple function that gets the weather for a given location.\n",
        "\n",
        "### 🔍 Code:\n",
        "\n",
        "```python\n",
        "from openai import OpenAI\n",
        "\n",
        "client = OpenAI()\n",
        "\n",
        "tools = [{\n",
        "    \"type\": \"function\",\n",
        "    \"name\": \"get_weather\",\n",
        "    \"description\": \"Get current temperature for a given location.\",\n",
        "    \"parameters\": {\n",
        "        \"type\": \"object\",\n",
        "        \"properties\": {\n",
        "            \"location\": {\n",
        "                \"type\": \"string\",\n",
        "                \"description\": \"City and country e.g. Bogotá, Colombia\"\n",
        "            }\n",
        "        },\n",
        "        \"required\": [\"location\"],\n",
        "        \"additionalProperties\": False\n",
        "    }\n",
        "}]\n",
        "\n",
        "response = client.responses.create(\n",
        "    model=\"gpt-4.1\",\n",
        "    input=[{\"role\": \"user\", \"content\": \"What is the weather like in Paris today?\"}],\n",
        "    tools=tools\n",
        ")\n",
        "\n",
        "print(response.output)\n"
      ]
    },
    {
      "cell_type": "markdown",
      "metadata": {},
      "source": [
        "\n",
        "### 🧠 Explanation:\n",
        "\n",
        "* You define a tool named `get_weather` with one required parameter: `location`.\n",
        "* The user asks about the weather in Paris.\n",
        "* The model recognizes this intent and responds by calling the function with `{\"location\": \"Paris\"}`.\n",
        "* The result would be passed back to the user (from a real API or mock function).\n"
      ]
    },
    {
      "cell_type": "markdown",
      "metadata": {},
      "source": [
        "\n",
        "## 📧 Example 2: `send_email` Function\n",
        "\n",
        "Now, let’s see how we define a tool for sending an email.\n",
        "\n",
        "### 🔍 Code:\n",
        "\n",
        "```python\n",
        "from openai import OpenAI\n",
        "\n",
        "client = OpenAI()\n",
        "\n",
        "tools = [{\n",
        "    \"type\": \"function\",\n",
        "    \"name\": \"send_email\",\n",
        "    \"description\": \"Send an email to a recipient with a subject and body.\",\n",
        "    \"parameters\": {\n",
        "        \"type\": \"object\",\n",
        "        \"properties\": {\n",
        "            \"recipient\": {\n",
        "                \"type\": \"string\",\n",
        "                \"description\": \"The recipient's email address.\"\n",
        "            },\n",
        "            \"subject\": {\n",
        "                \"type\": \"string\",\n",
        "                \"description\": \"The subject of the email.\"\n",
        "            },\n",
        "            \"body\": {\n",
        "                \"type\": \"string\",\n",
        "                \"description\": \"The body content of the email.\"\n",
        "            }\n",
        "        },\n",
        "        \"required\": [\"recipient\", \"subject\", \"body\"],\n",
        "        \"additionalProperties\": False\n",
        "    }\n",
        "}]\n",
        "\n",
        "response = client.responses.create(\n",
        "    model=\"gpt-4.1\",\n",
        "    input=[{\"role\": \"user\", \"content\": \"Send an email to john@example.com about the meeting.\"}],\n",
        "    tools=tools\n",
        ")\n",
        "\n",
        "print(response.output)\n",
        "```\n",
        "\n",
        "### 🧠 Explanation:\n",
        "\n",
        "* The `send_email` tool requires 3 fields: `recipient`, `subject`, and `body`.\n",
        "* The model will extract this information from the user's request and call the function accordingly.\n",
        "* This could be used to automate real-world messaging systems with natural language.\n"
      ]
    },
    {
      "cell_type": "code",
      "execution_count": 1,
      "metadata": {},
      "outputs": [
        {
          "name": "stdout",
          "output_type": "stream",
          "text": [
            "Notebook cleaned.\n"
          ]
        }
      ],
      "source": [
        "import IPython\n",
        "import sys\n",
        "\n",
        "def clean_notebook():\n",
        "    IPython.display.clear_output(wait=True)\n",
        "    print(\"Notebook cleaned.\")\n",
        "\n",
        "!pip install openai\n",
        "!pip install python-dotenv\n",
        "\n",
        "# Clean up the notebook\n",
        "clean_notebook()"
      ]
    },
    {
      "cell_type": "code",
      "execution_count": 1,
      "metadata": {},
      "outputs": [
        {
          "data": {
            "text/plain": [
              "True"
            ]
          },
          "execution_count": 1,
          "metadata": {},
          "output_type": "execute_result"
        }
      ],
      "source": [
        "import os\n",
        "from openai import OpenAI\n",
        "from dotenv import load_dotenv\n",
        "\n",
        "# Load environment variables\n",
        "load_dotenv()"
      ]
    },
    {
      "cell_type": "code",
      "execution_count": 2,
      "metadata": {},
      "outputs": [],
      "source": [
        "import os\n",
        "from openai import OpenAI\n",
        "\n",
        "client = OpenAI(api_key=os.getenv(\"OPENAI_API_KEY\"))\n",
        "model_name = \"gpt-4.1\"    \n"
      ]
    },
    {
      "cell_type": "markdown",
      "metadata": {},
      "source": [
        "## Example: Weather Function\n",
        "\n",
        "This is a corrected and complete version of the provided code snippet. We'll define a mock weather function."
      ]
    },
    {
      "cell_type": "code",
      "execution_count": 3,
      "metadata": {},
      "outputs": [
        {
          "name": "stdout",
          "output_type": "stream",
          "text": [
            "ChatCompletionMessage(content=None, refusal=None, role='assistant', annotations=[], audio=None, function_call=None, tool_calls=[ChatCompletionMessageToolCall(id='call_36KB10GXsBj3TMH3ORftE0BL', function=Function(arguments='{\"location\":\"Paris, France\"}', name='get_weather'), type='function')])\n"
          ]
        }
      ],
      "source": [
        "import json\n",
        "\n",
        "# Define the mock function\n",
        "def get_weather(location):\n",
        "    # Mock response; in real scenario, call an API\n",
        "    return f\"The current temperature in {location} is 72°F.\"\n",
        "\n",
        "# Define the tool\n",
        "tools = [\n",
        "    {\n",
        "        \"type\": \"function\",\n",
        "        \"function\": {\n",
        "            \"name\": \"get_weather\",\n",
        "            \"description\": \"Get current temperature for a given location.\",\n",
        "            \"parameters\": {\n",
        "                \"type\": \"object\",\n",
        "                \"properties\": {\n",
        "                    \"location\": {\n",
        "                        \"type\": \"string\",\n",
        "                        \"description\": \"City and country e.g. Bogotá, Colombia\"\n",
        "                    }\n",
        "                },\n",
        "                \"required\": [\"location\"]\n",
        "            }\n",
        "        }\n",
        "    }\n",
        "]\n",
        "\n",
        "# User query\n",
        "messages = [{\"role\": \"user\", \"content\": \"What is the weather like in Paris today?\"}]\n",
        "\n",
        "# First API call\n",
        "response = client.chat.completions.create(\n",
        "    model=\"gpt-4o\",\n",
        "    messages=messages,\n",
        "    tools=tools,\n",
        "    tool_choice=\"auto\"\n",
        ")\n",
        "\n",
        "\n",
        "\n",
        "# Print model's response\n",
        "response_message = response.choices[0].message\n",
        "print(response_message)"
      ]
    },
    {
      "cell_type": "code",
      "execution_count": 4,
      "metadata": {},
      "outputs": [
        {
          "data": {
            "text/plain": [
              "[ChatCompletionMessageToolCall(id='call_36KB10GXsBj3TMH3ORftE0BL', function=Function(arguments='{\"location\":\"Paris, France\"}', name='get_weather'), type='function')]"
            ]
          },
          "execution_count": 4,
          "metadata": {},
          "output_type": "execute_result"
        }
      ],
      "source": [
        "response_message.tool_calls"
      ]
    },
    {
      "cell_type": "code",
      "execution_count": 6,
      "metadata": {},
      "outputs": [
        {
          "name": "stdout",
          "output_type": "stream",
          "text": [
            "Tool Name: get_weather\n",
            "Arguments: \"{\\\"location\\\":\\\"Paris, France\\\"}\"\n"
          ]
        }
      ],
      "source": [
        "# display the function call using for loop\n",
        "for tool_call in response_message.tool_calls:\n",
        "    print(f\"Tool Name: {tool_call.function.name}\")\n",
        "    print(f\"Arguments: {json.dumps(tool_call.function.arguments, indent=2)}\")\n"
      ]
    },
    {
      "cell_type": "markdown",
      "metadata": {},
      "source": [
        "# Apply to the `get_weather` function to simulate a weather API call.\n"
      ]
    },
    {
      "cell_type": "code",
      "execution_count": 7,
      "metadata": {},
      "outputs": [
        {
          "name": "stdout",
          "output_type": "stream",
          "text": [
            "The current temperature in Paris, France is 72°F.\n"
          ]
        }
      ],
      "source": [
        "tool_calls = response_message.tool_calls\n",
        "\n",
        "# Handle tool calls\n",
        "if tool_calls:\n",
        "    messages.append(response_message)  # Append assistant's message\n",
        "    for tool_call in tool_calls:\n",
        "        function_name = tool_call.function.name\n",
        "        function_args = json.loads(tool_call.function.arguments)\n",
        "        \n",
        "        if function_name == \"get_weather\":\n",
        "            location = function_args[\"location\"]\n",
        "            function_response = get_weather(location)\n",
        "        \n",
        "        messages.append({\n",
        "            \"role\": \"tool\",\n",
        "            \"tool_call_id\": tool_call.id,\n",
        "            \"name\": function_name,\n",
        "            \"content\": function_response\n",
        "        })\n",
        "    \n",
        "    # Second API call for final response\n",
        "    second_response = client.chat.completions.create(\n",
        "        model=\"gpt-4o\",\n",
        "        messages=messages\n",
        "    )\n",
        "    print(second_response.choices[0].message.content)"
      ]
    },
    {
      "cell_type": "markdown",
      "metadata": {},
      "source": [
        "# Evalution with questions"
      ]
    },
    {
      "cell_type": "code",
      "execution_count": 8,
      "metadata": {},
      "outputs": [],
      "source": [
        "import openai\n",
        "import json\n",
        "\n",
        "# Define the mock function\n",
        "def get_weather(location):\n",
        "    # Mock response; in real scenario, call an API\n",
        "    return f\"The current temperature in {location} is 72°F.\"\n",
        "\n",
        "# Define the tool\n",
        "tools = [\n",
        "    {\n",
        "        \"type\": \"function\",\n",
        "        \"function\": {\n",
        "            \"name\": \"get_weather\",\n",
        "            \"description\": \"Get current temperature for a given location.\",\n",
        "            \"parameters\": {\n",
        "                \"type\": \"object\",\n",
        "                \"properties\": {\n",
        "                    \"location\": {\n",
        "                        \"type\": \"string\",\n",
        "                        \"description\": \"City and country e.g. Bogotá, Colombia\"\n",
        "                    }\n",
        "                },\n",
        "                \"required\": [\"location\"]\n",
        "            }\n",
        "        }\n",
        "    }\n",
        "]\n",
        "\n",
        "\n",
        "\n",
        "client = OpenAI(api_key=os.getenv(\"OPENAI_API_KEY\"))\n",
        "model_name = \"gpt-4.1\"    \n"
      ]
    },
    {
      "cell_type": "code",
      "execution_count": 9,
      "metadata": {},
      "outputs": [
        {
          "data": {
            "text/plain": [
              "['ตอนนี้ที่โตเกียว ประเทศญี่ปุ่น อุณหภูมิเท่าไหร่?',\n",
              " 'ช่วยบอกสภาพอากาศที่ไนโรบี ประเทศเคนยาให้หน่อย',\n",
              " 'วันนี้กรุงเทพฯ อากาศร้อนแค่ไหน?',\n",
              " 'ผมจะไปเที่ยวเบอร์ลิน ประเทศเยอรมนี อากาศเป็นยังไงบ้าง?',\n",
              " 'ตอนนี้ที่ซิดนีย์ ประเทศออสเตรเลีย อากาศเป็นอย่างไร?',\n",
              " 'ใครเป็นประธานาธิบดีของฝรั่งเศสคนปัจจุบัน?',\n",
              " 'อธิบายกระบวนการสังเคราะห์แสงให้หน่อย',\n",
              " 'เมืองหลวงของประเทศแคนาดาคือเมืองอะไร?',\n",
              " 'ช่วยสรุปเนื้อเรื่องของโรมิโอและจูเลียตหน่อย',\n",
              " 'ข้าวผัดทำอย่างไร?']"
            ]
          },
          "execution_count": 9,
          "metadata": {},
          "output_type": "execute_result"
        }
      ],
      "source": [
        "# List of questions\n",
        "questions = [\n",
        "    # คำถามที่เรียกใช้ฟังก์ชัน get_weather\n",
        "    \"ตอนนี้ที่โตเกียว ประเทศญี่ปุ่น อุณหภูมิเท่าไหร่?\",\n",
        "    \"ช่วยบอกสภาพอากาศที่ไนโรบี ประเทศเคนยาให้หน่อย\",\n",
        "    \"วันนี้กรุงเทพฯ อากาศร้อนแค่ไหน?\",\n",
        "    \"ผมจะไปเที่ยวเบอร์ลิน ประเทศเยอรมนี อากาศเป็นยังไงบ้าง?\",\n",
        "    \"ตอนนี้ที่ซิดนีย์ ประเทศออสเตรเลีย อากาศเป็นอย่างไร?\",\n",
        "    \n",
        "    # คำถามทั่วไป\n",
        "    \"ใครเป็นประธานาธิบดีของฝรั่งเศสคนปัจจุบัน?\",\n",
        "    \"อธิบายกระบวนการสังเคราะห์แสงให้หน่อย\",\n",
        "    \"เมืองหลวงของประเทศแคนาดาคือเมืองอะไร?\",\n",
        "    \"ช่วยสรุปเนื้อเรื่องของโรมิโอและจูเลียตหน่อย\",\n",
        "    \"ข้าวผัดทำอย่างไร?\"\n",
        "]\n",
        "\n",
        "questions"
      ]
    },
    {
      "cell_type": "code",
      "execution_count": 10,
      "metadata": {},
      "outputs": [
        {
          "name": "stdout",
          "output_type": "stream",
          "text": [
            "\n",
            "Testing question: ตอนนี้ที่โตเกียว ประเทศญี่ปุ่น อุณหภูมิเท่าไหร่?\n",
            "Initial response message:\n",
            "ChatCompletionMessage(content=None, refusal=None, role='assistant', annotations=[], audio=None, function_call=None, tool_calls=[ChatCompletionMessageToolCall(id='call_s0JPQjUdz4VOw8zJBv8HSqfu', function=Function(arguments='{\"location\":\"โตเกียว, ประเทศญี่ปุ่น\"}', name='get_weather'), type='function')])\n",
            "Tool call detected. Executing the tool...\n",
            "Final response after tool execution:\n",
            "ตอนนี้ที่โตเกียว ประเทศญี่ปุ่น อุณหภูมิอยู่ที่ 72°F ครับ/ค่ะ\n",
            "\n",
            "Testing question: ช่วยบอกสภาพอากาศที่ไนโรบี ประเทศเคนยาให้หน่อย\n",
            "Initial response message:\n",
            "ChatCompletionMessage(content=None, refusal=None, role='assistant', annotations=[], audio=None, function_call=None, tool_calls=[ChatCompletionMessageToolCall(id='call_GEqgJP0jdubvHqrEOpNcydGM', function=Function(arguments='{\"location\":\"Nairobi, Kenya\"}', name='get_weather'), type='function')])\n",
            "Tool call detected. Executing the tool...\n",
            "Final response after tool execution:\n",
            "ขณะนี้อุณหภูมิในไนโรบี ประเทศเคนยาอยู่ที่ 72°F ค่ะ\n",
            "\n",
            "Testing question: วันนี้กรุงเทพฯ อากาศร้อนแค่ไหน?\n",
            "Initial response message:\n",
            "ChatCompletionMessage(content=None, refusal=None, role='assistant', annotations=[], audio=None, function_call=None, tool_calls=[ChatCompletionMessageToolCall(id='call_OGnQtBl8OKXvMCUfTo2WEBOa', function=Function(arguments='{\"location\":\"Bangkok, Thailand\"}', name='get_weather'), type='function')])\n",
            "Tool call detected. Executing the tool...\n",
            "Final response after tool execution:\n",
            "วันนี้กรุงเทพฯ อากาศอยู่ที่ประมาณ 72°F ค่ะ\n",
            "\n",
            "Testing question: ผมจะไปเที่ยวเบอร์ลิน ประเทศเยอรมนี อากาศเป็นยังไงบ้าง?\n",
            "Initial response message:\n",
            "ChatCompletionMessage(content=None, refusal=None, role='assistant', annotations=[], audio=None, function_call=None, tool_calls=[ChatCompletionMessageToolCall(id='call_fmsHBo5ZTdEF7cum04pa3fdS', function=Function(arguments='{\"location\":\"Berlin, Germany\"}', name='get_weather'), type='function')])\n",
            "Tool call detected. Executing the tool...\n",
            "Final response after tool execution:\n",
            "ตอนนี้อุณหภูมิในเบอร์ลิน ประเทศเยอรมนี อยู่ที่ 72°F ค่ะ ถ้าจะแพ็คกระเป๋าไปเที่ยว อย่าลืมเตรียมเสื้อผ้าที่เหมาะสำหรับอากาศนี้ด้วยนะคะ! \n",
            "\n",
            "Testing question: ตอนนี้ที่ซิดนีย์ ประเทศออสเตรเลีย อากาศเป็นอย่างไร?\n",
            "Initial response message:\n",
            "ChatCompletionMessage(content=None, refusal=None, role='assistant', annotations=[], audio=None, function_call=None, tool_calls=[ChatCompletionMessageToolCall(id='call_VDeHBpxNhcSnzVVHXOzHMEy1', function=Function(arguments='{\"location\":\"Sydney, Australia\"}', name='get_weather'), type='function')])\n",
            "Tool call detected. Executing the tool...\n",
            "Final response after tool execution:\n",
            "ตอนนี้ที่ซิดนีย์ ประเทศออสเตรเลีย อุณหภูมิอยู่ที่ 72 องศาฟาเรนไฮต์ค่ะ\n",
            "\n",
            "Testing question: ใครเป็นประธานาธิบดีของฝรั่งเศสคนปัจจุบัน?\n",
            "Initial response message:\n",
            "ChatCompletionMessage(content='ประธานาธิบดีของฝรั่งเศสคนปัจจุบัน (ข้อมูลถึงตุลาคม 2023) คือ เอ็มมานูเอล มาครง (Emmanuel Macron)', refusal=None, role='assistant', annotations=[], audio=None, function_call=None, tool_calls=None)\n",
            "No tool call. Direct response:\n",
            "ประธานาธิบดีของฝรั่งเศสคนปัจจุบัน (ข้อมูลถึงตุลาคม 2023) คือ เอ็มมานูเอล มาครง (Emmanuel Macron)\n",
            "\n",
            "Testing question: อธิบายกระบวนการสังเคราะห์แสงให้หน่อย\n",
            "Initial response message:\n",
            "ChatCompletionMessage(content='กระบวนการสังเคราะห์แสง (Photosynthesis) เป็นกระบวนการที่พืช สาหร่าย และแบคทีเรียบางชนิดใช้ในการเปลี่ยนพลังงานแสงเป็นพลังงานเคมี ด้วยการผลิตน้ำตาลกลูโคสจากคาร์บอนไดออกไซด์และน้ำ โดยมีออกซิเจนเป็นผลพลอยได้ กระบวนการนี้เกิดขึ้นในคลอโรพลาสต์ซึ่งเป็นองคืประกอบในเซลล์พืช\\n\\nกระบวนการสังเคราะห์แสงสามารถแบ่งออกเป็นสองขั้นตอนหลัก ๆ:\\n\\n1. **ปฏิกิริยาที่ต้องใช้แสง (Light-dependent reactions):**\\n    - เกิดขึ้นในเยื่อหุ้มไทลาคอยด์ภายในคลอโรพลาสต์\\n    - เมื่อแสงถูกดูดซับโดยคลอโรฟิลล์ จะกระตุ้นให้อิเล็กตรอนในโมเลกุลคลอโรฟิลล์มีพลังงานสูง ซึ่งจะถูกส่งผ่านชุดของโปรตีนที่ฝังอยู่ในเยื่อหุ้มไทลาคอยด์หรือที่เรียกว่าโซ่ส่งผ่านอิเล็กตรอน\\n    - กระบวนการนี้ทำให้เกิดการแยกน้ำ (H₂O) ออกเป็นออกซิเจน (O₂) และสร้าง ATP (adenosine triphosphate) และ NADPH ซึ่งเป็นสารพลังงานสูงที่ใช้ในขั้นตอนต่อไป\\n\\n2. **ปฏิกิริยาที่ไม่ต้องใช้แสง (Light-independent reactions) หรือ วัฎจักรคาลวิน (Calvin Cycle):**\\n    - เกิดขึ้นในสโตรม่าของคลอโรพลาสต์\\n    - ใช้ ATP และ NADPH ที่สร้างจากปฏิกิริยาที่ต้องใช้แสง ในการเปลี่ยนคาร์บอนไดออกไซด์ (CO₂) ที่ถูกดูดซับมาจากอากาศให้เป็นกลูโคส (C₆H₁₂O₆)\\n    - วัฎจักรคาลวินประกอบด้วยขั้นตอนหลัก ๆ: การฟิกซ์คาร์บอน การลดคาร์บอน และการฟื้นฟูสารตั้งต้นเพื่อนำกลับมาใช้ใหม่ในวัฎจักร\\n\\nผลลัพธ์สุดท้ายของกระบวนการสังเคราะห์แสงคือการผลิตกลูโคสที่พืชใช้เป็นแหล่งพลังงานและเป็นส่วนหนึ่งของโครงสร้างทางชีวภาพ และปล่อยออกซิเจนซึ่งสิ่งมีชีวิตต่าง ๆ รวมถึงมนุษย์ใช้ในการหายใจ', refusal=None, role='assistant', annotations=[], audio=None, function_call=None, tool_calls=None)\n",
            "No tool call. Direct response:\n",
            "กระบวนการสังเคราะห์แสง (Photosynthesis) เป็นกระบวนการที่พืช สาหร่าย และแบคทีเรียบางชนิดใช้ในการเปลี่ยนพลังงานแสงเป็นพลังงานเคมี ด้วยการผลิตน้ำตาลกลูโคสจากคาร์บอนไดออกไซด์และน้ำ โดยมีออกซิเจนเป็นผลพลอยได้ กระบวนการนี้เกิดขึ้นในคลอโรพลาสต์ซึ่งเป็นองคืประกอบในเซลล์พืช\n",
            "\n",
            "กระบวนการสังเคราะห์แสงสามารถแบ่งออกเป็นสองขั้นตอนหลัก ๆ:\n",
            "\n",
            "1. **ปฏิกิริยาที่ต้องใช้แสง (Light-dependent reactions):**\n",
            "    - เกิดขึ้นในเยื่อหุ้มไทลาคอยด์ภายในคลอโรพลาสต์\n",
            "    - เมื่อแสงถูกดูดซับโดยคลอโรฟิลล์ จะกระตุ้นให้อิเล็กตรอนในโมเลกุลคลอโรฟิลล์มีพลังงานสูง ซึ่งจะถูกส่งผ่านชุดของโปรตีนที่ฝังอยู่ในเยื่อหุ้มไทลาคอยด์หรือที่เรียกว่าโซ่ส่งผ่านอิเล็กตรอน\n",
            "    - กระบวนการนี้ทำให้เกิดการแยกน้ำ (H₂O) ออกเป็นออกซิเจน (O₂) และสร้าง ATP (adenosine triphosphate) และ NADPH ซึ่งเป็นสารพลังงานสูงที่ใช้ในขั้นตอนต่อไป\n",
            "\n",
            "2. **ปฏิกิริยาที่ไม่ต้องใช้แสง (Light-independent reactions) หรือ วัฎจักรคาลวิน (Calvin Cycle):**\n",
            "    - เกิดขึ้นในสโตรม่าของคลอโรพลาสต์\n",
            "    - ใช้ ATP และ NADPH ที่สร้างจากปฏิกิริยาที่ต้องใช้แสง ในการเปลี่ยนคาร์บอนไดออกไซด์ (CO₂) ที่ถูกดูดซับมาจากอากาศให้เป็นกลูโคส (C₆H₁₂O₆)\n",
            "    - วัฎจักรคาลวินประกอบด้วยขั้นตอนหลัก ๆ: การฟิกซ์คาร์บอน การลดคาร์บอน และการฟื้นฟูสารตั้งต้นเพื่อนำกลับมาใช้ใหม่ในวัฎจักร\n",
            "\n",
            "ผลลัพธ์สุดท้ายของกระบวนการสังเคราะห์แสงคือการผลิตกลูโคสที่พืชใช้เป็นแหล่งพลังงานและเป็นส่วนหนึ่งของโครงสร้างทางชีวภาพ และปล่อยออกซิเจนซึ่งสิ่งมีชีวิตต่าง ๆ รวมถึงมนุษย์ใช้ในการหายใจ\n",
            "\n",
            "Testing question: เมืองหลวงของประเทศแคนาดาคือเมืองอะไร?\n",
            "Initial response message:\n",
            "ChatCompletionMessage(content='เมืองหลวงของประเทศแคนาดาคือเมืองออตตาวา (Ottawa) ค่ะ', refusal=None, role='assistant', annotations=[], audio=None, function_call=None, tool_calls=None)\n",
            "No tool call. Direct response:\n",
            "เมืองหลวงของประเทศแคนาดาคือเมืองออตตาวา (Ottawa) ค่ะ\n",
            "\n",
            "Testing question: ช่วยสรุปเนื้อเรื่องของโรมิโอและจูเลียตหน่อย\n",
            "Initial response message:\n",
            "ChatCompletionMessage(content='\"โรมิโอและจูเลียต\" เป็นละครโศกนาฏกรรมของวิลเลียม เชคสเปียร์ ที่บอกเล่าเรื่องราวของคู่รักหนุ่มสาวสองคน คือ โรมิโอ มอนตะคิว และจูเลียต แคปุเลต ที่มาจากตระกูลที่เป็นศัตรูกันในเมืองเวโรนา ประเทศอิตาลี\\n\\nเรื่องราวเริ่มต้นเมื่อโรมิโอได้ลอบเข้าไปในงานเลี้ยงของตระกูลแคปุเลต และตกหลุมรักกับจูเลียตทันที ทั้งสองตัดสินใจที่จะแต่งงานกันอย่างลับๆในวันถัดมาโดยได้รับความช่วยเหลือจากบาทหลวงลอว์เรนซ์ และพยาบาลส่วนตัวของจูเลียต อย่างไรก็ตาม ความขัดแย้งระหว่างตระกูลมอนตะคิวและแคปุเลตทำให้เกิดการปะทะกัน โรมิโอถูกบังคับให้ต้องลงมือทำร้ายคนของตระกูลแคปุเลตและถูกขับออกจากเมือง\\n\\nในระหว่างที่ทั้งสองพยายามแผนการเพื่อได้อยู่ด้วยกันจูเลียตได้รับยาที่จะทำให้เธอดูเหมือนตายไปแล้วเพื่อหลบหนีไปกับโรมิโอ แต่แผนการกลับผิดพลาด โรมิโอเข้าใจผิดคิดว่าจูเลียตได้เสียชีวิตจริง จึงตัดสินใจจบชีวิตของตนเองตาม เมื่อจูเลียตตื่นขึ้นมาและพบว่าโรมิโอได้ตายไปแล้ว เธอก็ได้เลือกที่จะจบชีวิตตัวเองเช่นกัน\\n\\nการสูญเสียของโรมิโอและจูเลียตในที่สุดก็ทำให้ทั้งสองตระกูลได้เข้าใจกันและยุติความขัดแย้งที่ยาวนาน แต่ทว่าความรักและโศกนาฏกรรมของทั้งสองได้กลายเป็นเรื่องราวที่ถูกเล่าขานและนำมาเป็นบทเรียนเกี่ยวกับความรักและความขัดแย้งจากอคติที่ไม่มีวันสิ้นสุด', refusal=None, role='assistant', annotations=[], audio=None, function_call=None, tool_calls=None)\n",
            "No tool call. Direct response:\n",
            "\"โรมิโอและจูเลียต\" เป็นละครโศกนาฏกรรมของวิลเลียม เชคสเปียร์ ที่บอกเล่าเรื่องราวของคู่รักหนุ่มสาวสองคน คือ โรมิโอ มอนตะคิว และจูเลียต แคปุเลต ที่มาจากตระกูลที่เป็นศัตรูกันในเมืองเวโรนา ประเทศอิตาลี\n",
            "\n",
            "เรื่องราวเริ่มต้นเมื่อโรมิโอได้ลอบเข้าไปในงานเลี้ยงของตระกูลแคปุเลต และตกหลุมรักกับจูเลียตทันที ทั้งสองตัดสินใจที่จะแต่งงานกันอย่างลับๆในวันถัดมาโดยได้รับความช่วยเหลือจากบาทหลวงลอว์เรนซ์ และพยาบาลส่วนตัวของจูเลียต อย่างไรก็ตาม ความขัดแย้งระหว่างตระกูลมอนตะคิวและแคปุเลตทำให้เกิดการปะทะกัน โรมิโอถูกบังคับให้ต้องลงมือทำร้ายคนของตระกูลแคปุเลตและถูกขับออกจากเมือง\n",
            "\n",
            "ในระหว่างที่ทั้งสองพยายามแผนการเพื่อได้อยู่ด้วยกันจูเลียตได้รับยาที่จะทำให้เธอดูเหมือนตายไปแล้วเพื่อหลบหนีไปกับโรมิโอ แต่แผนการกลับผิดพลาด โรมิโอเข้าใจผิดคิดว่าจูเลียตได้เสียชีวิตจริง จึงตัดสินใจจบชีวิตของตนเองตาม เมื่อจูเลียตตื่นขึ้นมาและพบว่าโรมิโอได้ตายไปแล้ว เธอก็ได้เลือกที่จะจบชีวิตตัวเองเช่นกัน\n",
            "\n",
            "การสูญเสียของโรมิโอและจูเลียตในที่สุดก็ทำให้ทั้งสองตระกูลได้เข้าใจกันและยุติความขัดแย้งที่ยาวนาน แต่ทว่าความรักและโศกนาฏกรรมของทั้งสองได้กลายเป็นเรื่องราวที่ถูกเล่าขานและนำมาเป็นบทเรียนเกี่ยวกับความรักและความขัดแย้งจากอคติที่ไม่มีวันสิ้นสุด\n",
            "\n",
            "Testing question: ข้าวผัดทำอย่างไร?\n",
            "Initial response message:\n",
            "ChatCompletionMessage(content='ข้าวผัดเป็นอาหารที่ทำได้ง่ายและใช้เวลาไม่นาน มาดูวิธีการทำข้าวผัดกันค่ะ:\\n\\n### วัตถุดิบ:\\n1. ข้าวสวย 2 ถ้วย (ควรใช้ข้าวเย็นจะดีที่สุด)\\n2. น้ำมันพืช 2 ช้อนโต๊ะ\\n3. กระเทียมสับ 2-3 กลีบ\\n4. ไข่ไก่ 2 ฟอง\\n5. ผักตามชอบ (เช่น แครอทหั่นเต๋า, ถั่วลันเตา, ข้าวโพดหวาน)\\n6. ซอสถั่วเหลือง 2-3 ช้อนโต๊ะ\\n7. น้ำปลา 1 ช้อนโต๊ะ (ถ้าต้องการ)\\n8. น้ำตาลทราย 1 ช้อนชา\\n9. ต้นหอมซอยสำหรับโรยหน้า\\n10. มะนาวหันเสี้ยวสำหรับเสิร์ฟเคียง (ถ้าต้องการ)\\n11. เนื้อสัตว์ต่างๆ เช่น กุ้ง ไก่ หรือหมู (ถ้าต้องการ)\\n\\n### วิธีทำ:\\n1. ตั้งกระทะบนไฟกลาง ใส่น้ำมันพืชลงในกระทะ รอให้น้ำมันร้อน\\n2. ใส่กระเทียมสับลงไป ผัดจนกระเทียมหอม\\n3. ใส่เนื้อสัตว์ที่ต้องการลงไปผัดจนสุก\\n4. เขี่ยส่วนผสมในกระทะไปข้างหนึ่ง ตอกไข่ลงไปในกระทะ ใช้ตะหลิวยีไข่ให้แตกและผัดจนสุก\\n5. ใส่ผักที่เตรียมไว้ลงไป ผัดจนผักนิ่ม\\n6. ใส่ข้าวสวยลงไปผัดกับส่วนผสมทั้งหมด\\n7. ปรุงรสด้วยซอสถั่วเหลือง น้ำปลา และน้ำตาล ผัดจนส่วนผสมเข้ากันดี\\n8. ตักข้าวผัดใส่จาน โรยหน้าด้วยต้นหอมซอย เสิร์ฟพร้อมมะนาวหั่นเสี้ยว\\n\\nแค่นี้ก็จะได้ข้าวผัดอร่อยๆ พร้อมเสิร์ฟแล้วค่ะ!', refusal=None, role='assistant', annotations=[], audio=None, function_call=None, tool_calls=None)\n",
            "No tool call. Direct response:\n",
            "ข้าวผัดเป็นอาหารที่ทำได้ง่ายและใช้เวลาไม่นาน มาดูวิธีการทำข้าวผัดกันค่ะ:\n",
            "\n",
            "### วัตถุดิบ:\n",
            "1. ข้าวสวย 2 ถ้วย (ควรใช้ข้าวเย็นจะดีที่สุด)\n",
            "2. น้ำมันพืช 2 ช้อนโต๊ะ\n",
            "3. กระเทียมสับ 2-3 กลีบ\n",
            "4. ไข่ไก่ 2 ฟอง\n",
            "5. ผักตามชอบ (เช่น แครอทหั่นเต๋า, ถั่วลันเตา, ข้าวโพดหวาน)\n",
            "6. ซอสถั่วเหลือง 2-3 ช้อนโต๊ะ\n",
            "7. น้ำปลา 1 ช้อนโต๊ะ (ถ้าต้องการ)\n",
            "8. น้ำตาลทราย 1 ช้อนชา\n",
            "9. ต้นหอมซอยสำหรับโรยหน้า\n",
            "10. มะนาวหันเสี้ยวสำหรับเสิร์ฟเคียง (ถ้าต้องการ)\n",
            "11. เนื้อสัตว์ต่างๆ เช่น กุ้ง ไก่ หรือหมู (ถ้าต้องการ)\n",
            "\n",
            "### วิธีทำ:\n",
            "1. ตั้งกระทะบนไฟกลาง ใส่น้ำมันพืชลงในกระทะ รอให้น้ำมันร้อน\n",
            "2. ใส่กระเทียมสับลงไป ผัดจนกระเทียมหอม\n",
            "3. ใส่เนื้อสัตว์ที่ต้องการลงไปผัดจนสุก\n",
            "4. เขี่ยส่วนผสมในกระทะไปข้างหนึ่ง ตอกไข่ลงไปในกระทะ ใช้ตะหลิวยีไข่ให้แตกและผัดจนสุก\n",
            "5. ใส่ผักที่เตรียมไว้ลงไป ผัดจนผักนิ่ม\n",
            "6. ใส่ข้าวสวยลงไปผัดกับส่วนผสมทั้งหมด\n",
            "7. ปรุงรสด้วยซอสถั่วเหลือง น้ำปลา และน้ำตาล ผัดจนส่วนผสมเข้ากันดี\n",
            "8. ตักข้าวผัดใส่จาน โรยหน้าด้วยต้นหอมซอย เสิร์ฟพร้อมมะนาวหั่นเสี้ยว\n",
            "\n",
            "แค่นี้ก็จะได้ข้าวผัดอร่อยๆ พร้อมเสิร์ฟแล้วค่ะ!\n"
          ]
        }
      ],
      "source": [
        "\n",
        "\n",
        "\n",
        "# Loop through each question to test the code\n",
        "for question in questions:\n",
        "    print(f\"\\nTesting question: {question}\")\n",
        "    \n",
        "    # User query\n",
        "    messages = [{\"role\": \"user\", \"content\": question}]\n",
        "    \n",
        "    # First API call to check if tool is needed\n",
        "    response = client.chat.completions.create(\n",
        "        model=\"gpt-4o\",\n",
        "        messages=messages,\n",
        "        tools=tools,\n",
        "        tool_choice=\"auto\"\n",
        "    )\n",
        "    \n",
        "    # Get model's response\n",
        "    response_message = response.choices[0].message\n",
        "    print(\"Initial response message:\")\n",
        "    print(response_message)\n",
        "    \n",
        "    # Check if tool call is triggered\n",
        "    if response_message.tool_calls:\n",
        "        print(\"Tool call detected. Executing the tool...\")\n",
        "        \n",
        "        # Assuming single tool call for simplicity\n",
        "        tool_call = response_message.tool_calls[0]\n",
        "        function_name = tool_call.function.name\n",
        "        function_args = json.loads(tool_call.function.arguments)\n",
        "        \n",
        "        if function_name == \"get_weather\":\n",
        "            # Call the mock function\n",
        "            function_response = get_weather(function_args[\"location\"])\n",
        "            \n",
        "            # Append the tool response to messages\n",
        "            messages.append(response_message)  # Append the assistant's message with tool call\n",
        "            messages.append({\n",
        "                \"role\": \"tool\",\n",
        "                \"content\": function_response,\n",
        "                \"tool_call_id\": tool_call.id\n",
        "            })\n",
        "            \n",
        "            # Second API call to get the final response\n",
        "            second_response = client.chat.completions.create(\n",
        "                model=\"gpt-4o\",\n",
        "                messages=messages,\n",
        "                tools=tools,\n",
        "                tool_choice=\"auto\"\n",
        "            )\n",
        "            \n",
        "            final_message = second_response.choices[0].message\n",
        "            print(\"Final response after tool execution:\")\n",
        "            print(final_message.content)\n",
        "        else:\n",
        "            print(\"Unknown tool called.\")\n",
        "    else:\n",
        "        # No tool call, direct response\n",
        "        print(\"No tool call. Direct response:\")\n",
        "        print(response_message.content)\n"
      ]
    },
    {
      "cell_type": "markdown",
      "metadata": {},
      "source": [
        "## Practice Questions\n",
        "\n",
        "For each of the following 10 questions, define the appropriate tool(s), mock function(s), and implement the full function calling flow. Test with the given user query.\n",
        "\n",
        "### Question 1: Currency Conversion\n",
        "Create a tool to convert an amount from one currency to another (e.g., USD to EUR). Mock the conversion rate. Query: \"Convert 100 USD to EUR.\""
      ]
    },
    {
      "cell_type": "code",
      "execution_count": 11,
      "metadata": {},
      "outputs": [],
      "source": [
        "# Your code here"
      ]
    },
    {
      "cell_type": "markdown",
      "metadata": {},
      "source": [
        "### Question 2: Current Time in Timezone\n",
        "Create a tool to get the current time in a specific timezone. Use Python's datetime for mock. Query: \"What time is it in Tokyo?\""
      ]
    },
    {
      "cell_type": "code",
      "execution_count": 12,
      "metadata": {},
      "outputs": [],
      "source": [
        "# Your code here"
      ]
    },
    {
      "cell_type": "markdown",
      "metadata": {},
      "source": [
        "### Question 3: Stock Price Lookup\n",
        "Create a tool to get the current stock price for a company. Mock the price. Query: \"What's the stock price of Apple?\""
      ]
    },
    {
      "cell_type": "code",
      "execution_count": 13,
      "metadata": {},
      "outputs": [],
      "source": [
        "# Your code here"
      ]
    },
    {
      "cell_type": "markdown",
      "metadata": {},
      "source": [
        "### Question 4: Math Calculation\n",
        "Create a tool to evaluate a math expression. Use eval() for mock (be careful). Query: \"What is 15 * 12?\""
      ]
    },
    {
      "cell_type": "code",
      "execution_count": 14,
      "metadata": {},
      "outputs": [],
      "source": [
        "# Your code here"
      ]
    },
    {
      "cell_type": "markdown",
      "metadata": {},
      "source": [
        "### Question 5: Get a Random Joke\n",
        "Create a tool to fetch a random joke. Mock with a list of jokes. Query: \"Tell me a joke.\""
      ]
    },
    {
      "cell_type": "code",
      "execution_count": 15,
      "metadata": {},
      "outputs": [],
      "source": [
        "# Your code here"
      ]
    },
    {
      "cell_type": "markdown",
      "metadata": {},
      "source": [
        "### Question 6: Text Translation\n",
        "Create a tool to translate text from English to Spanish. Mock with simple dictionary or fixed response. Query: \"Translate 'Hello, how are you?' to Spanish.\""
      ]
    },
    {
      "cell_type": "code",
      "execution_count": 16,
      "metadata": {},
      "outputs": [],
      "source": [
        "# Your code here"
      ]
    },
    {
      "cell_type": "markdown",
      "metadata": {},
      "source": [
        "### Question 7: Capital of a Country\n",
        "Create a tool to get the capital city of a country. Mock with a dictionary. Query: \"What is the capital of Japan?\""
      ]
    },
    {
      "cell_type": "code",
      "execution_count": 17,
      "metadata": {},
      "outputs": [],
      "source": [
        "# Your code here"
      ]
    },
    {
      "cell_type": "markdown",
      "metadata": {},
      "source": [
        "### Question 8: Add Two Numbers\n",
        "Create a tool to add two numbers. Query: \"Add 45 and 67.\""
      ]
    },
    {
      "cell_type": "code",
      "execution_count": 18,
      "metadata": {},
      "outputs": [],
      "source": [
        "# Your code here"
      ]
    },
    {
      "cell_type": "markdown",
      "metadata": {},
      "source": [
        "### Question 9: Latest News Headline\n",
        "Create a tool to get the latest news on a topic. Mock response. Query: \"What's the latest news on AI?\""
      ]
    },
    {
      "cell_type": "code",
      "execution_count": 19,
      "metadata": {},
      "outputs": [],
      "source": [
        "# Your code here"
      ]
    },
    {
      "cell_type": "markdown",
      "metadata": {},
      "source": [
        "### Question 10: Get User Email\n",
        "Create a tool to retrieve a user's email by username. Mock with dictionary. Query: \"What's the email for user john_doe?\""
      ]
    },
    {
      "cell_type": "code",
      "execution_count": 20,
      "metadata": {},
      "outputs": [],
      "source": [
        "# Your code here"
      ]
    }
  ],
  "metadata": {
    "kernelspec": {
      "display_name": "torch",
      "language": "python",
      "name": "python3"
    },
    "language_info": {
      "codemirror_mode": {
        "name": "ipython",
        "version": 3
      },
      "file_extension": ".py",
      "mimetype": "text/x-python",
      "name": "python",
      "nbconvert_exporter": "python",
      "pygments_lexer": "ipython3",
      "version": "3.12.11"
    }
  },
  "nbformat": 4,
  "nbformat_minor": 4
}
