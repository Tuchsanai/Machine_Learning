{
 "cells": [
  {
   "cell_type": "code",
   "execution_count": 1,
   "id": "7e18f7d3",
   "metadata": {},
   "outputs": [
    {
     "name": "stdout",
     "output_type": "stream",
     "text": [
      "Notebook cleaned.\n"
     ]
    }
   ],
   "source": [
    "import IPython\n",
    "import sys\n",
    "\n",
    "def clean_notebook():\n",
    "    IPython.display.clear_output(wait=True)\n",
    "    print(\"Notebook cleaned.\")\n",
    "\n",
    "!pip install openai\n",
    "!pip install gradio\n",
    "\n",
    "# Clean up the notebook\n",
    "clean_notebook()"
   ]
  },
  {
   "cell_type": "code",
   "execution_count": null,
   "id": "5d156286",
   "metadata": {},
   "outputs": [],
   "source": [
    "%%writefile .env\n",
    "OPENAI_API_KEY=your_api_key_here\n",
    "OPENTYPHOON_API_KEY=api_key_here\n"
   ]
  },
  {
   "cell_type": "code",
   "execution_count": 2,
   "id": "d5453c47",
   "metadata": {},
   "outputs": [
    {
     "data": {
      "text/plain": [
       "True"
      ]
     },
     "execution_count": 2,
     "metadata": {},
     "output_type": "execute_result"
    }
   ],
   "source": [
    "import os\n",
    "from openai import OpenAI\n",
    "from dotenv import load_dotenv\n",
    "\n",
    "# Load environment variables\n",
    "load_dotenv()"
   ]
  },
  {
   "cell_type": "code",
   "execution_count": 8,
   "id": "368d2df1",
   "metadata": {},
   "outputs": [],
   "source": [
    "import os\n",
    "from openai import OpenAI\n",
    "\n",
    "#openai_client = OpenAI(api_key=os.getenv(\"OPENAI_API_KEY\"))\n",
    "#model_name = \"gpt-3.5-turbo\"    \n",
    "\n",
    "openai_client = OpenAI(api_key=os.environ.get(\"OPENTYPHOON_API_KEY\"),base_url=\"https://api.opentyphoon.ai/v1\")\n",
    "model_name = \"typhoon-v1.5x-70b-instruct\"\n"
   ]
  },
  {
   "cell_type": "code",
   "execution_count": 15,
   "id": "6323c2be",
   "metadata": {},
   "outputs": [],
   "source": [
    "def complete(system_prompt, user_prompt):\n",
    "    completion = openai_client.chat.completions.create(\n",
    "        model=model_name,\n",
    "        response_format={\"type\": \"json_object\"},\n",
    "        messages=[\n",
    "            {\"role\": \"system\", \"content\": system_prompt},\n",
    "            {\"role\": \"user\", \"content\": user_prompt},\n",
    "        ]\n",
    "    )\n",
    "    return completion\n",
    "\n",
    "\n",
    "system_prompt = \"You are a helpful assistant designed to output JSON.\"\n",
    "user_prompt = \"Who won the world series in 2020?\""
   ]
  },
  {
   "cell_type": "code",
   "execution_count": 16,
   "id": "38ddecb8",
   "metadata": {},
   "outputs": [
    {
     "name": "stdout",
     "output_type": "stream",
     "text": [
      "{\n",
      "\"year\": \"2020\",\n",
      "\"world_series_winner\": \"Los Angeles Dodgers\"\n",
      "}\n"
     ]
    }
   ],
   "source": [
    "output = complete(system_prompt, user_prompt)\n",
    "\n",
    "print(output.choices[0].message.content)"
   ]
  },
  {
   "cell_type": "code",
   "execution_count": null,
   "id": "6c7888ad",
   "metadata": {},
   "outputs": [],
   "source": []
  },
  {
   "cell_type": "code",
   "execution_count": null,
   "id": "b8dd4ca2",
   "metadata": {
    "id": "S0acXBWCxiJL"
   },
   "outputs": [],
   "source": []
  },
  {
   "cell_type": "code",
   "execution_count": null,
   "id": "98bb6a08",
   "metadata": {
    "id": "oaG3igwFxiQU"
   },
   "outputs": [],
   "source": []
  },
  {
   "cell_type": "code",
   "execution_count": null,
   "id": "425bcfd8",
   "metadata": {
    "id": "PzQJleyoxiWi"
   },
   "outputs": [],
   "source": []
  },
  {
   "cell_type": "markdown",
   "id": "b892175a",
   "metadata": {
    "id": "PFJd4PmsxjKb"
   },
   "source": [
    "![](https://deeplearningcourses.com/notebooks_v3_pxl?sc=AVRK7SgM9ASkQf5TAqs_wA&n=JSON+Mode)"
   ]
  }
 ],
 "metadata": {
  "kernelspec": {
   "display_name": "Python 3 (ipykernel)",
   "language": "python",
   "name": "python3"
  },
  "language_info": {
   "codemirror_mode": {
    "name": "ipython",
    "version": 3
   },
   "file_extension": ".py",
   "mimetype": "text/x-python",
   "name": "python",
   "nbconvert_exporter": "python",
   "pygments_lexer": "ipython3",
   "version": "3.12.3"
  },
  "sc": "AVRK7SgM9ASkQf5TAqs_wA"
 },
 "nbformat": 4,
 "nbformat_minor": 5
}
