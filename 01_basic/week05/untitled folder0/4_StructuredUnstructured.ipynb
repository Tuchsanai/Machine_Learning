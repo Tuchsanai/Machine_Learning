{
  "cells": [
    {
      "cell_type": "code",
      "execution_count": 3,
      "id": "4a519f49",
      "metadata": {},
      "outputs": [
        {
          "name": "stdout",
          "output_type": "stream",
          "text": [
            "Notebook cleaned.\n"
          ]
        }
      ],
      "source": [
        "import IPython\n",
        "import sys\n",
        "\n",
        "def clean_notebook():\n",
        "    IPython.display.clear_output(wait=True)\n",
        "    print(\"Notebook cleaned.\")\n",
        "\n",
        "!pip install openai\n",
        "!pip install gradio\n",
        "\n",
        "# Clean up the notebook\n",
        "clean_notebook()"
      ]
    },
    {
      "cell_type": "code",
      "execution_count": null,
      "id": "467cb433",
      "metadata": {},
      "outputs": [],
      "source": [
        "%%writefile .env\n",
        "OPENAI_API_KEY=your_api_key_here\n",
        "OPENTYPHOON_API_KEY=api_key_here"
      ]
    },
    {
      "cell_type": "code",
      "execution_count": 11,
      "id": "1aad4fd4",
      "metadata": {},
      "outputs": [
        {
          "data": {
            "text/plain": [
              "True"
            ]
          },
          "execution_count": 11,
          "metadata": {},
          "output_type": "execute_result"
        }
      ],
      "source": [
        "import os\n",
        "from openai import OpenAI\n",
        "from dotenv import load_dotenv\n",
        "\n",
        "# Load environment variables\n",
        "load_dotenv()"
      ]
    },
    {
      "cell_type": "code",
      "execution_count": 12,
      "id": "eca0d074",
      "metadata": {},
      "outputs": [],
      "source": [
        "import os\n",
        "from openai import OpenAI\n",
        "\n",
        "#openai_client = OpenAI(api_key=os.getenv(\"OPENAI_API_KEY\"))\n",
        "#model_name = \"gpt-3.5-turbo\"    \n",
        "\n",
        "openai_client = OpenAI(api_key=os.environ.get(\"OPENTYPHOON_API_KEY\"),base_url=\"https://api.opentyphoon.ai/v1\")\n",
        "model_name = \"typhoon-v1.5x-70b-instruct\"\n"
      ]
    },
    {
      "cell_type": "code",
      "execution_count": 13,
      "id": "7a7322db",
      "metadata": {},
      "outputs": [],
      "source": [
        "import openai\n",
        "import IPython\n",
        "\n",
        "# Let's start using FUNCTIONS to simplify our API usage\n",
        "def complete(user_prompt, max_tokens= 300, system_prompt = \"you are helpful assistant\"):\n",
        "    completion = openai_client.chat.completions.create(\n",
        "        model=model_name,\n",
        "        messages=[\n",
        "            {\"role\": \"system\", \"content\": system_prompt},\n",
        "            {\"role\": \"user\", \"content\": user_prompt},\n",
        "        ],\n",
        "        temperature=0,\n",
        "        max_tokens=max_tokens,\n",
        "    )\n",
        "    return completion"
      ]
    },
    {
      "cell_type": "code",
      "execution_count": 4,
      "id": "b4e402e1",
      "metadata": {},
      "outputs": [],
      "source": [
        "system_prompt = \"You are an assistant that writes concise, detailed, \" +\\\n",
        "    \"and factual quarterly earnings reports given structured data.\""
      ]
    },
    {
      "cell_type": "code",
      "execution_count": 7,
      "id": "e93dbcfb",
      "metadata": {},
      "outputs": [],
      "source": [
        "import json\n",
        "\n",
        "j = {'CEO': 'Tim Cook',\n",
        " 'CFO': 'Luca Maestri',\n",
        " 'company': 'Apple',\n",
        " 'dividend_payable_date': 'November 16, 2023',\n",
        " 'dividend_per_share': '$0.24',\n",
        " 'dividend_record_date': 'November 13, 2023',\n",
        " 'earnings_call_date': 'November 2, 2023',\n",
        " 'earnings_call_time': '2:00 p.m. PT',\n",
        " 'earnings_call_webcast': 'apple.com/investor/earnings-call',\n",
        " 'earnings_per_share': '$1.46',\n",
        " 'earnings_per_share_change_year_over_year': '13%',\n",
        " 'fiscal_year': 2023,\n",
        " 'quarter': 'Q4',\n",
        " 'quarterly_revenue': '$89.5 billion',\n",
        " 'revenue_change_year_over_year': '-1%'}"
      ]
    },
    {
      "cell_type": "code",
      "execution_count": 8,
      "id": "7acde9f2",
      "metadata": {},
      "outputs": [
        {
          "data": {
            "text/markdown": [
              "{\"CEO\": \"Tim Cook\", \"CFO\": \"Luca Maestri\", \"company\": \"Apple\", \"dividend_payable_date\": \"November 16, 2023\", \"dividend_per_share\": \"$0.24\", \"dividend_record_date\": \"November 13, 2023\", \"earnings_call_date\": \"November 2, 2023\", \"earnings_call_time\": \"2:00 p.m. PT\", \"earnings_call_webcast\": \"apple.com/investor/earnings-call\", \"earnings_per_share\": \"$1.46\", \"earnings_per_share_change_year_over_year\": \"13%\", \"fiscal_year\": 2023, \"quarter\": \"Q4\", \"quarterly_revenue\": \"$89.5 billion\", \"revenue_change_year_over_year\": \"-1%\"}"
            ],
            "text/plain": [
              "<IPython.core.display.Markdown object>"
            ]
          },
          "execution_count": 8,
          "metadata": {},
          "output_type": "execute_result"
        }
      ],
      "source": [
        "js = json.dumps(j)\n",
        "\n",
        "\n",
        "IPython.display.Markdown(js )"
      ]
    },
    {
      "cell_type": "code",
      "execution_count": 10,
      "id": "7baff82b",
      "metadata": {},
      "outputs": [
        {
          "data": {
            "text/markdown": [
              "**Apple Inc. Quarterly Earnings Report**\n",
              "\n",
              "**Fiscal Year 2023, Q4**\n",
              "\n",
              "Dear Valued Shareholders,\n",
              "\n",
              "We are pleased to present Apple's financial results for the fourth quarter of our fiscal year 2023. Under the leadership of CEO Tim Cook and CFO Luca Maestri, we have achieved solid performance despite challenging market conditions.\n",
              "\n",
              "**Financial Highlights:**\n",
              "\n",
              "* Quarterly revenue: $89.5 billion\n",
              "* Revenue change year-over-year: -1%\n",
              "* Earnings per share: $1.46\n",
              "* Earnings per share change year-over-year: 13%\n",
              "\n",
              "**Dividend Announcement:**\n",
              "\n",
              "Apple's Board of Directors has declared a quarterly cash dividend of $0.24 per share, payable on November 16, 2023, to shareholders of record as of November 13, 2023.\n",
              "\n",
              "**Earnings Call:**\n",
              "\n",
              "An earnings call will be held on November 2, 2023, at 2:00 p.m. PT. Investors and analysts are invited to join the webcast live at [apple.com/investor/earnings-call](http://apple.com/investor/earnings-call).\n",
              "\n",
              "We remain committed to delivering value to our shareholders and look forward to discussing our results in further detail during the upcoming earnings call.\n",
              "\n",
              "Sincerely,\n",
              "\n",
              "Tim Cook, CEO\n",
              "Luca Maestri, CFO\n",
              "Apple Inc."
            ],
            "text/plain": [
              "<IPython.core.display.Markdown object>"
            ]
          },
          "execution_count": 10,
          "metadata": {},
          "output_type": "execute_result"
        }
      ],
      "source": [
        "prompt = f\"\"\"Please convert the following JSON document enclosed in \\\n",
        "triple backticks into a quarterly earnings report suitable for \\\n",
        "shareholders.\\n\\n\\\n",
        "```\n",
        "{js}\n",
        "```\n",
        "\"\"\"\n",
        "\n",
        "\n",
        "completion = complete(user_prompt=prompt, system_prompt=system_prompt)\n",
        "IPython.display.Markdown(completion.choices[0].message.content )"
      ]
    },
    {
      "cell_type": "code",
      "execution_count": null,
      "metadata": {
        "id": "PzQJleyoxiWi"
      },
      "outputs": [],
      "source": []
    },
    {
      "cell_type": "markdown",
      "metadata": {
        "id": "PFJd4PmsxjKb"
      },
      "source": [
        "![](https://deeplearningcourses.com/notebooks_v3_pxl?sc=AVRK7SgM9ASkQf5TAqs_wA&n=Structured+%3E+Unstructured)"
      ]
    }
  ],
  "metadata": {
    "kernelspec": {
      "display_name": "Python 3 (ipykernel)",
      "language": "python",
      "name": "python3"
    },
    "language_info": {
      "codemirror_mode": {
        "name": "ipython",
        "version": 3
      },
      "file_extension": ".py",
      "mimetype": "text/x-python",
      "name": "python",
      "nbconvert_exporter": "python",
      "pygments_lexer": "ipython3",
      "version": "3.10.13"
    },
    "sc": "AVRK7SgM9ASkQf5TAqs_wA"
  },
  "nbformat": 4,
  "nbformat_minor": 5
}
