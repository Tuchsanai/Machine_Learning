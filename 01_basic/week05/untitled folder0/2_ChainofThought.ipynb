{
 "cells": [
  {
   "cell_type": "code",
   "execution_count": 1,
   "id": "a3ac1393",
   "metadata": {},
   "outputs": [
    {
     "name": "stdout",
     "output_type": "stream",
     "text": [
      "Notebook cleaned.\n"
     ]
    }
   ],
   "source": [
    "import IPython\n",
    "import sys\n",
    "\n",
    "def clean_notebook():\n",
    "    IPython.display.clear_output(wait=True)\n",
    "    print(\"Notebook cleaned.\")\n",
    "\n",
    "!pip install openai\n",
    "!pip install gradio\n",
    "\n",
    "# Clean up the notebook\n",
    "clean_notebook()"
   ]
  },
  {
   "cell_type": "code",
   "execution_count": null,
   "id": "2220f0d2",
   "metadata": {},
   "outputs": [],
   "source": [
    "%%writefile .env\n",
    "OPENAI_API_KEY=your_api_key_here\n",
    "OPENTYPHOON_API_KEY=api_key_here"
   ]
  },
  {
   "cell_type": "code",
   "execution_count": 1,
   "id": "597ecbba",
   "metadata": {},
   "outputs": [
    {
     "data": {
      "text/plain": [
       "True"
      ]
     },
     "execution_count": 1,
     "metadata": {},
     "output_type": "execute_result"
    }
   ],
   "source": [
    "import os\n",
    "from openai import OpenAI\n",
    "from dotenv import load_dotenv\n",
    "\n",
    "# Load environment variables\n",
    "load_dotenv()"
   ]
  },
  {
   "cell_type": "code",
   "execution_count": 5,
   "id": "fa704835",
   "metadata": {},
   "outputs": [],
   "source": [
    "import os\n",
    "from openai import OpenAI\n",
    "\n",
    "#openai_client = OpenAI(api_key=os.getenv(\"OPENAI_API_KEY\"))\n",
    "#model_name = \"gpt-3.5-turbo\"    \n",
    "\n",
    "openai_client = OpenAI(api_key=os.environ.get(\"OPENTYPHOON_API_KEY\"),base_url=\"https://api.opentyphoon.ai/v1\")\n",
    "model_name = \"typhoon-v1.5x-70b-instruct\"\n"
   ]
  },
  {
   "cell_type": "code",
   "execution_count": 9,
   "id": "507d39c0",
   "metadata": {},
   "outputs": [],
   "source": [
    "import openai\n",
    "import IPython\n",
    "\n",
    "# Let's start using FUNCTIONS to simplify our API usage\n",
    "def complete(user_prompt, max_tokens= 300, system_prompt = \"you are helpful assistant\"):\n",
    "    completion = openai_client.chat.completions.create(\n",
    "        model=model_name,\n",
    "        messages=[\n",
    "            {\"role\": \"system\", \"content\": system_prompt},\n",
    "            {\"role\": \"user\", \"content\": user_prompt},\n",
    "        ],\n",
    "        temperature=0,\n",
    "        max_tokens=max_tokens,\n",
    "    )\n",
    "    return completion"
   ]
  },
  {
   "cell_type": "code",
   "execution_count": 10,
   "id": "ad7f2bb4",
   "metadata": {},
   "outputs": [],
   "source": [
    "\n",
    "prompt = \"\"\"ฉันไปที่ตลาดและซื้อแอปเปิ้ล 10 ผล \\\n",
    "ฉันให้แอปเปิ้ล 2 ผลกับเพื่อนบ้าน และอีก 2 ผลกับช่างซ่อม \\\n",
    "หลังจากนั้น ฉันซื้อแอปเปิ้ลเพิ่มอีก 5 ผล และกินไป 1 ผล \\\n",
    "ตอนนี้ฉันมีแอปเปิ้ลกี่ผล\"\"\""
   ]
  },
  {
   "cell_type": "code",
   "execution_count": 11,
   "id": "7847e538",
   "metadata": {},
   "outputs": [
    {
     "data": {
      "text/markdown": [
       "เราจะคำนวณจำนวนแอปเปิ้ลที่คุณมีอยู่:\n",
       "\n",
       "1. คุณซื้อแอปเปิ้ล 10 ผล\n",
       "2. คุณให้แอปเปิ้ล 2 ผลกับเพื่อนบ้าน, ดังนั้นคุณมีแอปเปิ้ลเหลือ 10 - 2 = 8 ผล\n",
       "3. คุณให้แอปเปิ้ล 2 ผลกับช่างซ่อม, ดังนั้นคุณมีแอปเปิ้ลเหลือ 8 - 2 = 6 ผล\n",
       "4. คุณซื้อแอปเปิ้ลเพิ่มอีก 5 ผล, ดังนั้นคุณมีแอปเปิ้ลรวม 6 + 5 = 11 ผล\n",
       "5. คุณกินแอปเปิ้ลไป 1 ผล, ดังนั้นคุณมีแอปเปิ้ลเหลือ 11 - 1 = 10 ผล\n",
       "\n",
       "ดังนั้น, ตอนนี้คุณมีแอปเปิ้ล 10 ผล."
      ],
      "text/plain": [
       "<IPython.core.display.Markdown object>"
      ]
     },
     "execution_count": 11,
     "metadata": {},
     "output_type": "execute_result"
    }
   ],
   "source": [
    "completion = complete(prompt)\n",
    "IPython.display.Markdown(completion.choices[0].message.content )"
   ]
  },
  {
   "cell_type": "code",
   "execution_count": 12,
   "id": "c067a209",
   "metadata": {},
   "outputs": [],
   "source": [
    "prompt = \"\"\"นักขว้างลูกบอลคนหนึ่งสามารถขว้างลูกบอลได้ 16 ลูก \\\n",
    "ครึ่งหนึ่งของลูกบอลเป็นลูกกอล์ฟ และครึ่งหนึ่งของลูกกอล์ฟเป็นสีน้ำเงิน \\\n",
    "มีลูกกอล์ฟสีน้ำเงินกี่ลูก\"\"\""
   ]
  },
  {
   "cell_type": "code",
   "execution_count": 13,
   "id": "19aca0fb",
   "metadata": {},
   "outputs": [
    {
     "data": {
      "text/markdown": [
       "เริ่มต้นด้วยการคำนวณจำนวนลูกกอล์ฟทั้งหมด:\n",
       "\n",
       "1. จำนวนลูกบอลทั้งหมด = 16 ลูก\n",
       "2. ครึ่งหนึ่งของลูกบอลเป็นลูกกอล์ฟ, ดังนั้นจำนวนลูกกอล์ฟ = 16 / 2 = 8 ลูก\n",
       "\n",
       "ต่อไป, เราจะคำนวณจำนวนลูกกอล์ฟสีน้ำเงิน:\n",
       "\n",
       "1. ครึ่งหนึ่งของลูกกอล์ฟเป็นสีน้ำเงิน, ดังนั้นจำนวนลูกกอล์ฟสีน้ำเงิน = 8 / 2 = 4 ลูก\n",
       "\n",
       "ดังนั้น, มีลูกกอล์ฟสีน้ำเงิน 4 ลูก."
      ],
      "text/plain": [
       "<IPython.core.display.Markdown object>"
      ]
     },
     "execution_count": 13,
     "metadata": {},
     "output_type": "execute_result"
    }
   ],
   "source": [
    "completion = complete(prompt)\n",
    "IPython.display.Markdown(completion.choices[0].message.content )"
   ]
  },
  {
   "cell_type": "code",
   "execution_count": 14,
   "id": "71dad84c",
   "metadata": {},
   "outputs": [],
   "source": [
    "# from https://arxiv.org/pdf/2201.11903.pdf\n",
    "# in the paper, standard prompt gets wrong answer\n",
    "# while CoT prompt gets right answer\n",
    "# they used GPT-3 / PaLM / a few others\n",
    "# (not instruction fine-tuned)\n",
    "prompt = \"\"\"โรงอาหารมีแอปเปิ้ล 23 ผล ถ้าพวกเขาใช้ 20 ผลในการ \\\n",
    "ทำอาหารกลางวัน และซื้อเพิ่มอีก 6 ผล \\\n",
    "พวกเขาจะมีแอปเปิ้ลกี่ผล\"\"\""
   ]
  },
  {
   "cell_type": "code",
   "execution_count": 15,
   "id": "ac900e19",
   "metadata": {},
   "outputs": [
    {
     "data": {
      "text/markdown": [
       "เรามาคิดดู:\n",
       "\n",
       "1. โรงอาหารมีแอปเปิ้ล 23 ผล\n",
       "2. พวกเขาใช้ 20 ผลในการทำอาหารกลางวัน ดังนั้นพวกเขาจะเหลือ 23 - 20 = 3 ผล\n",
       "3. พวกเขาซื้อเพิ่มอีก 6 ผล ดังนั้นพวกเขาจะมี 3 + 6 = 9 ผล\n",
       "\n",
       "ดังนั้น, โรงอาหารจะมีแอปเปิ้ล 9 ผล."
      ],
      "text/plain": [
       "<IPython.core.display.Markdown object>"
      ]
     },
     "execution_count": 15,
     "metadata": {},
     "output_type": "execute_result"
    }
   ],
   "source": [
    "completion = complete(prompt,200)\n",
    "IPython.display.Markdown(completion.choices[0].message.content )"
   ]
  },
  {
   "cell_type": "code",
   "execution_count": 16,
   "id": "6b1b26eb",
   "metadata": {},
   "outputs": [],
   "source": [
    "prompt = \"\"\"เทรซี่ใช้ลวดยาว 4 ฟุตในการ \\\n",
    "ค้ำยันต้นมะเขือเทศในสวน ลวดถูกตัดเป็น \\\n",
    "ชิ้นๆ ยาวชิ้นละ 6 นิ้ว เธอจะได้ลวดกี่ชิ้น\"\"\""
   ]
  },
  {
   "cell_type": "code",
   "execution_count": 17,
   "id": "8d53c299",
   "metadata": {},
   "outputs": [
    {
     "data": {
      "text/markdown": [
       "เราสามารถคำนวณได้ว่าเทรซี่จะได้ลวดกี่ชิ้นโดยการหารความยาวของลวดทั้งหมด (4 ฟุต) ด้วยความยาวของแต่ละชิ้น (6 นิ้ว)\n",
       "\n",
       "1 ฟุต = 12 นิ้ว\n",
       "ดังนั้น 4 ฟุต = 4 * 12 = 48 นิ้ว\n",
       "\n",
       "จำนวนชิ้นลวด = ความยาวลวดทั้งหมด / ความยาวของแต่ละชิ้น\n",
       "= 48 นิ้ว / 6 นิ้ว\n",
       "= 8 ชิ้น\n",
       "\n",
       "ดังนั้น เทรซี่จะได้ลวด 8 ชิ้น"
      ],
      "text/plain": [
       "<IPython.core.display.Markdown object>"
      ]
     },
     "execution_count": 17,
     "metadata": {},
     "output_type": "execute_result"
    }
   ],
   "source": [
    "completion = complete(prompt,200)\n",
    "IPython.display.Markdown(completion.choices[0].message.content )"
   ]
  },
  {
   "cell_type": "code",
   "execution_count": 18,
   "id": "3bdf2e1e",
   "metadata": {},
   "outputs": [],
   "source": [
    "prompt = \"\"\"เครื่องบินเร่งความเร็วบนรันเวย์ที่ \\\n",
    "3.20 เมตร/วินาที^2 เป็นเวลา 32.8 วินาที จนกระทั่งขึ้นจากพื้น \\\n",
    "จงหาระยะทางที่เครื่องบินเคลื่อนที่ก่อนขึ้นบิน\"\"\""
   ]
  },
  {
   "cell_type": "code",
   "execution_count": 19,
   "id": "a97a22a7",
   "metadata": {},
   "outputs": [
    {
     "data": {
      "text/markdown": [
       "เราสามารถใช้สูตรการเคลื่อนที่แบบไม่สม่ำเสมอ (non-uniform motion) เพื่อหาคำตอบ โดยสูตรคือ:\n",
       "\n",
       "s = v₀t + (1/2)at²\n",
       "\n",
       "ที่ s คือระยะทางที่เคลื่อนที่, v₀ คือความเร็วเริ่มต้น (ซึ่งในกรณีนี้เป็น 0 เพราะเครื่องบินยังไม่ขึ้นบิน), t คือเวลาที่ใช้ในการเคลื่อนที่, และ a คือการเร่งความเร็ว.\n",
       "\n",
       "ในกรณีนี้, เรามีค่า a = 3.20 m/s², t = 32.8 s, และ v₀ = 0 m/s.\n",
       "\n",
       "ดังนั้น, เราสามารถคำนวณได้ว่า:\n",
       "\n",
       "s = 0 * 32.8 + (1/2) * 3.20 * (32.8)²\n",
       "= (1/2) * 3.20 * 1082.4\n",
       "≈ 1735.84 เมตร\n",
       "\n",
       "ดังนั้น, เครื่องบินเคลื่อนที่ไปประมาณ 1736 เมตรก่อนที่จะขึ้นบิน."
      ],
      "text/plain": [
       "<IPython.core.display.Markdown object>"
      ]
     },
     "execution_count": 19,
     "metadata": {},
     "output_type": "execute_result"
    }
   ],
   "source": [
    "completion = complete(prompt)\n",
    "IPython.display.Markdown(completion.choices[0].message.content )"
   ]
  },
  {
   "cell_type": "code",
   "execution_count": 20,
   "id": "11dcc489",
   "metadata": {},
   "outputs": [
    {
     "data": {
      "text/markdown": [
       "สมการนี้เป็นสมการที่มีฐานต่างกัน ดังนั้นเราจะใช้วิธีการแปลงเป็นลอการิทึมเพื่อหาค่า x\n",
       "\n",
       "2^(x - 5) = 3^(x+1)\n",
       "\n",
       "เริ่มจากการแปลงทั้งสองฝั่งของสมการเป็นลอการิทึม:\n",
       "\n",
       "log(2^(x - 5)) = log(3^(x+1))\n",
       "\n",
       "จากกฎของลอการิทึม, เราสามารถเขียนได้ว่า:\n",
       "\n",
       "(x - 5) * log(2) = (x + 1) * log(3)\n",
       "\n",
       "ต่อไปเราจะแยกสมาชิกของสมการ:\n",
       "\n",
       "x * log(2) - 5 * log(2) = x * log(3) + log(3)\n",
       "\n",
       "เรียงสมการให้เหมือนกับ:\n",
       "\n",
       "x * log(2) - x * log(3) = log(3) + 5 * log(2)\n",
       "\n",
       "x * (log(2) - log(3)) = log(3) + 5 * log(2)\n",
       "\n",
       "x = (log(3) + 5 * log(2)) / (log(2) - log(3))\n",
       "\n",
       "ค่าของ x จะได้จากการคำนวณส่วนของลอการิทึม\n",
       "\n",
       "โปรดทราบว่าค่าของ x ที่ได้อาจไม่ใช่ตัวเลขธรรมดา เนื่องจากสมการนี้ไม่มีคำตอบที่เป็นตัวเลขธรรมดา."
      ],
      "text/plain": [
       "<IPython.core.display.Markdown object>"
      ]
     },
     "execution_count": 20,
     "metadata": {},
     "output_type": "execute_result"
    }
   ],
   "source": [
    "prompt = \"\"\"2^(x - 5) = 3^(x+1) จงแก้สมการหาค่า x\"\"\"\n",
    "completion = complete(prompt, max_tokens=500)\n",
    "IPython.display.Markdown(completion.choices[0].message.content )"
   ]
  },
  {
   "cell_type": "code",
   "execution_count": null,
   "id": "57d342fb",
   "metadata": {},
   "outputs": [],
   "source": []
  },
  {
   "cell_type": "code",
   "execution_count": null,
   "id": "3feffe1d",
   "metadata": {
    "id": "S0acXBWCxiJL"
   },
   "outputs": [],
   "source": []
  },
  {
   "cell_type": "code",
   "execution_count": null,
   "id": "d382e37b",
   "metadata": {
    "id": "oaG3igwFxiQU"
   },
   "outputs": [],
   "source": []
  },
  {
   "cell_type": "code",
   "execution_count": null,
   "id": "14df7775",
   "metadata": {
    "id": "PzQJleyoxiWi"
   },
   "outputs": [],
   "source": []
  },
  {
   "cell_type": "markdown",
   "id": "fe6c7f1a",
   "metadata": {
    "id": "PFJd4PmsxjKb"
   },
   "source": [
    "![](https://deeplearningcourses.com/notebooks_v3_pxl?sc=AVRK7SgM9ASkQf5TAqs_wA&n=Chain+of+Thought)"
   ]
  }
 ],
 "metadata": {
  "kernelspec": {
   "display_name": "Python 3 (ipykernel)",
   "language": "python",
   "name": "python3"
  },
  "language_info": {
   "codemirror_mode": {
    "name": "ipython",
    "version": 3
   },
   "file_extension": ".py",
   "mimetype": "text/x-python",
   "name": "python",
   "nbconvert_exporter": "python",
   "pygments_lexer": "ipython3",
   "version": "3.12.3"
  },
  "sc": "AVRK7SgM9ASkQf5TAqs_wA"
 },
 "nbformat": 4,
 "nbformat_minor": 5
}
