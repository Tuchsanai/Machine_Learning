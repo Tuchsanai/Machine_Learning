{
 "cells": [
  {
   "cell_type": "markdown",
   "metadata": {},
   "source": [
    "# Pydantic BaseModel and Field Lab Tutorial\n",
    "\n",
    "## Overview\n",
    "This lab teaches you how to use Pydantic's `BaseModel` and `Field` for data validation, serialization, and creating robust data models in Python. Pydantic is essential for modern Python applications, especially APIs and data processing.\n",
    "\n",
    "\n"
   ]
  },
  {
   "cell_type": "code",
   "execution_count": 17,
   "metadata": {},
   "outputs": [
    {
     "name": "stdout",
     "output_type": "stream",
     "text": [
      "Notebook cleaned.\n"
     ]
    }
   ],
   "source": [
    "import IPython\n",
    "import sys\n",
    "\n",
    "def clean_notebook():\n",
    "    IPython.display.clear_output(wait=True)\n",
    "    print(\"Notebook cleaned.\")\n",
    "\n",
    "!pip install openai\n",
    "\n",
    "# Install Pydantic\n",
    "!pip install pydantic\n",
    "\n",
    "# Clean up the notebook\n",
    "clean_notebook()"
   ]
  },
  {
   "cell_type": "markdown",
   "metadata": {},
   "source": [
    "## 🧱 Part 1: Introduction to `BaseModel`\n",
    "\n",
    "`Pydantic BaseModel` คือ **คลาสหลัก**ที่ใช้ในไลบรารี [Pydantic](https://docs.pydantic.dev) สำหรับ **สร้างโมเดลข้อมูลในภาษา Python**  \n",
    "โดยมีความสามารถในการ:\n",
    "\n",
    "- ✅ ตรวจสอบความถูกต้องของข้อมูล (Data Validation)\n",
    "- 🔄 แปลงชนิดข้อมูลให้อัตโนมัติ (Parsing)\n",
    "\n",
    "---\n",
    "\n",
    "### ✏️ อธิบายสั้นๆ:\n",
    "> `BaseModel` คือแม่แบบสำหรับสร้างคลาสที่มีการกำหนดชนิดข้อมูล (type annotations) อย่างชัดเจน  \n",
    "> และจะตรวจสอบความถูกต้องของข้อมูลให้ทันทีเมื่อมีการสร้างอ็อบเจกต์\n",
    "\n",
    "---\n",
    "\n",
    "### 📦 ตัวอย่างการใช้งานเบื้องต้น:\n",
    "\n",
    "```python\n",
    "from pydantic import BaseModel\n",
    "\n",
    "class User(BaseModel):\n",
    "    name: str\n",
    "    age: int\n",
    "\n",
    "user = User(name=\"Alice\", age=30)        # ✅ ถูกต้อง\n",
    "user2 = User(name=\"Bob\", age=\"30\")       # ✅ แปลง string เป็น int อัตโนมัติ\n",
    "user3 = User(name=\"Tom\", age=\"abc\")      # ❌ Error: age ต้องเป็นตัวเลข\n"
   ]
  },
  {
   "cell_type": "markdown",
   "metadata": {},
   "source": [
    "### Exercise 1.1: Your First BaseModel\n",
    "Create a simple user model:"
   ]
  },
  {
   "cell_type": "code",
   "execution_count": 18,
   "metadata": {},
   "outputs": [
    {
     "name": "stdout",
     "output_type": "stream",
     "text": [
      "name='Alice' age=25 email='alice@example.com' is_active=True\n",
      "Name: Alice\n",
      "Dictionary: {'name': 'Alice', 'age': 25, 'email': 'alice@example.com', 'is_active': True}\n"
     ]
    }
   ],
   "source": [
    "from pydantic import BaseModel\n",
    "from typing import Optional\n",
    "\n",
    "class User(BaseModel):\n",
    "    name: str\n",
    "    age: int\n",
    "    email: str\n",
    "    is_active: bool = True  # Default value\n",
    "\n",
    "# Create an instance\n",
    "user = User(name=\"Alice\", age=25, email=\"alice@example.com\")\n",
    "print(user)\n",
    "print(f\"Name: {user.name}\")  # Access attributes\n",
    "print(f\"Dictionary: {user.model_dump()}\")  # Convert to dictionary"
   ]
  },
  {
   "cell_type": "markdown",
   "metadata": {},
   "source": [
    "### Exercise 1.2: Automatic Validation\n",
    "Try creating invalid data and see how Pydantic handles it:"
   ]
  },
  {
   "cell_type": "code",
   "execution_count": 19,
   "metadata": {},
   "outputs": [
    {
     "name": "stdout",
     "output_type": "stream",
     "text": [
      "Validation Error: 1 validation error for User\n",
      "age\n",
      "  Input should be a valid integer, unable to parse string as an integer [type=int_parsing, input_value='not a number', input_type=str]\n",
      "    For further information visit https://errors.pydantic.dev/2.10/v/int_parsing\n"
     ]
    }
   ],
   "source": [
    "# This will raise a ValidationError\n",
    "try:\n",
    "    invalid_user = User(name=\"Bob\", age=\"not a number\", email=\"bob@example.com\")\n",
    "except ValueError as e:\n",
    "    print(f\"Validation Error: {e}\")\n",
    "\n"
   ]
  },
  {
   "cell_type": "code",
   "execution_count": 20,
   "metadata": {},
   "outputs": [
    {
     "name": "stdout",
     "output_type": "stream",
     "text": [
      "name='Charlie' age=30 email='charlie@example.com' is_active=True\n",
      "Age: 30, Type: <class 'int'>\n"
     ]
    }
   ],
   "source": [
    "# This will work - Pydantic converts string to int\n",
    "valid_user = User(name=\"Charlie\", age=\"30\", email=\"charlie@example.com\")\n",
    "\n",
    "print(valid_user)\n",
    "print(f\"Age: {valid_user.age}, Type: {type(valid_user.age)}\")"
   ]
  },
  {
   "cell_type": "markdown",
   "metadata": {},
   "source": [
    "## Part 2: Introduction to Field\n",
    "\n",
    "### What is Field?\n",
    "Field allows you to add validation rules, default values, descriptions, and constraints to your model attributes."
   ]
  },
  {
   "cell_type": "markdown",
   "metadata": {},
   "source": [
    "### Exercise 2.1: Basic Field Usage"
   ]
  },
  {
   "cell_type": "code",
   "execution_count": 21,
   "metadata": {},
   "outputs": [
    {
     "name": "stdout",
     "output_type": "stream",
     "text": [
      "name='Laptop' price=999.99 quantity=5 category='electronics'\n",
      "\n",
      "Field schema: {'properties': {'name': {'description': 'Product name', 'maxLength': 100, 'minLength': 1, 'title': 'Name', 'type': 'string'}, 'price': {'description': 'Price must be positive', 'exclusiveMinimum': 0.0, 'title': 'Price', 'type': 'number'}, 'quantity': {'default': 0, 'description': 'Quantity in stock', 'minimum': 0, 'title': 'Quantity', 'type': 'integer'}, 'category': {'default': 'general', 'description': 'Product category', 'title': 'Category', 'type': 'string'}}, 'required': ['name', 'price'], 'title': 'Product', 'type': 'object'}\n"
     ]
    }
   ],
   "source": [
    "from pydantic import BaseModel, Field\n",
    "\n",
    "class Product(BaseModel):\n",
    "    name: str = Field(..., min_length=1, max_length=100, description=\"Product name\")\n",
    "    price: float = Field(..., gt=0, description=\"Price must be positive\")\n",
    "    quantity: int = Field(default=0, ge=0, description=\"Quantity in stock\")\n",
    "    category: str = Field(\"general\", description=\"Product category\")\n",
    "\n",
    "# Create a product\n",
    "product = Product(name=\"Laptop\", price=999.99, quantity=5, category=\"electronics\")\n",
    "print(product)\n",
    "print(f\"\\nField schema: {Product.model_json_schema()}\")"
   ]
  },
  {
   "cell_type": "markdown",
   "metadata": {},
   "source": [
    "**Field Parameters:**\n",
    "- `...` (Ellipsis): Required field\n",
    "- `default`: Default value\n",
    "- `gt`, `ge`, `lt`, `le`: Greater than, greater/equal, less than, less/equal\n",
    "- `min_length`, `max_length`: String length constraints\n",
    "- `description`: Field description for documentation"
   ]
  },
  {
   "cell_type": "markdown",
   "metadata": {},
   "source": [
    "## Part 3: Practical Examples"
   ]
  },
  {
   "cell_type": "markdown",
   "metadata": {},
   "source": [
    "### Exercise 3.1: API Response Model\n",
    "Create a model for handling API responses:"
   ]
  },
  {
   "cell_type": "markdown",
   "metadata": {},
   "source": [
    "โค้ดนี้ใช้ไลบรารี Pydantic เพื่อสร้าง model สำหรับการตอบกลับ API (API Response) โดยกำหนดชนิดข้อมูลและเงื่อนไขของแต่ละฟิลด์อย่างชัดเจน เพื่อให้มั่นใจว่าโครงสร้างข้อมูลถูกต้องและปลอดภัย\n",
    "\n"
   ]
  },
  {
   "cell_type": "code",
   "execution_count": 22,
   "metadata": {},
   "outputs": [
    {
     "name": "stdout",
     "output_type": "stream",
     "text": [
      "{'success': True, 'message': 'Data retrieved successfully', 'data': {'users': [{'id': 1, 'name': 'Alice'}]}, 'timestamp': datetime.datetime(2025, 7, 4, 12, 38, 18, 22385), 'errors': []}\n"
     ]
    }
   ],
   "source": [
    "from pydantic import BaseModel, Field\n",
    "from typing import List, Optional\n",
    "from datetime import datetime\n",
    "\n",
    "class APIResponse(BaseModel):\n",
    "    success: bool = Field(default=True)\n",
    "    message: str = Field(..., max_length=500)\n",
    "    data: Optional[dict] = None\n",
    "    timestamp: datetime = Field(default_factory=datetime.now)\n",
    "    errors: List[str] = Field(default_factory=list)\n",
    "\n",
    "# Usage\n",
    "response = APIResponse(\n",
    "    message=\"Data retrieved successfully\",\n",
    "    data={\"users\": [{\"id\": 1, \"name\": \"Alice\"}]}\n",
    ")\n",
    "print(response.model_dump())\n"
   ]
  },
  {
   "cell_type": "markdown",
   "metadata": {},
   "source": [
    "ตัวอย่างการสร้าง error response ด้วยโมเดล APIResponse ที่กำหนดไว้ก่อนหน้า โดยใช้สำหรับตอบกลับในกรณีที่เกิดข้อผิดพลาด (เช่น validation ผิดพลาด)\n",
    "\n"
   ]
  },
  {
   "cell_type": "code",
   "execution_count": 23,
   "metadata": {},
   "outputs": [
    {
     "name": "stdout",
     "output_type": "stream",
     "text": [
      "\n",
      "Error response:\n",
      "{'success': False, 'message': 'Validation failed', 'data': None, 'timestamp': datetime.datetime(2025, 7, 4, 12, 38, 18, 33262), 'errors': ['Invalid email format', 'Password too short']}\n"
     ]
    }
   ],
   "source": [
    "\n",
    "# Error response\n",
    "error_response = APIResponse(\n",
    "    success=False,\n",
    "    message=\"Validation failed\",\n",
    "    errors=[\"Invalid email format\", \"Password too short\"]\n",
    ")\n",
    "print(\"\\nError response:\")\n",
    "print(error_response.model_dump())"
   ]
  },
  {
   "cell_type": "markdown",
   "metadata": {},
   "source": [
    "### Exercise 4.: Model Inheritance"
   ]
  },
  {
   "cell_type": "markdown",
   "metadata": {},
   "source": [
    "โค้ดนี้เป็นการออกแบบ Data Model สำหรับระบบฐานข้อมูลหรือ API โดยใช้ Pydantic เพื่อกำหนดโครงสร้างของ User และ Product โดยมี BaseEntity เป็นคลาสฐานที่แชร์ฟิลด์ร่วมกัน เช่น id, created_at, และ updated_at"
   ]
  },
  {
   "cell_type": "code",
   "execution_count": 24,
   "metadata": {},
   "outputs": [
    {
     "name": "stdout",
     "output_type": "stream",
     "text": [
      "User: id=1 created_at=datetime.datetime(2025, 7, 4, 12, 38, 18, 43734) updated_at=datetime.datetime(2025, 7, 4, 12, 38, 18, 43737) name='Alice' email='alice@example.com'\n",
      "\n",
      "Product: id=1 created_at=datetime.datetime(2025, 7, 4, 12, 38, 18, 43757) updated_at=datetime.datetime(2025, 7, 4, 12, 38, 18, 43758) name='Laptop' price=999.99 category='Electronics'\n",
      "\n",
      "User created at: 2025-07-04 12:38:18.043734\n",
      "Product created at: 2025-07-04 12:38:18.043757\n"
     ]
    }
   ],
   "source": [
    "from pydantic import BaseModel, Field\n",
    "from datetime import datetime\n",
    "\n",
    "class BaseEntity(BaseModel):\n",
    "    id: int = Field(..., ge=1)\n",
    "    created_at: datetime = Field(default_factory=datetime.now)\n",
    "    updated_at: datetime = Field(default_factory=datetime.now)\n",
    "\n",
    "class User(BaseEntity):\n",
    "    name: str = Field(..., min_length=1)\n",
    "    email: str = Field(...)\n",
    "\n",
    "class Product(BaseEntity):\n",
    "    name: str = Field(..., min_length=1)\n",
    "    price: float = Field(..., gt=0)\n",
    "    category: str = Field(...)\n",
    "\n",
    "# Usage\n",
    "user = User(id=1, name=\"Alice\", email=\"alice@example.com\")\n",
    "product = Product(id=1, name=\"Laptop\", price=999.99, category=\"Electronics\")\n",
    "\n",
    "print(\"User:\", user)\n",
    "print(\"\\nProduct:\", product)\n",
    "print(f\"\\nUser created at: {user.created_at}\")\n",
    "print(f\"Product created at: {product.created_at}\")"
   ]
  },
  {
   "cell_type": "markdown",
   "metadata": {},
   "source": [
    "### Exercise 5:   Configuration Design using Pydantic (with field_validator)\n",
    "Create a configuration model for an application:"
   ]
  },
  {
   "cell_type": "markdown",
   "metadata": {},
   "source": [
    "โค้ดนี้สร้างโมเดลการตั้งค่าแอปพลิเคชันโดยใช้ Pydantic เพื่อทำ validation, จัดโครงสร้างข้อมูล, และตรวจสอบความถูกต้องของค่า config เช่น ข้อมูลฐานข้อมูล และพารามิเตอร์ทั่วไปของแอป"
   ]
  },
  {
   "cell_type": "code",
   "execution_count": 25,
   "metadata": {},
   "outputs": [
    {
     "name": "stdout",
     "output_type": "stream",
     "text": [
      "{'app_name': 'MyApp', 'debug': False, 'allowed_hosts': ['localhost', '127.0.0.1'], 'database': {'host': 'localhost', 'port': 5432, 'database': 'myapp_db', 'username': 'admin', 'password': 'SecurePass123'}, 'max_connections': 100}\n"
     ]
    }
   ],
   "source": [
    "from pydantic import BaseModel, Field, field_validator\n",
    "from typing import List\n",
    "\n",
    "class DatabaseConfig(BaseModel):\n",
    "    host: str = Field(..., min_length=1)\n",
    "    port: int = Field(default=5432, ge=1, le=65535)\n",
    "    database: str = Field(..., min_length=1)\n",
    "    username: str = Field(..., min_length=1)\n",
    "    password: str = Field(..., min_length=8)\n",
    "    \n",
    "    @field_validator('password')\n",
    "    def validate_password(cls, v):\n",
    "        if not any(c.isupper() for c in v):\n",
    "            raise ValueError('Password must contain uppercase letter')\n",
    "        if not any(c.islower() for c in v):\n",
    "            raise ValueError('Password must contain lowercase letter')\n",
    "        if not any(c.isdigit() for c in v):\n",
    "            raise ValueError('Password must contain digit')\n",
    "        return v\n",
    "\n",
    "class AppConfig(BaseModel):\n",
    "    app_name: str = Field(..., min_length=1)\n",
    "    debug: bool = Field(default=False)\n",
    "    allowed_hosts: List[str] = Field(default_factory=list)\n",
    "    database: DatabaseConfig\n",
    "    max_connections: int = Field(default=100, ge=1, le=1000)\n",
    "\n",
    "# Usage\n",
    "config = AppConfig(\n",
    "    app_name=\"MyApp\",\n",
    "    database=DatabaseConfig(\n",
    "        host=\"localhost\",\n",
    "        database=\"myapp_db\",\n",
    "        username=\"admin\",\n",
    "        password=\"SecurePass123\"\n",
    "    ),\n",
    "    allowed_hosts=[\"localhost\", \"127.0.0.1\"]\n",
    ")\n",
    "print(config.model_dump())"
   ]
  },
  {
   "cell_type": "markdown",
   "metadata": {},
   "source": [
    "## Part 5: LAB computed fields อัตโนมัติ"
   ]
  },
  {
   "cell_type": "markdown",
   "metadata": {},
   "source": [
    "###  E-commerce Order System\n",
    "โค้ดนี้ใช้ pydantic เพื่อสร้างโมเดลข้อมูลของระบบจัดการคำสั่งซื้อ (Order Management System) โดยมีการตรวจสอบความถูกต้องของข้อมูล (validation) และคำนวณค่ารวม (computed fields) อัตโนมัติ"
   ]
  },
  {
   "cell_type": "code",
   "execution_count": 26,
   "metadata": {},
   "outputs": [],
   "source": [
    "from pydantic import BaseModel, Field, field_validator, computed_field\n",
    "from typing import List, Optional\n",
    "from datetime import datetime\n",
    "from enum import Enum\n",
    "\n",
    "class OrderStatus(str, Enum):\n",
    "    PENDING = \"pending\"\n",
    "    CONFIRMED = \"confirmed\"\n",
    "    SHIPPED = \"shipped\"\n",
    "    DELIVERED = \"delivered\"\n",
    "    CANCELLED = \"cancelled\"\n",
    "\n",
    "class OrderItem(BaseModel):\n",
    "    product_id: int = Field(..., ge=1)\n",
    "    product_name: str = Field(..., min_length=1)\n",
    "    quantity: int = Field(..., ge=1)\n",
    "    unit_price: float = Field(..., gt=0)\n",
    "    \n",
    "    @computed_field\n",
    "    @property\n",
    "    def total_price(self) -> float:\n",
    "        return self.quantity * self.unit_price\n",
    "\n",
    "class Order(BaseModel):\n",
    "    order_id: str = Field(..., pattern=r'^ORD\\d{6}$')\n",
    "    customer_email: str = Field(...)\n",
    "    items: List[OrderItem] = Field(..., min_length=1)\n",
    "    status: OrderStatus = Field(default=OrderStatus.PENDING)\n",
    "    order_date: datetime = Field(default_factory=datetime.now)\n",
    "    shipping_address: str = Field(..., min_length=10)\n",
    "    \n",
    "    @field_validator('customer_email')\n",
    "    def validate_email(cls, v):\n",
    "        if '@' not in v or '.' not in v:\n",
    "            raise ValueError('Invalid email format')\n",
    "        return v.lower()\n",
    "    \n",
    "    @computed_field\n",
    "    @property\n",
    "    def total_amount(self) -> float:\n",
    "        return sum(item.total_price for item in self.items)\n"
   ]
  },
  {
   "cell_type": "code",
   "execution_count": 27,
   "metadata": {},
   "outputs": [],
   "source": [
    "\n",
    "# Test your implementation\n",
    "order = Order(\n",
    "    order_id=\"ORD123456\",\n",
    "    customer_email=\"customer@example.com\",\n",
    "    items=[\n",
    "        OrderItem(product_id=1, product_name=\"Laptop\", quantity=1, unit_price=999.99),\n",
    "        OrderItem(product_id=2, product_name=\"Mouse\", quantity=2, unit_price=25.99)\n",
    "    ],\n",
    "    shipping_address=\"123 Main St, City, State 12345\"\n",
    ")\n"
   ]
  },
  {
   "cell_type": "code",
   "execution_count": 28,
   "metadata": {},
   "outputs": [
    {
     "name": "stdout",
     "output_type": "stream",
     "text": [
      "order_id='ORD123456' customer_email='customer@example.com' items=[OrderItem(product_id=1, product_name='Laptop', quantity=1, unit_price=999.99, total_price=999.99), OrderItem(product_id=2, product_name='Mouse', quantity=2, unit_price=25.99, total_price=51.98)] status=<OrderStatus.PENDING: 'pending'> order_date=datetime.datetime(2025, 7, 4, 12, 38, 18, 63034) shipping_address='123 Main St, City, State 12345' total_amount=1051.97\n"
     ]
    }
   ],
   "source": [
    "print(order)"
   ]
  },
  {
   "cell_type": "code",
   "execution_count": 29,
   "metadata": {},
   "outputs": [
    {
     "name": "stdout",
     "output_type": "stream",
     "text": [
      "Order Total: $1051.97\n"
     ]
    }
   ],
   "source": [
    "print(f\"Order Total: ${order.total_amount:.2f}\")"
   ]
  },
  {
   "cell_type": "code",
   "execution_count": 30,
   "metadata": {},
   "outputs": [
    {
     "name": "stdout",
     "output_type": "stream",
     "text": [
      "Order Total: $1051.97\n",
      "\n",
      "Order Details:\n",
      "- Laptop: 1 x $999.99 = $999.99\n",
      "- Mouse: 2 x $25.99 = $51.98\n",
      "\n",
      "Full Order: {'order_id': 'ORD123456', 'customer_email': 'customer@example.com', 'items': [{'product_id': 1, 'product_name': 'Laptop', 'quantity': 1, 'unit_price': 999.99, 'total_price': 999.99}, {'product_id': 2, 'product_name': 'Mouse', 'quantity': 2, 'unit_price': 25.99, 'total_price': 51.98}], 'status': <OrderStatus.PENDING: 'pending'>, 'order_date': datetime.datetime(2025, 7, 4, 12, 38, 18, 63034), 'shipping_address': '123 Main St, City, State 12345', 'total_amount': 1051.97}\n"
     ]
    }
   ],
   "source": [
    "\n",
    "print(f\"Order Total: ${order.total_amount:.2f}\")\n",
    "print(f\"\\nOrder Details:\")\n",
    "for item in order.items:\n",
    "    print(f\"- {item.product_name}: {item.quantity} x ${item.unit_price} = ${item.total_price}\")\n",
    "    \n",
    "print(f\"\\nFull Order: {order.model_dump()}\")"
   ]
  },
  {
   "cell_type": "markdown",
   "metadata": {},
   "source": [
    "### Challenge 2: Student Grade Management\n",
    "Create a system to manage student grades:"
   ]
  },
  {
   "cell_type": "code",
   "execution_count": 31,
   "metadata": {},
   "outputs": [],
   "source": [
    "from pydantic import BaseModel, Field, field_validator, computed_field\n",
    "from typing import List, Dict, Optional\n",
    "from datetime import datetime\n",
    "\n",
    "class Grade(BaseModel):\n",
    "    subject: str = Field(..., min_length=1)\n",
    "    score: float = Field(..., ge=0, le=100)\n",
    "    max_score: float = Field(default=100, gt=0)\n",
    "    date: datetime = Field(default_factory=datetime.now)\n",
    "    \n",
    "    @computed_field\n",
    "    @property\n",
    "    def percentage(self) -> float:\n",
    "        return (self.score / self.max_score) * 100\n",
    "    \n",
    "    @computed_field\n",
    "    @property\n",
    "    def letter_grade(self) -> str:\n",
    "        pct = self.percentage\n",
    "        if pct >= 90: return \"A\"\n",
    "        elif pct >= 80: return \"B\"\n",
    "        elif pct >= 70: return \"C\"\n",
    "        elif pct >= 60: return \"D\"\n",
    "        else: return \"F\"\n",
    "\n",
    "class Student(BaseModel):\n",
    "    student_id: str = Field(..., pattern=r'^STU\\d{6}$')\n",
    "    name: str = Field(..., min_length=1)\n",
    "    email: str = Field(...)\n",
    "    grades: List[Grade] = Field(default_factory=list)\n",
    "    \n",
    "    @field_validator('email')\n",
    "    def validate_email(cls, v):\n",
    "        if '@' not in v:\n",
    "            raise ValueError('Invalid email format')\n",
    "        return v.lower()\n",
    "    \n",
    "    def add_grade(self, grade: Grade):\n",
    "        self.grades.append(grade)\n",
    "    \n",
    "    @computed_field\n",
    "    @property\n",
    "    def gpa(self) -> float:\n",
    "        if not self.grades:\n",
    "            return 0.0\n",
    "        \n",
    "        grade_points = {\"A\": 4.0, \"B\": 3.0, \"C\": 2.0, \"D\": 1.0, \"F\": 0.0}\n",
    "        total_points = sum(grade_points[grade.letter_grade] for grade in self.grades)\n",
    "        return total_points / len(self.grades)\n"
   ]
  },
  {
   "cell_type": "code",
   "execution_count": 32,
   "metadata": {},
   "outputs": [],
   "source": [
    "\n",
    "# Test your implementation\n",
    "student = Student(\n",
    "    student_id=\"STU123456\",\n",
    "    name=\"Alice Johnson\",\n",
    "    email=\"alice.johnson@school.edu\"\n",
    ")\n",
    "\n",
    "student.add_grade(Grade(subject=\"Mathematics\", score=85))\n",
    "student.add_grade(Grade(subject=\"Science\", score=92))\n",
    "student.add_grade(Grade(subject=\"English\", score=78))\n"
   ]
  },
  {
   "cell_type": "code",
   "execution_count": 33,
   "metadata": {},
   "outputs": [
    {
     "name": "stdout",
     "output_type": "stream",
     "text": [
      "Student: Alice Johnson\n",
      "GPA: 3.00\n",
      "\n",
      "Grades:\n",
      "- Mathematics: 85.0/100 (B) - 85.0%\n",
      "- Science: 92.0/100 (A) - 92.0%\n",
      "- English: 78.0/100 (C) - 78.0%\n",
      "\n",
      "Full Student Record: {'student_id': 'STU123456', 'name': 'Alice Johnson', 'email': 'alice.johnson@school.edu', 'grades': [{'subject': 'Mathematics', 'score': 85.0, 'max_score': 100, 'date': datetime.datetime(2025, 7, 4, 12, 38, 18, 113273), 'percentage': 85.0, 'letter_grade': 'B'}, {'subject': 'Science', 'score': 92.0, 'max_score': 100, 'date': datetime.datetime(2025, 7, 4, 12, 38, 18, 113290), 'percentage': 92.0, 'letter_grade': 'A'}, {'subject': 'English', 'score': 78.0, 'max_score': 100, 'date': datetime.datetime(2025, 7, 4, 12, 38, 18, 113306), 'percentage': 78.0, 'letter_grade': 'C'}], 'gpa': 3.0}\n"
     ]
    }
   ],
   "source": [
    "\n",
    "print(f\"Student: {student.name}\")\n",
    "print(f\"GPA: {student.gpa:.2f}\")\n",
    "print(\"\\nGrades:\")\n",
    "for grade in student.grades:\n",
    "    print(f\"- {grade.subject}: {grade.score}/100 ({grade.letter_grade}) - {grade.percentage:.1f}%\")\n",
    "\n",
    "print(f\"\\nFull Student Record: {student.model_dump()}\")"
   ]
  }
 ],
 "metadata": {
  "kernelspec": {
   "display_name": "torch",
   "language": "python",
   "name": "python3"
  },
  "language_info": {
   "codemirror_mode": {
    "name": "ipython",
    "version": 3
   },
   "file_extension": ".py",
   "mimetype": "text/x-python",
   "name": "python",
   "nbconvert_exporter": "python",
   "pygments_lexer": "ipython3",
   "version": "3.12.7"
  }
 },
 "nbformat": 4,
 "nbformat_minor": 4
}
