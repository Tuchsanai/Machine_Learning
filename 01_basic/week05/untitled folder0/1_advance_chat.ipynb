{
 "cells": [
  {
   "attachments": {},
   "cell_type": "markdown",
   "metadata": {},
   "source": [
    "# Getting Started with Prompt Engineering\n"
   ]
  },
  {
   "attachments": {},
   "cell_type": "markdown",
   "metadata": {},
   "source": [
    "---"
   ]
  },
  {
   "attachments": {},
   "cell_type": "markdown",
   "metadata": {},
   "source": [
    "\n",
    "https://github.com/dair-ai/Prompt-Engineering-Guide/blob/main/guides/prompts-advanced-usage.md"
   ]
  },
  {
   "attachments": {},
   "cell_type": "markdown",
   "metadata": {},
   "source": [
    "Below we are loading the necessary libraries, utilities, and configurations."
   ]
  },
  {
   "cell_type": "code",
   "execution_count": 5,
   "metadata": {},
   "outputs": [
    {
     "name": "stdout",
     "output_type": "stream",
     "text": [
      "Notebook cleaned.\n"
     ]
    }
   ],
   "source": [
    "import IPython\n",
    "import sys\n",
    "\n",
    "def clean_notebook():\n",
    "    IPython.display.clear_output(wait=True)\n",
    "    print(\"Notebook cleaned.\")\n",
    "\n",
    "!pip install openai\n",
    "!pip install gradio\n",
    "\n",
    "# Clean up the notebook\n",
    "clean_notebook()"
   ]
  },
  {
   "cell_type": "code",
   "execution_count": null,
   "metadata": {},
   "outputs": [],
   "source": [
    "%%writefile .env\n",
    "OPENAI_API_KEY=your_api_key_here\n",
    "OPENTYPHOON_API_KEY=api_key_here"
   ]
  },
  {
   "cell_type": "code",
   "execution_count": 1,
   "metadata": {},
   "outputs": [
    {
     "data": {
      "text/plain": [
       "True"
      ]
     },
     "execution_count": 1,
     "metadata": {},
     "output_type": "execute_result"
    }
   ],
   "source": [
    "import os\n",
    "from openai import OpenAI\n",
    "from dotenv import load_dotenv\n",
    "\n",
    "# Load environment variables\n",
    "load_dotenv()"
   ]
  },
  {
   "cell_type": "code",
   "execution_count": 5,
   "metadata": {},
   "outputs": [],
   "source": [
    "import os\n",
    "from openai import OpenAI\n",
    "\n",
    "#openai_client = OpenAI(api_key=os.getenv(\"OPENAI_API_KEY\"))\n",
    "#model_name = \"gpt-3.5-turbo\"    \n",
    "\n",
    "openai_client = OpenAI(api_key=os.environ.get(\"OPENTYPHOON_API_KEY\"),base_url=\"https://api.opentyphoon.ai/v1\")\n",
    "model_name = \"typhoon-instruct\""
   ]
  },
  {
   "cell_type": "code",
   "execution_count": 8,
   "metadata": {},
   "outputs": [],
   "source": [
    "import IPython\n",
    "\n",
    "def complete(user_prompt, max_tokens=300):\n",
    "    completion = openai_client.chat.completions.create(\n",
    "        model=model_name ,\n",
    "        messages=[\n",
    "            {\"role\": \"user\", \"content\": user_prompt},\n",
    "        ],\n",
    "        temperature=0,\n",
    "        max_tokens=max_tokens,\n",
    "    )\n",
    "    return completion"
   ]
  },
  {
   "attachments": {},
   "cell_type": "markdown",
   "metadata": {},
   "source": [
    "Exercise: Instruct the model to explain the paragraph in one sentence like \"I am 5\". Do you see any differences?"
   ]
  },
  {
   "attachments": {},
   "cell_type": "markdown",
   "metadata": {},
   "source": [
    "###  Question Answering"
   ]
  },
  {
   "cell_type": "code",
   "execution_count": 9,
   "metadata": {},
   "outputs": [
    {
     "data": {
      "text/markdown": [
       "OKT3 แต่เดิมได้มาจากหนู"
      ],
      "text/plain": [
       "<IPython.core.display.Markdown object>"
      ]
     },
     "execution_count": 9,
     "metadata": {},
     "output_type": "execute_result"
    }
   ],
   "source": [
    "prompt = \"\"\"ตอบคำถามต่อไปนี้ตามบริบทด้านล่าง ตอบให้สั้นและกระชับ ถ้าไม่แน่ใจคำตอบให้ตอบว่า \"ไม่แน่ใจคำตอบ\"\n",
    "บริบท: Teplizumab มีจุดกำเนิดมาจากบริษัทยาในรัฐนิวเจอร์ซีย์ชื่อ Ortho Pharmaceutical ที่นั่น นักวิทยาศาสตร์ได้สร้างแอนติบอดีรุ่นแรกที่เรียกว่า OKT3 ซึ่งแต่เดิมได้มาจากหนู โมเลกุลนี้สามารถจับกับพื้นผิวของเซลล์ T และจำกัดศักยภาพในการฆ่าเซลล์ได้ ในปี 1986 ได้รับการอนุมัติให้ใช้ป้องกันการปฏิเสธอวัยวะหลังการปลูกถ่ายไต ทำให้เป็นแอนติบอดีเพื่อการรักษาตัวแรกที่ได้รับอนุญาตให้ใช้ในมนุษย์\n",
    "Question : OKT3 ได้มาจากอะไรแต่เดิม\n",
    "Answer:\"\"\"\n",
    "\n",
    "\n",
    "completion = complete(prompt)\n",
    "IPython.display.Markdown(completion.choices[0].message.content )"
   ]
  },
  {
   "attachments": {},
   "cell_type": "markdown",
   "metadata": {},
   "source": [
    "Context obtained from here: https://www.nature.com/articles/d41586-023-00400-x"
   ]
  },
  {
   "attachments": {},
   "cell_type": "markdown",
   "metadata": {},
   "source": [
    "Exercise: Edit prompt and get the model to respond that it isn't sure about the answer. "
   ]
  },
  {
   "attachments": {},
   "cell_type": "markdown",
   "metadata": {},
   "source": [
    "### Text Classification"
   ]
  },
  {
   "cell_type": "code",
   "execution_count": 10,
   "metadata": {},
   "outputs": [
    {
     "data": {
      "text/markdown": [
       "Neutral."
      ],
      "text/plain": [
       "<IPython.core.display.Markdown object>"
      ]
     },
     "execution_count": 10,
     "metadata": {},
     "output_type": "execute_result"
    }
   ],
   "source": [
    "prompt = \"\"\"Classify the text into neutral, negative or positive.\n",
    "\n",
    "Text: I think the food was okay.\n",
    "\n",
    "Sentiment:\"\"\"\n",
    "\n",
    "\n",
    "completion = complete(prompt)\n",
    "IPython.display.Markdown(completion.choices[0].message.content )"
   ]
  },
  {
   "attachments": {},
   "cell_type": "markdown",
   "metadata": {},
   "source": [
    "Exercise: Modify the prompt to instruct the model to provide an explanation to the answer selected. "
   ]
  },
  {
   "attachments": {},
   "cell_type": "markdown",
   "metadata": {},
   "source": [
    "###  Role Playing"
   ]
  },
  {
   "cell_type": "code",
   "execution_count": 11,
   "metadata": {},
   "outputs": [
    {
     "data": {
      "text/markdown": [
       "แน่นอนครับ! หลุมดำเกิดขึ้นจากการกระจายของดาวเนบิวลา (หรือดาวที่กำลังจะตาย) ที่มีมวลมากๆ เช่น ดาวที่มีขนาดใหญ่กว่าดวงอาทิตย์หลายเท่า เมื่อดาวเหล่านี้ใช้พลังงานในแกนจนหมด มันจะพังทลายลงมาและสร้างแรงโน้มถ่วงขั้นสูง ทำให้เกิดหลุมดำขึ้นมา หลุมดำมีแรงโน้มถ่วงมากจนกระทั่งไม่สามารถหนีออกไปได้ แม้กระทั่งแสงก็ไม่สามารถผ่านออกไปได้ หลุมดำจึงเป็นสิ่งที่เราไม่สามารถเห็นได้ด้วยตาเปล่า แต่เราสามารถรับรู้ได้ผ่านผลกระทบที่มันทำให้เกิดขึ้นกับแสงและวัตถุอื่นๆ ครับ"
      ],
      "text/plain": [
       "<IPython.core.display.Markdown object>"
      ]
     },
     "execution_count": 11,
     "metadata": {},
     "output_type": "execute_result"
    }
   ],
   "source": [
    "prompt = \"\"\"ต่อไปนี้เป็นบทสนทนากับผู้ช่วยวิจัย AI โทนเสียงของผู้ช่วยจะเป็นเชิงเทคนิคและวิทยาศาสตร์\n",
    "H: สวัสดี คุณเป็นใคร\n",
    "AI: สวัสดีครับ! ผมเป็นผู้ช่วยวิจัย AI วันนี้ผมจะช่วยอะไรคุณได้บ้าง\n",
    "Human: คุณเล่าเกี่ยวกับการก่อกำเนิดหลุมดำให้ฟังหน่อยได้ไหม\n",
    "AI:\"\"\"\n",
    "\n",
    "completion = complete(prompt)\n",
    "IPython.display.Markdown(completion.choices[0].message.content )"
   ]
  },
  {
   "attachments": {},
   "cell_type": "markdown",
   "metadata": {},
   "source": [
    "Exercise: Modify the prompt to instruct the model to keep AI responses concise and short."
   ]
  },
  {
   "attachments": {},
   "cell_type": "markdown",
   "metadata": {},
   "source": [
    "###  Code Generation"
   ]
  },
  {
   "cell_type": "code",
   "execution_count": 12,
   "metadata": {},
   "outputs": [
    {
     "data": {
      "text/markdown": [
       "คุณสามารถใช้คำสั่ง SQL ดังต่อไปนี้เพื่อดึงข้อมูลนักศึกษาทั้งหมดในภาควิชาวิทยาการคอมพิวเตอร์:\n",
       "\n",
       "```sql\n",
       "SELECT s.StudentId, s.StudentName \n",
       "FROM students s\n",
       "JOIN departments d ON s.DepartmentId = d.DepartmentId\n",
       "WHERE d.DepartmentName = 'วิทยาการคอมพิวเตอร';\n",
       "```\n",
       "\n",
       "คำสั่งนี้จะทำการเชื่อมตาราง \"students\" และ \"departments\" โดยใช้คีย์ร่วมระหว่าง DepartmentId ในทั้งสองตาราง จากนั้นจะกรองผลลัพธ์เพื่อแสดงเฉพาะนักศึกษาที่อยู่ในภาควิชาวิทยาการคอมพิวเตอร์."
      ],
      "text/plain": [
       "<IPython.core.display.Markdown object>"
      ]
     },
     "execution_count": 12,
     "metadata": {},
     "output_type": "execute_result"
    }
   ],
   "source": [
    "prompt = \"\"\"\\nTable departments, columns = [DepartmentId, DepartmentName]\\nTable students, columns = [DepartmentId, StudentId, StudentName]\\nสร้างคำสั่ง MySQL query เพื่อดึงข้อมูลนักศึกษาทั้งหมดในภาควิชาวิทยาการคอมพิวเตอร์\\n\"\"\"\n",
    "\n",
    "\n",
    "\n",
    "completion = complete(prompt, max_tokens=1000)\n",
    "IPython.display.Markdown(completion.choices[0].message.content )\n"
   ]
  },
  {
   "attachments": {},
   "cell_type": "markdown",
   "metadata": {},
   "source": [
    "Exercise: Improve the prompt to have a better structure and output format."
   ]
  },
  {
   "attachments": {},
   "cell_type": "markdown",
   "metadata": {},
   "source": [
    "## 2. Advanced Prompting Techniques\n",
    "\n",
    "Objectives:\n",
    "\n",
    "- Cover more advanced techniques for prompting: few-shot, chain-of-thoughts,..."
   ]
  },
  {
   "attachments": {},
   "cell_type": "markdown",
   "metadata": {},
   "source": [
    "### Few-shot prompts"
   ]
  },
  {
   "cell_type": "code",
   "execution_count": 13,
   "metadata": {},
   "outputs": [
    {
     "data": {
      "text/markdown": [
       "คำตอบคือ ใช่"
      ],
      "text/plain": [
       "<IPython.core.display.Markdown object>"
      ]
     },
     "execution_count": 13,
     "metadata": {},
     "output_type": "execute_result"
    }
   ],
   "source": [
    "prompt = \"\"\"เลขคี่ในกลุ่มนี้รวมกันแล้วได้ผลลัพธ์เป็นเลขคู่: 4, 8, 9, 15, 12, 2, 1\n",
    "A: คำตอบคือ ไม่ใช่\n",
    "เลขคี่ในกลุ่มนี้รวมกันแล้วได้ผลลัพธ์เป็นเลขคู่: 17,  10, 19, 4, 8, 12, 24\n",
    "A: คำตอบคือ ใช่\n",
    "เลขคี่ในกลุ่มนี้รวมกันแล้วได้ผลลัพธ์เป็นเลขคู่: 16,  11, 14, 4, 8, 13, 24\n",
    "A: คำตอบคือ ใช่\n",
    "เลขคี่ในกลุ่มนี้รวมกันแล้วได้ผลลัพธ์เป็นเลขคู่: 17,  9, 10, 12, 13, 4, 2\n",
    "A: คำตอบคือ ไม่ใช่\n",
    "เลขคี่ในกลุ่มนี้รวมกันแล้วได้ผลลัพธ์เป็นเลขคู่: 15, 32, 5, 13, 82, 7, 1\n",
    "A:\"\"\"\n",
    "\n",
    "\n",
    "\n",
    "completion = complete(prompt, max_tokens=1000)\n",
    "IPython.display.Markdown(completion.choices[0].message.content )\n"
   ]
  },
  {
   "attachments": {},
   "cell_type": "markdown",
   "metadata": {},
   "source": [
    "### 2.3 Chain-of-Thought (CoT) Prompting"
   ]
  },
  {
   "cell_type": "code",
   "execution_count": 14,
   "metadata": {},
   "outputs": [
    {
     "data": {
      "text/markdown": [
       "การบวกเลขคี่ทั้งหมด (15, 5, 13, 7, 1) จะได้ 41 ซึ่งเป็นเลขคี่ คำตอบคือ ไม่ใช่"
      ],
      "text/plain": [
       "<IPython.core.display.Markdown object>"
      ]
     },
     "execution_count": 14,
     "metadata": {},
     "output_type": "execute_result"
    }
   ],
   "source": [
    "prompt = \"\"\"เลขคี่ในกลุ่มนี้รวมกันแล้วได้ผลลัพธ์เป็นเลขคู่: 4, 8, 9, 15, 12, 2, 1\n",
    "A: การบวกเลขคี่ทั้งหมด (9, 15, 1) จะได้ 25 คำตอบคือ ไม่ใช่\n",
    "เลขคี่ในกลุ่มนี้รวมกันแล้วได้ผลลัพธ์เป็นเลขคู่: 15, 32, 5, 13, 82, 7, 1\n",
    "A:\"\"\"\n",
    "\n",
    "\n",
    "completion = complete(prompt, max_tokens=1000)\n",
    "IPython.display.Markdown(completion.choices[0].message.content )\n"
   ]
  },
  {
   "cell_type": "code",
   "execution_count": 15,
   "metadata": {},
   "outputs": [
    {
     "data": {
      "text/markdown": [
       "เรามาคิดดูกัน:\n",
       "\n",
       "1. เริ่มต้นด้วยแอปเปิ้ล 10 ผล\n",
       "2. ให้แอปเปิ้ล 2 ผลกับเพื่อนบ้าน, เหลือ 8 ผล\n",
       "3. ให้แอปเปิ้ล 2 ผลกับช่างซ่อม, เหลือ 6 ผล\n",
       "4. ไปซื้อแอปเปิ้ลเพิ่ม 5 ผล, รวมเป็น 11 ผล\n",
       "5. กินแอปเปิ้ล 1 ผล, เหลือ 10 ผล\n",
       "\n",
       "ดังนั้น, คุณยังมีแอปเปิ้ล 10 ผล"
      ],
      "text/plain": [
       "<IPython.core.display.Markdown object>"
      ]
     },
     "execution_count": 15,
     "metadata": {},
     "output_type": "execute_result"
    }
   ],
   "source": [
    "prompt = \"\"\"ฉันไปตลาดและซื้อแอปเปิ้ล 10 ผล ฉันให้แอปเปิ้ล 2 ผลกับเพื่อนบ้าน และอีก 2 ผลกับช่างซ่อม จากนั้นฉันไปซื้อแอปเปิ้ลเพิ่มอีก 5 ผล และกินไป 1 ผล ฉันเหลือแอปเปิ้ลกี่ผล มาคิดแบบเป็นขั้นตอนกัน\"\"\"\n",
    "\n",
    "\n",
    "completion = complete(prompt, max_tokens=1000)\n",
    "IPython.display.Markdown(completion.choices[0].message.content )\n"
   ]
  },
  {
   "attachments": {},
   "cell_type": "markdown",
   "metadata": {},
   "source": [
    "---"
   ]
  }
 ],
 "metadata": {
  "kernelspec": {
   "display_name": "promptlecture",
   "language": "python",
   "name": "python3"
  },
  "language_info": {
   "codemirror_mode": {
    "name": "ipython",
    "version": 3
   },
   "file_extension": ".py",
   "mimetype": "text/x-python",
   "name": "python",
   "nbconvert_exporter": "python",
   "pygments_lexer": "ipython3",
   "version": "3.10.13"
  },
  "orig_nbformat": 4,
  "vscode": {
   "interpreter": {
    "hash": "f38e0373277d6f71ee44ee8fea5f1d408ad6999fda15d538a69a99a1665a839d"
   }
  }
 },
 "nbformat": 4,
 "nbformat_minor": 2
}
